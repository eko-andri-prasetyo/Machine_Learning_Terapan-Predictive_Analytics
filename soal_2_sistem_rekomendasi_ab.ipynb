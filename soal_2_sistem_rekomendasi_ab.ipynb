{
  "nbformat": 4,
  "nbformat_minor": 0,
  "metadata": {
    "colab": {
      "provenance": [],
      "include_colab_link": true
    },
    "kernelspec": {
      "name": "python3",
      "display_name": "Python 3"
    },
    "language_info": {
      "name": "python"
    }
  },
  "cells": [
    {
      "cell_type": "markdown",
      "metadata": {
        "id": "view-in-github",
        "colab_type": "text"
      },
      "source": [
        "<a href=\"https://colab.research.google.com/github/eko-andri-prasetyo/Machine_Learning_Terapan-Predictive_Analytics/blob/main/soal_2_sistem_rekomendasi_ab.ipynb\" target=\"_parent\"><img src=\"https://colab.research.google.com/assets/colab-badge.svg\" alt=\"Open In Colab\"/></a>"
      ]
    },
    {
      "cell_type": "markdown",
      "source": [
        "# PERHATIAN!\n",
        "\n",
        "Soal yang Anda kerjakan akan dinilai secara otomatis oleh sistem dari Dicoding. Oleh karena itu, Anda **tidak diperbolehkan mengubah nama fungsi yang sudah ditentukan** karena hal tersebut dapat memengaruhi proses penilaian.\n",
        "\n",
        "Pastikan Anda membaca dan memperhatikan setiap instruksi dengan saksama serta menuliskan kode di antara tanda komentar yang telah disediakan.\n",
        "\n",
        "> **# MULAI KODE DI SINI**\n",
        "\n",
        "\n",
        "> **# AKHIRI KODE DI SINI**\n",
        "\n",
        "---\n",
        "Selain itu, Anda **tidak diperkenankan menggunakan *library* di luar yang telah ditentukan**. Seluruh soal telah dirancang agar dapat diselesaikan dengan *library* yang tersedia."
      ],
      "metadata": {
        "id": "TXiNyEaaJBD4"
      }
    },
    {
      "cell_type": "markdown",
      "source": [
        "# A/B Testing\n",
        "\n",
        "Anda telah mempelajari teori A/B testing pada modul khusus di kelas **Belajar Matematika untuk Data Science**. Pada bagian ini, Anda akan mengimplementasikan uji hipotesis melalui sebuah studi kasus A/B testing.\n",
        "\n",
        "Namun, skenario yang digunakan berbeda dari contoh dalam modul tersebut.\n",
        "\n",
        "---\n",
        "\n",
        "Bayangkan Anda sedang mengembangkan sebuah website pribadi yang menyajikan berbagai artikel blog tentang teknologi terkini. Selain menyediakan konten bacaan, Anda juga menambahkan sistem rekomendasi artikel untuk menyarankan konten lain setelah pembaca menyelesaikan satu artikel.\n",
        "\n",
        "Setelah beberapa waktu berjalan, Anda ingin mengetahui apakah penambahan fitur rekomendasi artikel di akhir halaman dapat mendorong pengguna untuk membaca lebih banyak artikel. Untuk menjawab pertanyaan tersebut, Anda memutuskan untuk menjalankan A/B testing selama 20 hari.\n",
        "\n",
        "Metrik utama yang digunakan dalam pengujian ini adalah `articles_read`, yaitu jumlah artikel yang dibaca oleh pengguna dalam satu sesi. Anda akan membagi pengguna dalam dua kelompok pengujian.\n",
        "\n",
        "* **Origin**: Kelompok yang tidak melihat fitur rekomendasi artikel (tampilan standar).\n",
        "* **Varian**: Kelompok yang melihat tampilan dengan fitur rekomendasi artikel."
      ],
      "metadata": {
        "id": "efcXWiBNJHDz"
      }
    },
    {
      "cell_type": "code",
      "execution_count": 1,
      "metadata": {
        "id": "1rciCpRtI5Ro"
      },
      "outputs": [],
      "source": [
        "# TIDAK DIPERBOLEHKAN MENGGUNAKAN LIBRARY LAIN\n",
        "\n",
        "import math, random, string\n",
        "import numpy as np\n",
        "import pandas as pd\n",
        "import scipy.stats as stats\n",
        "\n",
        "from dataclasses import dataclass"
      ]
    },
    {
      "cell_type": "markdown",
      "source": [
        "## Tugas 1: Menghasilkan Data Acak\n",
        "\n",
        "Sebelum memulai proses pengujian, Anda perlu membuat data acak yang merepresentasikan pengguna yang mengunjungi website Anda.\n",
        "\n",
        "**INGAT! TIDAK DIPERKENANKAN** untuk mengubah nama fungsi yang sudah didefinisikan."
      ],
      "metadata": {
        "id": "BTGAelkYrZfp"
      }
    },
    {
      "cell_type": "markdown",
      "source": [
        "## Membuat ID Acak\n",
        "\n",
        "Kami telah menyiapkan fungsi khusus untuk menghasilkan ID acak, guna memastikan konsistensi output yang diharapkan.\n",
        "Fungsi ini menghasilkan ID yang terdiri dari kombinasi huruf kapital. Sementara itu, nilai **ID** merupakan gabungan antara karakter [ASCII](https://www.ascii-code.com/articles/Beginners-Guide-to-ASCII) dan angka dengan panjang total **10 karakter**.\n",
        "\n",
        "<font color=\"yellow\"><strong>PERINGATAN: HARAP TIDAK MENGUBAH FUNGSI DI BAWAH INI!</strong></font>\n"
      ],
      "metadata": {
        "id": "WRNYcQ7Pzkis"
      }
    },
    {
      "cell_type": "code",
      "source": [
        "# JANGAN MENGUBAH FUNGSI INI #\n",
        "\n",
        "def create_unique_user_ids(num_users):\n",
        "  \"\"\"\n",
        "  Menghasilkan sejumlah ID pengguna acak yang terdiri dari kombinasi huruf kapital ASCII dan angka\n",
        "  dengan panjang tetap sebanyak 10 karakter.\n",
        "\n",
        "  Parameter:\n",
        "  - num_users (int): Jumlah ID unik yang ingin dihasilkan.\n",
        "\n",
        "  Return:\n",
        "  - user_ids (List[str]): List berisi ID unik hasil generate.\n",
        "  \"\"\"\n",
        "  user_ids = []\n",
        "\n",
        "  # Pengulangan hingga jumlah user_id yang dihasilkan sesuai dengan yang diminta\n",
        "  while len(user_ids) < num_users:\n",
        "\n",
        "      # Menghasilkan nilai random yang merupakan acak dari ascii dan string digits.\n",
        "      new_id = ''.join(random.choices(string.ascii_uppercase + string.digits, k=10))\n",
        "\n",
        "      if new_id not in user_ids:\n",
        "        user_ids.append(new_id)\n",
        "\n",
        "  return list(user_ids)"
      ],
      "metadata": {
        "id": "7xXpSlonjLc1"
      },
      "execution_count": 2,
      "outputs": []
    },
    {
      "cell_type": "markdown",
      "source": [
        "### Tugas 1.1: Membuat Data Pengguna\n",
        "\n",
        "Mari kita mulai dengan fungsi pertama. Fungsi ini akan menghasilkan data simulasi pengguna yang mengunjungi website Anda. Data tersebut terdiri dari tiga kolom utama berikut.\n",
        "\n",
        "* **user\\_id**: ID atau identitas unik dari masing-masing pengguna.\n",
        "* **user\\_type**: Menyatakan tipe pengguna, yaitu `origin` atau `varian`.\n",
        "* **article\\_read**: Menunjukkan jumlah artikel yang dibaca oleh pengguna.\n",
        "\n",
        "Perlu diperhatikan bahwa nilai `article_read` bersifat diskret dan dapat dimodelkan menggunakan distribusi Poisson.\n",
        "\n",
        "Untuk memastikan fungsi berjalan sesuai dengan yang diharapkan, pastikan Anda mengikuti setiap petunjuk yang telah diberikan.\n",
        "\n",
        "<font color= 'yellow'><strong>CATATAN: JANGAN UBAH RANDOM SEED YANG SUDAH DITETAPKAN<strong></font>"
      ],
      "metadata": {
        "id": "cPEdQyJlgV-Y"
      }
    },
    {
      "cell_type": "code",
      "source": [
        "def generate_df_ab_test(n_days=20):\n",
        "  \"\"\"\n",
        "  Menghasilkan DataFrame yang menyimulasikan A/B testing untuk fitur sistem rekomendasi artikel.\n",
        "\n",
        "  Parameters:\n",
        "  - n_days (int): Jumlah hari yang disimulasikan (default: 20 hari)\n",
        "\n",
        "  Returns:\n",
        "  - df (pandas.DataFrame): DataFrame yang berisi hasil simulasi eksperimen A/B untuk kedua grup (origin dan varian).\n",
        "  \"\"\"\n",
        "\n",
        "  ## JANGAN UBAH BAGIAN KODE DARI SINI\n",
        "  random_state = np.random.default_rng(45)\n",
        "  np.random.seed(45)\n",
        "\n",
        "  daily_users = 104 # Banyaknya pengguna\n",
        "  n_varian = int(daily_users * n_days * np.random.uniform(0.98, 1.02)) # Jumlah pengguna pada kelompok variation\n",
        "  n_origin = int(n_varian * np.random.uniform(0.96, 0.98)) # Jumlah pengguna pada kelompok origin\n",
        "\n",
        "  data_origin = stats.poisson.rvs(mu=4.7, size=n_origin, random_state=random_state)\n",
        "  data_varian = stats.poisson.rvs(mu=5.3, size=n_varian, random_state=random_state)\n",
        "  ## HINGGA BAGIAN KODE INI\n",
        "\n",
        "  # MULAI KODE DI SINI\n",
        "\n",
        "  user_ids = create_unique_user_ids(n_origin + n_varian)\n",
        "\n",
        "  # Bagi ID untuk masing-masing kelompok\n",
        "  origin_ids = user_ids[:n_origin]\n",
        "  varian_ids = user_ids[n_origin:]\n",
        "\n",
        "  # Buat DataFrame untuk kelompok origin\n",
        "  origin_df = pd.DataFrame({\n",
        "      \"user_id\": origin_ids,\n",
        "      \"user_type\": \"origin\",\n",
        "      \"articles_read\": data_origin\n",
        "  })\n",
        "\n",
        "  # Buat DataFrame untuk kelompok varian\n",
        "  varian_df = pd.DataFrame({\n",
        "      \"user_id\": varian_ids,\n",
        "      \"user_type\": \"varian\",\n",
        "      \"articles_read\": data_varian\n",
        "  })\n",
        "\n",
        "\n",
        "  # AKHIRI KODE DI SINI\n",
        "\n",
        "  df = pd.concat([origin_df, varian_df]).sample(frac=1).reset_index(drop=True)\n",
        "  return df"
      ],
      "metadata": {
        "id": "-O1AO_qhizWD"
      },
      "execution_count": 3,
      "outputs": []
    },
    {
      "cell_type": "markdown",
      "source": [
        "Data yang telah Anda hasilkan mencakup seluruh pengguna dari kedua kelompok. Untuk mendapatkan *insight* lebih mendalam, mari kita cari tahu rata-rata jumlah artikel yang dibaca oleh masing-masing kelompok.\n"
      ],
      "metadata": {
        "id": "FuezjMaxq4GU"
      }
    },
    {
      "cell_type": "code",
      "source": [
        "# Pengujian: Silakan gunakan cell ini untuk menguji fungsi yang Anda buat. Pastikan output-nya sesuai dengan yang diharapkan.\n",
        "\n",
        "df_articles = generate_df_ab_test(n_days=20)\n",
        "\n",
        "origin_data = df_articles[df_articles['user_type'] == 'origin']['articles_read']\n",
        "varian_data = df_articles[df_articles['user_type'] == 'varian']['articles_read']\n",
        "\n",
        "print(f\"{len(origin_data)} pengguna melihat website tanpa sistem rekomendasinya dengan rata-rata banyaknya artikel yang dibaca adalah {origin_data.mean():.2f}\")\n",
        "print(f\"{len(varian_data)} pengguna melihat website dengan sistem rekomendasinya dengan rata-rata banyaknya artikel yang dibaca adalah {varian_data.mean():.2f}\")"
      ],
      "metadata": {
        "id": "DEzE95Wsi8Yy",
        "colab": {
          "base_uri": "https://localhost:8080/"
        },
        "outputId": "3843983c-216a-41c5-869f-f87cc7a10899"
      },
      "execution_count": 4,
      "outputs": [
        {
          "output_type": "stream",
          "name": "stdout",
          "text": [
            "2058 pengguna melihat website tanpa sistem rekomendasinya dengan rata-rata banyaknya artikel yang dibaca adalah 4.72\n",
            "2120 pengguna melihat website dengan sistem rekomendasinya dengan rata-rata banyaknya artikel yang dibaca adalah 5.38\n"
          ]
        }
      ]
    },
    {
      "cell_type": "markdown",
      "source": [
        "Output yang diharapkan\n",
        "```\n",
        "2058 pengguna melihat website tanpa sistem rekomendasinya dengan rata-rata banyaknya artikel yang dibaca adalah 4.72\n",
        "2120 pengguna melihat website dengan sistem rekomendasinya dengan rata-rata banyaknya artikel yang dibaca adalah 5.38\n",
        "```"
      ],
      "metadata": {
        "id": "AGqilqyxR03Y"
      }
    },
    {
      "cell_type": "markdown",
      "source": [
        "Sekilas, Anda mungkin menyadari bahwa pengguna yang mendapatkan fitur sistem rekomendasi cenderung memiliki rata-rata artikel yang dibaca lebih tinggi dibandingkan kelompok lainnya. Namun, sebagai data scientist yang bijak, Anda tidak bisa langsung menarik kesimpulan berdasarkan observasi awal semata.\n",
        "\n",
        "Diperlukan penyelidikan lebih lanjut untuk memastikan bahwa perbedaan tersebut tidak terjadi secara kebetulan, tetapi benar-benar signifikan secara statistik.\n",
        "\n",
        "Oleh karena itu, kita akan menggunakan **uji hipotesis** untuk mencari tahu jawabannya.\n",
        "\n",
        "Perlu diperhatikan bahwa jumlah pengguna pada masing-masing kelompok tidak seimbang. Hal ini umum terjadi dalam praktik A/B testing, terutama ketika melibatkan proses pembagian acak.\n",
        "\n",
        "---\n",
        "\n",
        "Tugas Anda adalah melakukan uji hipotesis untuk memastikan adakah perbedaan *signifikan* antara rata-rata artikel yang dibaca oleh masing-masing kelompok. Karena kita membandingkan rata-rata, metode yang sesuai untuk kasus ini adalah **uji t dua sampel (t-test)** dengan **hipotesis nol** sebagai berikut.\n",
        "\n",
        "> **Hipotesis nol (H₀):** Tidak ada perbedaan signifikan antara kedua kelompok.\n",
        "\n",
        "Rumus t-statistik yang digunakan adalah berikut.\n",
        "\n",
        "$t = \\frac{(\\bar{x}_{1} - \\bar{x}_{2}) - (\\mu_1 - \\mu_2)}{\\sqrt{\\frac{s_{1}^2}{n_1} + \\frac{s_{2}^2}{n_2}}}$\n",
        "\n",
        "Artinya:\n",
        "- $\\bar{x}$ adalah rata-rata sampel,\n",
        "- μ adalah rata-rata populasi,\n",
        "- $s$ adalah standar deviasi, dan\n",
        "- $n$ adalah ukuran sampel.\n",
        "\n",
        "Uji ini dilakukan pada level pengguna (*user-level*) untuk memastikan terpenuhinya asumsi *independence*, karena setiap pengguna dianggap independen satu sama lain. Selain itu, ukuran sampel dalam data ini sudah mencukupi untuk menerapkan uji t dengan cukup andal."
      ],
      "metadata": {
        "id": "UPW1QC_zuzP8"
      }
    },
    {
      "cell_type": "markdown",
      "source": [
        "## Menghitung t-statistik\n",
        "\n",
        "Setelah data disiapkan, mari mulai dengan menghitung rumus statistik. Kita akan menyimpan setiap variabel rumus, seperti $\\bar{x}$ dan lainnya dalam sebuah class.\n",
        "\n",
        "Jangan khawatir jika Anda belum familier dengan fungsi ini. dataclass adalah decorator pada Python (dikenalkan sejak Python 3.7) yang secara otomatis menambahkan *boilerplate code* dalam sebuah class untuk menyimpan data.\n",
        "\n",
        "Contohnya, Anda memiliki class berikut.\n",
        "\n",
        "```\n",
        "@dataclass\n",
        "class my_course:\n",
        "  course_id: int\n",
        "  course_name: string\n",
        "\n",
        "foo = my_course(course_name='Dicoding')\n",
        "```\n",
        "\n",
        "Anda dapat mengakses informasi `course_name` dari `foo` melalui sintaks `foo.course_name` yang akan mengembalikan string \"Dicoding\".\n",
        "\n",
        "\n",
        "> Mengapa menggunakan dataclass? Anda perlu menyimpan parameter distribusi untuk setiap fitur. Misalnya, untuk weight dan height, diperlukan parameter μ dan σ. Jika dibuat terpisah, seperti miu_weight. sigma_weight, miu_height, sigma_height, akan tidak efektif karena terlalu panjang dan beragam.\n",
        "\n",
        "__repr__ adalah method yang digunakan untuk menampilkan objek saat Anda print.\n",
        "\n",
        "Tanpa `__repr__`:\n",
        "```\n",
        "<my_class object at 0x7f9f3b4d>\n",
        "```\n",
        "\n",
        "Dengan `__repr__`:\n",
        "```\n",
        "my_class(a='Dicoding')\n",
        "```"
      ],
      "metadata": {
        "id": "ig5NfPRbZiCi"
      }
    },
    {
      "cell_type": "code",
      "source": [
        "@dataclass\n",
        "class metrics_estimation:\n",
        "  n: int\n",
        "  xbar: float\n",
        "  std: float\n",
        "\n",
        "  def __repr__(self):\n",
        "    return f\"sample_params(n={self.n}, xbar={self.xbar:.3f}, std={self.std:.3f})\""
      ],
      "metadata": {
        "id": "FzJN99Srjsfo"
      },
      "execution_count": 5,
      "outputs": []
    },
    {
      "cell_type": "markdown",
      "source": [
        "### Tugas 1.2: Menghitung Metrik untuk t-statistik\n",
        "\n",
        "Setelah setiap variabel disiapkan, silakan lengkapi fungsi di bawah ini yang bertujuan untuk menghitung nilai t-statistik berdasarkan rumus yang telah dijelaskan sebelumnya.\n",
        "\n",
        "Dalam perhitungan ini, kita mengasumsikan bahwa data yang dimiliki berasal dari dua kelompok sampel dan kita ingin mengetahui apakah perbedaan antara kedua kelompok tersebut signifikan secara statistik.\n",
        "\n",
        "Untuk masing-masing kelompok data, Anda hanya perlu menghitung tiga nilai utama berikut.\n",
        "\n",
        "- ``n``: Ukuran sampel\n",
        "\n",
        "- ``xbar``: Rata-rata dari sampel\n",
        "\n",
        "- ``std``: Standar deviasi dari sampel\n",
        "\n",
        "\n",
        "<details>\n",
        "<summary>\n",
        "<font color='yellow'>PETUNJUK!</font>\n",
        "</summary>\n",
        "\n",
        "- Fungsi len, np.mean, dan np.std akan berguna untuk Anda.\n",
        "- Dalam konteks ini, kita akan menggunakan sampel, bukan populasi. Oleh karena itu pastikan saat menghitung standar deviasi, gunakan parameter `ddof=1` untuk menghitung ***sample standar deviation***."
      ],
      "metadata": {
        "id": "T3PmzZNtcBYb"
      }
    },
    {
      "cell_type": "code",
      "source": [
        "def generate_metrics_for_t(data):\n",
        "  \"\"\"\n",
        "  Menghitung metrik yang dibutuhkan untuk t-test berdasarkan data diskret.\n",
        "\n",
        "  Parameters:\n",
        "  - data (pandas.DataFrame): Data Sampel.\n",
        "\n",
        "  Returns:\n",
        "  - metrics: Metrik yang disimpan sebagai objek class `estimation_metrics`.\n",
        "  \"\"\"\n",
        "\n",
        "  # MULAI KODE DI SINI\n",
        "\n",
        "  n = len(data)\n",
        "\n",
        "  # Hitung rata-rata sampel (x̄)\n",
        "  xbar = np.mean(data)\n",
        "\n",
        "  # Hitung standar deviasi sampel (s) dengan ddof=1\n",
        "  std = np.std(data, ddof=1)\n",
        "\n",
        "  # Simpan hasil perhitungan dalam objek dataclass metrics_estimation\n",
        "  metrics = metrics_estimation(n=n, xbar=xbar, std=std)\n",
        "\n",
        "  # AKHIRI KODE DI SINI\n",
        "\n",
        "  return metrics"
      ],
      "metadata": {
        "id": "ZKwjVphenSPk"
      },
      "execution_count": 6,
      "outputs": []
    },
    {
      "cell_type": "code",
      "source": [
        "# Pengujian: Silakan gunakan cell ini untuk menguji fungsi yang Anda buat. Pastikan output-nya sesuai dengan yang diharapkan.\n",
        "\n",
        "origin_metrics = generate_metrics_for_t(origin_data)\n",
        "print(f\"Kelompok origin: n = {origin_metrics.n}, rata-rata = {origin_metrics.xbar:.2f}, standar deviasi = {origin_metrics.std:.2f}\")\n",
        "\n",
        "varian_metrics = generate_metrics_for_t(varian_data)\n",
        "print(f\"Kelompok varian: n = {varian_metrics.n}, rata-rata = {varian_metrics.xbar:.2f}, standar deviasi = {varian_metrics.std:.2f}\")\n"
      ],
      "metadata": {
        "id": "Kvh1cfmcnUd_",
        "colab": {
          "base_uri": "https://localhost:8080/"
        },
        "outputId": "36283414-5952-4dc6-86ba-00f66fe94446"
      },
      "execution_count": 7,
      "outputs": [
        {
          "output_type": "stream",
          "name": "stdout",
          "text": [
            "Kelompok origin: n = 2058, rata-rata = 4.72, standar deviasi = 2.16\n",
            "Kelompok varian: n = 2120, rata-rata = 5.38, standar deviasi = 2.33\n"
          ]
        }
      ]
    },
    {
      "cell_type": "markdown",
      "source": [
        "Output yang diharapkan\n",
        "```\n",
        "Kelompok origin: n = 2058, rata-rata = 4.72, standar deviasi = 2.16\n",
        "Kelompok varian: n = 2120, rata-rata = 5.38, standar deviasi = 2.33\n",
        "```"
      ],
      "metadata": {
        "id": "kiHOiUesgqOr"
      }
    },
    {
      "cell_type": "markdown",
      "source": [
        "### Tugas 1.3: Menghitung Degree of Freedom\n",
        "\n",
        "Anda telah berhasil membuat metrik yang dibutuhkan untuk menjalankan rumus *t-test*. Namun, selain metrik-metrik tersebut, Anda juga perlu menghitung satu nilai penting lainnya, yaitu **degree of freedom** (derajat kebebasan), yang memainkan peran kunci dalam *t-test*.\n",
        "\n",
        "Degree of freedom (DoF) sangat penting karena menentukan **bentuk distribusi t** yang akan digunakan dalam menghitung nilai *p-value* dan *t-kritis*. Semakin besar nilai derajat kebebasan, distribusi t akan semakin mendekati distribusi normal.\n",
        "\n",
        "Untuk menghitungnya, Anda dapat menggunakan rumus Satterthwaite berikut.\n",
        "\n",
        "$$\\text{Degrees of freedom } = \\frac{\\left[\\frac{s_{1}^2}{n_1} + \\frac{s_{2}^2}{n_2} \\right]^2}{\\frac{(s_{1}^2/n_1)^2}{n_1-1} + \\frac{(s_{2}^2/n_2)^2}{n_2-1}}$$\n",
        "\n",
        "Keterangan:\n",
        "\n",
        "* $s_1, s_2$: standar deviasi dari masing-masing kelompok\n",
        "* $n_1, n_2$: jumlah sampel dari masing-masing kelompok\n",
        "\n",
        "<details>\n",
        "<summary><font color='yellow'>PETUNJUK!</font></summary>\n",
        "\n",
        "* Gunakan `np.square()` untuk menghitung kuadrat nilai.\n",
        "* Dalam rumus di atas, **suffix 1** digunakan untuk menyatakan kelompok **origin**, dan **suffix 2** untuk kelompok **varian**.\n",
        "* Untuk mengakses nilai dari objek `metrics` (dataclass), gunakan notasi titik/dot (`.`). Misalnya berikut.\n",
        "\n",
        "  ```python\n",
        "  origin_metrics.std  # Mengakses standar deviasi kelompok origin\n",
        "  varian_metrics.n    # Mengakses jumlah sampel kelompok varian\n",
        "  ```\n",
        "\n",
        "</details>"
      ],
      "metadata": {
        "id": "LijnKbRsi4q9"
      }
    },
    {
      "cell_type": "code",
      "source": [
        "def degrees_of_freedom(origin_metrics, varian_metrics):\n",
        "  \"\"\"\n",
        "  Menghitung derajat kebebasan (degree of freedom) menggunakan rumus dari Satterthwaite.\n",
        "\n",
        "  Parameters:\n",
        "  - origin_metrics (metrics_estimation): Objek metrik yang berisi metrik untuk t-statistik dari kelompok origin.\n",
        "  - varian_metrics (metrics_estimation): Objek metrik yang berisi metrik untuk t-statistik dari kelompok varian.\n",
        "\n",
        "  Returns:\n",
        "  - dof (numpy.float): Nilai derajat kebebasan.\n",
        "  \"\"\"\n",
        "\n",
        "  # MULAI KODE DI SINI\n",
        "  n1, s1 = origin_metrics.n, origin_metrics.std\n",
        "  n2, s2 = varian_metrics.n, varian_metrics.std\n",
        "\n",
        "  # Bagian pembilang rumus (numerator)\n",
        "  numerator = np.square((s1**2 / n1) + (s2**2 / n2))\n",
        "\n",
        "  # Bagian penyebut rumus (denominator)\n",
        "  denominator = ((np.square(s1**2 / n1)) / (n1 - 1)) + ((np.square(s2**2 / n2)) / (n2 - 1))\n",
        "\n",
        "  # Hasil derajat kebebasan\n",
        "  dof = numerator / denominator\n",
        "\n",
        "  # AKHIRI KODE DI SINI\n",
        "\n",
        "  return dof"
      ],
      "metadata": {
        "id": "HUaHewK0nWXY"
      },
      "execution_count": 8,
      "outputs": []
    },
    {
      "cell_type": "code",
      "source": [
        "# Pengujian: Silakan gunakan cell ini untuk menguji fungsi yang Anda buat. Pastikan output-nya sesuai dengan yang diharapkan.\n",
        "\n",
        "# Derajat kebebasan untuk sampel\n",
        "dof_ab = degrees_of_freedom(origin_metrics, varian_metrics)\n",
        "print(f\"Derajat kebebasan (DoF) untuk data A/B Test: {dof_ab:.2f}\")"
      ],
      "metadata": {
        "id": "ui0wtBs7ngjq",
        "colab": {
          "base_uri": "https://localhost:8080/"
        },
        "outputId": "e45c2cab-4c65-4cc0-e37a-c7368e579e6f"
      },
      "execution_count": 9,
      "outputs": [
        {
          "output_type": "stream",
          "name": "stdout",
          "text": [
            "Derajat kebebasan (DoF) untuk data A/B Test: 4168.28\n"
          ]
        }
      ]
    },
    {
      "cell_type": "markdown",
      "source": [
        "Output yang diharapkan\n",
        "```\n",
        "Derajat kebebasan (DoF) untuk data A/B Test: 4168.28\n",
        "```"
      ],
      "metadata": {
        "id": "DLOduXJwph-Q"
      }
    },
    {
      "cell_type": "markdown",
      "source": [
        "### Tugas 1.4: Menghitung t-statistic\n",
        "\n",
        "Pada tahap ini, Anda telah memiliki semua informasi yang dibutuhkan untuk menghitung nilai *t-statistic* dalam uji hipotesis dua sampel independen. Nilai *t-statistic* dihitung menggunakan rumus berikut.\n",
        "\n",
        "$$\n",
        "t = \\frac{(\\bar{x}_{1} - \\bar{x}_{2}) - (\\mu_1 - \\mu_2)}{\\sqrt{\\frac{s_{1}^2}{n_1} + \\frac{s_{2}^2}{n_2}}}\n",
        "$$\n",
        "\n",
        "Keterangan:\n",
        "\n",
        "* \\$\\bar{x}\\_1, \\bar{x}\\_2\\$: rata-rata dari masing-masing sampel.\n",
        "* \\$s\\_1, s\\_2\\$: standar deviasi dari masing-masing sampel.\n",
        "* \\$n\\_1, n\\_2\\$: jumlah sampel pada masing-masing kelompok.\n",
        "* \\$(\\mu\\_1 - \\mu\\_2)\\$: perbedaan rata-rata populasi yang **diasumsikan** dalam *null hypothesis*.\n",
        "\n",
        "\n",
        "<details>\n",
        "<summary><font color='yellow'>PETUNJUK!</font></summary>\n",
        "\n",
        "* Berdasarkan *null hypothesis*, kita **mengasumsikan tidak ada perbedaan** antara dua populasi. Oleh karena itu, nilai \\$(\\mu\\_1 - \\mu\\_2)\\$ biasanya dianggap **0**.\n",
        "* Anda dapat menggunakan `np.sqrt(...)` untuk menghitung akar kuadrat pada bagian penyebut (denominator) dari rumus."
      ],
      "metadata": {
        "id": "GnL1a2mprGOz"
      }
    },
    {
      "cell_type": "code",
      "source": [
        "def t_statistics_form(origin_metrics, varian_metrics):\n",
        "    \"\"\"\n",
        "    Menghitung nilai statistik t dari dua sampel independen (misalnya, kelompok kontrol dan kelompok variasi)\n",
        "    berdasarkan asumsi bahwa varians antar kelompok tidak sama (Welch's t-test).\n",
        "\n",
        "    Parameters:\n",
        "    - origin_metrics: Objek metrik dari kelompok origin, yang memuat ukuran sampel (n), rata-rata (x̄), dan standar deviasi (std).\n",
        "    - varian_metrics: Objek metrik dari kelompok varian, yang juga memuat nilai n, x̄, dan std.\n",
        "\n",
        "    Returns:\n",
        "    - t (float): Nilai t-statistic yang dihitung berdasarkan rumus dua sampel independen.\n",
        "    \"\"\"\n",
        "\n",
        "    # MULAI KODE DI SINI\n",
        "\n",
        "    n1, xbar1, s1 = origin_metrics.n, origin_metrics.xbar, origin_metrics.std\n",
        "    n2, xbar2, s2 = varian_metrics.n, varian_metrics.xbar, varian_metrics.std\n",
        "\n",
        "    # Asumsi null hypothesis: (μ1 - μ2) = 0\n",
        "    numerator = (xbar1 - xbar2) - 0\n",
        "    denominator = np.sqrt((s1**2 / n1) + (s2**2 / n2))\n",
        "\n",
        "    t = numerator / denominator\n",
        "\n",
        "    # AKHIRI KODE DI SINI\n",
        "\n",
        "    return t\n"
      ],
      "metadata": {
        "id": "wm1Ex8LsrQxE"
      },
      "execution_count": 10,
      "outputs": []
    },
    {
      "cell_type": "code",
      "source": [
        "# Pengujian: Silakan gunakan cell ini untuk menguji fungsi yang Anda buat. Pastikan output-nya sesuai dengan yang diharapkan.\n",
        "\n",
        "t = t_statistics_form(origin_metrics, varian_metrics)\n",
        "print(f\"t statistic untuk AB test: {t:.2f}\")"
      ],
      "metadata": {
        "id": "MUw8peQynjrL",
        "colab": {
          "base_uri": "https://localhost:8080/"
        },
        "outputId": "37cc3c36-cda0-4f9d-d49e-9cc517d82a07"
      },
      "execution_count": 11,
      "outputs": [
        {
          "output_type": "stream",
          "name": "stdout",
          "text": [
            "t statistic untuk AB test: -9.48\n"
          ]
        }
      ]
    },
    {
      "cell_type": "markdown",
      "source": [
        "Output yang diharapkan\n",
        "```\n",
        "-9.48\n",
        "```"
      ],
      "metadata": {
        "id": "-xcTDzvPEAIt"
      }
    },
    {
      "cell_type": "markdown",
      "source": [
        "## Menolak atau Menerima Hipotesis\n",
        "\n",
        "Setelah melakukan semua perhitungan dengan rumus *t-statistic*, sekarang saatnya menentukan apakah hipotesis nol (*null hypothesis*) sebaiknya **ditolak** atau **tidak**.\n",
        "\n",
        "Lengkapilah fungsi di bawah ini yang bertujuan untuk mengambil keputusan tersebut menggunakan **metode p-value** berdasarkan hal berikut.\n",
        "\n",
        "* Nilai *t-statistic*.\n",
        "* Derajat kebebasan (*Degrees of Freedom*).\n",
        "* Tingkat signifikansi (*alpha*).\n",
        "\n",
        "Fungsi ini menerapkan **uji dua sisi (two-sided test)** karena kita ingin mengetahui apakah terdapat perbedaan yang signifikan, baik itu **lebih tinggi** maupun **lebih rendah** dari nilai ekspektasi.\n",
        "\n",
        "---\n",
        "\n",
        "### Pemahaman P-Value dalam Uji Dua Sisi\n",
        "\n",
        "Dalam konteks ini, *p-value* merepresentasikan **probabilitas** untuk memperoleh nilai *t-statistic* yang **sama ekstremnya atau lebih ekstrem** dibanding nilai yang diamati, **jika hipotesis nol benar**.\n",
        "\n",
        "Anda dapat menggunakan fungsi **CDF (Cumulative Distribution Function)** dari distribusi *t* untuk menghitung probabilitas bahwa nilai yang diperoleh **kurang dari atau sama dengan** nilai yang diberikan.\n",
        "\n",
        "Oleh karena itu, p-value dapat dihitung dengan rumus berikut.\n",
        "\n",
        "$$\n",
        "p = 2 \\times (1 - \\text{CDF}(|t|))\n",
        "$$\n",
        "\n",
        "Penjelasan:\n",
        "\n",
        "* Gunakan **nilai absolut** dari *t-statistic* karena uji dua sisi memperhitungkan kedua ekor distribusi (baik negatif maupun positif).\n",
        "* Kalikan hasilnya dengan **2** untuk mencerminkan kedua sisi distribusi.\n",
        "* Bandingkan hasil p-value tersebut dengan nilai **α (alpha)**.\n",
        "\n",
        "  * Jika **p-value < alpha**, hipotesis nol **ditolak**.\n",
        "  * Jika **p-value ≥ alpha**, hipotesis nol **tidak ditolak**.\n",
        "\n",
        "---\n",
        "\n",
        "<details>\n",
        "<summary><font color='yellow'>PETUNJUK</font></summary>\n",
        "\n",
        "* Gunakan fungsi `cdf` dari modul `scipy.stats.t` untuk menghitung probabilitas kumulatif dari distribusi *t*.\n",
        "* Masukkan `abs(t_statistic)` sebagai parameter dalam fungsi `cdf` karena ini adalah uji dua sisi.\n",
        "* Kalikan hasil `1 - CDF(...)` dengan 2.\n",
        "* Jika hasil akhir p-value lebih kecil dari `alpha`, **hipotesis nol ditolak**.\n",
        "\n",
        "</details>"
      ],
      "metadata": {
        "id": "4wzlCfxYrVFf"
      }
    },
    {
      "cell_type": "code",
      "source": [
        "def reject_nh_t_statistic(t_statistic, dof, alpha=0.05):\n",
        "    \"\"\"\n",
        "    Menentukan apakah hipotesis nol dalam uji t (t-test) harus ditolak atau tidak,\n",
        "    berdasarkan nilai t-statistik, derajat kebebasan (degrees of freedom), dan tingkat signifikansi (alpha).\n",
        "\n",
        "    Parameter:\n",
        "    - t_statistic (float): Nilai t-statistik yang sudah dihitung dari dua sampel.\n",
        "    - dof (float): Derajat kebebasan hasil perhitungan dari dua sampel.\n",
        "    - alpha (float, opsional): Tingkat signifikansi yang digunakan. Nilai default adalah 0.05.\n",
        "\n",
        "    Return:\n",
        "    - reject (bool): Bernilai True jika hipotesis nol harus ditolak, dan False jika tidak ditolak.\n",
        "    \"\"\"\n",
        "\n",
        "    reject = False\n",
        "\n",
        "    # MULAI KODE DI SINI\n",
        "    # Langkah 1: Hitung nilai p-value untuk uji dua sisi (two-sided test)\n",
        "    # Gunakan nilai absolut dari t_statistic dan fungsi distribusi kumulatif (CDF) dari distribusi t\n",
        "    # Jangan lupa kalikan hasilnya dengan 2 karena ini adalah uji dua sisi\n",
        "    p_value = 2 * (1 - stats.t.cdf(abs(t_statistic), df=dof))\n",
        "\n",
        "    # Bandingkan p-value dengan alpha\n",
        "    if p_value < alpha:\n",
        "        reject = True\n",
        "\n",
        "    # AKHIRI KODE DI SINI\n",
        "\n",
        "    return reject\n"
      ],
      "metadata": {
        "id": "EVvLOWXKAK_3"
      },
      "execution_count": 12,
      "outputs": []
    },
    {
      "cell_type": "code",
      "source": [
        "# Pengujian: Silakan gunakan cell ini untuk menguji fungsi yang Anda buat. Pastikan output-nya sesuai dengan yang diharapkan.\n",
        "\n",
        "alpha = 0.05\n",
        "tolak_hipotesis_nol = reject_nh_t_statistic(t, dof_ab, alpha)\n",
        "\n",
        "print(f\"Hipotesis nol {'' if tolak_hipotesis_nol else 'tidak '}dapat ditolak pada tingkat signifikansi {alpha:.2f}.\\n\")\n",
        "\n",
        "pesan = \"\" if tolak_hipotesis_nol else \"Tidak \"\n",
        "print(f\"{pesan}Ada cukup bukti statistik untuk menolak H0.\\n\"\n",
        "      f\"Dengan kata lain, dapat disimpulkan bahwa ada perbedaan yang {pesan}signifikan secara statistik antara rata-rata kedua kelompok.\")"
      ],
      "metadata": {
        "id": "bppwsfo5CJma",
        "colab": {
          "base_uri": "https://localhost:8080/"
        },
        "outputId": "7ab89ad2-4430-4afd-9c8b-c1878f7f3426"
      },
      "execution_count": 13,
      "outputs": [
        {
          "output_type": "stream",
          "name": "stdout",
          "text": [
            "Hipotesis nol dapat ditolak pada tingkat signifikansi 0.05.\n",
            "\n",
            "Ada cukup bukti statistik untuk menolak H0.\n",
            "Dengan kata lain, dapat disimpulkan bahwa ada perbedaan yang signifikan secara statistik antara rata-rata kedua kelompok.\n"
          ]
        }
      ]
    },
    {
      "cell_type": "markdown",
      "source": [
        "Output yang diharapkan\n",
        "```\n",
        "Hipotesis nol dapat ditolak pada tingkat signifikansi 0.05.\n",
        "\n",
        "Ada cukup bukti statistik untuk menolak H0.\n",
        "Dengan kata lain, dapat disimpulkan bahwa ada perbedaan yang signifikan secara statistik antara rata-rata kedua kelompok.\n",
        "```"
      ],
      "metadata": {
        "id": "e1GmJqJBD5Ya"
      }
    },
    {
      "cell_type": "markdown",
      "source": [
        "Selamat! Anda berhasil menjalankan uji hipotesis menggunakan two-tailed t-test berdasarkan data sintetis.\n",
        "\n",
        "Berdasarkan hasil yang didapat, ada perbedaan yang signifikan secara statistik antara rata-rata kedua kelompok A/B test. Jadi, pengetahuan yang Anda dapat sebelumnya, yakni orang yang mendapatkan sistem rekomendasi menjadi lebih sering membaca artikel, tidak terjadi secara kebetulan."
      ],
      "metadata": {
        "id": "GJDZp4CdEGeW"
      }
    }
  ]
}