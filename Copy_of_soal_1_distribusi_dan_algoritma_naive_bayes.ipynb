{
  "nbformat": 4,
  "nbformat_minor": 0,
  "metadata": {
    "colab": {
      "provenance": [],
      "include_colab_link": true
    },
    "kernelspec": {
      "name": "python3",
      "display_name": "Python 3"
    },
    "language_info": {
      "name": "python"
    }
  },
  "cells": [
    {
      "cell_type": "markdown",
      "metadata": {
        "id": "view-in-github",
        "colab_type": "text"
      },
      "source": [
        "<a href=\"https://colab.research.google.com/github/eko-andri-prasetyo/Machine_Learning_Terapan-Predictive_Analytics/blob/main/Copy_of_soal_1_distribusi_dan_algoritma_naive_bayes.ipynb\" target=\"_parent\"><img src=\"https://colab.research.google.com/assets/colab-badge.svg\" alt=\"Open In Colab\"/></a>"
      ]
    },
    {
      "cell_type": "markdown",
      "source": [
        "# PERHATIAN!\n",
        "\n",
        "Soal yang Anda kerjakan akan dinilai secara otomatis oleh sistem dari Dicoding. Oleh karena itu, Anda **tidak diperbolehkan mengubah nama fungsi yang sudah ditentukan**, karena hal tersebut dapat memengaruhi proses penilaian.\n",
        "\n",
        "Pastikan Anda membaca dan memperhatikan setiap instruksi dengan saksama serta menuliskan kode di antara tanda komentar yang telah disediakan.\n",
        "\n",
        "> **# MULAI KODE DI SINI**\n",
        "\n",
        "\n",
        "> **# AKHIRI KODE DI SINI**\n",
        "\n",
        "---\n",
        "Selain itu, Anda **tidak diperkenankan menggunakan *library* di luar yang telah ditentukan**. Seluruh soal telah dirancang agar dapat diselesaikan dengan *library* yang tersedia.\n"
      ],
      "metadata": {
        "id": "uYFqQaVbeqAW"
      }
    },
    {
      "cell_type": "markdown",
      "source": [
        "# Algoritma Naive Bayes\n",
        "Data kini memegang peran yang sangat penting dalam berbagai bidang, termasuk data science dan machine learning. Data dapat dimanfaatkan tidak hanya untuk menghasilkan wawasan dan mendukung pengambilan keputusan berbasis fakta, tetapi juga untuk mengembangkan produk-produk inovatif yang berdampak nyata.\n",
        "\n",
        "\n",
        "Dalam permasalahan kali ini, Anda akan bekerja dengan data yang menerapkan prinsip-prinsip probabilitas dan statistika dengan menyelesaikan permasalahan sederhana, yakni memprediksi jenis/ras burung menggunakan algoritma Naive Bayes.\n",
        "\n",
        "Anda akan membuat data sintetis untuk jenis-jenis burung tersebut dengan mengikuti prinsip-prinsip probabilitas sehingga pada permasalahan kali ini akan dibagi dalam dua segmen.\n",
        "\n",
        "## Segmen:\n",
        "1. **Menghasilkan Data Acak**: Belajar menghasilkan data acak yang mengikuti distribusi tertentu.\n",
        "2. **Klasifikasi Naive Bayes**: Mengimplementasikan klasifikasi Naive Bayes dari data yang dihasilkan pada segmen 1.\n",
        "\n",
        "Jangan khawatir! Anda akan diberikan panduan untuk mengerjakan submission ini.\n"
      ],
      "metadata": {
        "id": "FR7BmDQTBxXQ"
      }
    },
    {
      "cell_type": "code",
      "execution_count": null,
      "metadata": {
        "id": "b0wT_4CVT8t8"
      },
      "outputs": [],
      "source": [
        "# TIDAK DIPERBOLEHKAN MENGGUNAKAN LIBRARY LAIN\n",
        "\n",
        "import numpy as np\n",
        "import pandas as pd\n",
        "import matplotlib.pyplot as plt\n",
        "import seaborn as sns\n",
        "\n",
        "from scipy.stats import uniform, binom, norm\n",
        "from scipy.special import erfinv\n",
        "from dataclasses import dataclass"
      ]
    },
    {
      "cell_type": "markdown",
      "source": [
        "# Segmen 1: Menghasilkan Data Acak\n",
        "Mari rekap beberapa konsep serta materi yang telah Anda pelajari selama belajar di kelas Matematika untuk Data Science.\n",
        "\n",
        "Dalam dunia data science, Anda akan sering berhadapan dengan konsep populasi dan sampel. Populasi dan sampel tidak hanya merujuk pada entitas atau kumpulan individu, tetapi juga dapat menggambarkan kumpulan kejadian atau fenomena tertentu.\n",
        "\n",
        "Saat menjumpai kasus yang berhubungan dengan suatu event/kejadian, Anda tidak hanya ingin tahu \"berapa peluang sebuah kejadian terjadi\", tetapi juga ingin melihat keseluruhan pola distribusi dari nilai-nilai yang mungkin.\n",
        "\n",
        "Dalam melihat pola tersebut, Anda bisa menggunakan fungsi distribusi yang berperan untuk memahami probabilitas tersebar dalam ruang kemungkinan.\n",
        "\n",
        "Anda sudah mempelajari tiga jenis fungsi distribusi yang umum dipakai, yakni\n",
        "- **Probability Mass Function (PMF)**: Digunakan untuk mencari distribusi terhadap variabel diskrit.\n",
        "- **Probability Density Function (PDF)**: Digunakan untuk mencari distribusi terhadap nilai kontinu.\n",
        "- **Cummulative Distribution Function (CDF)**: Digunakan untuk melihat total peluang yang sudah terkumpul sampai suatu nilai tertentu, bisa digunakan untuk variabel diskret dan kontinu\n",
        "\n",
        "\n",
        "Dalam segmen pertama, Anda akan diajak untuk menghasilkan data acak berdasarkan ketiga jenis distribusi tersebut.\n",
        "\n"
      ],
      "metadata": {
        "id": "75IQ3CzXH21G"
      }
    },
    {
      "cell_type": "markdown",
      "source": [
        "## Variabel Acak\n",
        "\n",
        "Sebuah variabel acak (dinotasikan sebagai $X$) adalah fungsi yang mewakili fenomena acak, artinya nilai yang dihasilkan tidak bisa dipastikan tepat, tetapi memberikan peluang untuk berbagai nilai yang bisa diambil.\n",
        "\n",
        "Contohnya, jika $X$ adalah variabel acak kontinu dengan distribusi uniform [2,4], kita tidak bisa menentukan nilai pasti $X$, tetapi kita bisa mengatakan bahwa nilai $X$ berada pada rentang 2 sampai 4.\n",
        "\n",
        "> Perlu diingat: Variabel acak kontinu, mencari peluang tepat pada angka tertentu (misalnya angka 3) hampir tidak mungkin dan bisa dikatakan nol. Hal ini disebabkan, saat Anda mencari angka 3 pada rentang 2 sampai 4. Anda bisa mendapatkan angka 2.1, 2.001, atau bahkan 2.000000001. Jumlah nilai yang mungkin tidak terhitung (tak terhingga). Oleh karena itu, peluang variabel acak kontinu pada satu titik tunggal = 0. Peluang yang bermakna adalah peluang dalam suatu invterval.\n",
        "\n",
        "Konsep di atas adalah yang disebut sebagai **probability density function** (PDF) yang secara matematis memiliki rumus berikut.\n",
        "$$\n",
        "P(a \\leq X \\leq b) = \\int_a^b f(x) \\, dx\n",
        "$$\n",
        "\n",
        "Artinya, peluang $X$ berada dalam rentang [a,b] dihitung sebagai luas di bawah kurva $f(x)$ antara $a$ dan $b$.\n",
        "\n",
        "Pada variabel acak diskret, kita mengenal **probability mass function** (PMF), yaitu fungsi yang menunjukkan probabilitas untuk setiap nilai yang mungkin diambil oleh variabel diskret.\n",
        "\n",
        "$$\n",
        "P(X = x) = p_x\n",
        "$$\n",
        "\n",
        "Berbeda dengan variabel acak kontinu yang memiliki jumlah nilai tak terhingga dalam rentang tertentu (sehingga peluang tepat di satu nilai adalah nol), variabel acak diskret hanya memiliki sejumlah nilai yang terhitung sehingga bisa memberikan peluang positif pada setiap nilai tersebut.\n",
        "\n",
        "Contohnya adalah kasus pelemparan dadu. Saat melempar sebuah dadu bersisi enam, peluang munculnya setiap angka (1 hingga 6) sama, yaitu 1/6.\n",
        "\n",
        "$$\n",
        "P(X = k) = \\frac{1}{6}, \\quad k = 1, 2, 3, 4, 5, 6.\n",
        "$$\n",
        "\n",
        "Fungsi lain yang terkait dengan variabel acak adalah **cummulative distribution function** (CDF) yang dinotasikan dengan $F$. Ini mewakili peluang bahwa variabel acak $X$ kurang dari atau sama dengan x, untuk setiap x dalam bilangan riil.\n",
        "\n",
        "Artinya, jika Anda memiliki angka x, $F(x)$ memberi tahu Anda **seberapa besar peluang semua nilai di bawah atau sama dengan x.**\n",
        "\n",
        "Contohnya dalam kasus pelemparan dadu, dalam PMF kita mengetahui bahwa peluang mendapatkan angka 1 sampai 6 adalah sama.\n",
        "- $P(X = 1) = 1/6$\n",
        "- $P(X = 2) = 1/6$\n",
        "- $P(X = 3) = 1/6$\n",
        "- $ ... $\n",
        "\n",
        "CDF-nya memberikan informasi semua peluang sampai titik yang diinginkan (misalnya 6).\n",
        "- $P(X ≤ 1) = 1/6$\n",
        "- $P(X ≤ 2) = 1/6 + 1/6 = 2/6$\n",
        "- $P(X ≤ 3) = 3/6$\n",
        "- $ ... $\n",
        "- $P(X ≤ 6) = 6/6$\n",
        "\n",
        "> Materi PDF, CMF, dan PDF dapat diakses dalam materi distribusi probabilitas pada modul ketiga.\n",
        "\n",
        "Ada hal menarik yang harus Anda pahami, kita bisa menghasilkan data buatan dengan distribusi yang kita inginkan, jika kita tahu cummulative distribution function-nya ($F$).\n",
        "\n",
        "Hal ini disebabkan karena jika $X$ adalah variabel acak dengan CDF F, $F(X)$ mengikuti distribusi uniform di antara 0 dan 1. Dengan kata lain, variabel acak baru $F(X)$ akan terdistribusi uniform antara 0 dan 1. Ini membuka kemungkinan menghasilkan data buatan dengan distribusi yang kita inginkan, jika kita tahu F.\n",
        "\n",
        "Proses untuk mencapai hal tersebut adalah berikut.\n",
        "1. Hasilkan nilai acak $y$ yang terdistribusi uniform dari interval [0,1]\n",
        "2. Hitung $F^{-1}(y)$, yaitu fungsi inverse dari F yang dievaluasi pada y.\n",
        "\n",
        "Dapat dibuktikan bahwa jika $Y$ mengikuti distribusi uniform antara 0 dan 1, variabel acak $F^{-1}(y)$ memiliki distribusi yang sama dengan $X$. Dengan begitu, mengitung invers dari F bisa menghasilkan data buatan dari distribusi mana pun yang diketahui.\n",
        "\n",
        "Pada materi di kelas, Anda sudah mengenal banyak jenis distribusi probabilitas. Kali ini, kita akan coba menghasilkan angka acak mengikuti tiga jenis distribusi probabilitas berikut.\n",
        "\n",
        "*   Uniform Distribution\n",
        "*   Binomial Distribution\n",
        "*   Gaussian Distribution\n",
        "\n",
        "Mari kita mulai dengan menulis kode untuk membuat nilai acak untuk masing-masing distribusi di atas.\n",
        "\n",
        "> Pro Tips: Mengapa kita perlu mengetahui variabel acak dalam statistik? Dalam dunia data science, setiap dataset yang Anda olah adalah sebuah variabel acak. Penting untuk memahami jenis dataset yang Anda miliki untuk bisa mengetahui distribusi dan karakteristiknya.\n"
      ],
      "metadata": {
        "id": "idf5V-XbVZXx"
      }
    },
    {
      "cell_type": "markdown",
      "source": [
        "### Tugas 1: Membuat Data Distribusi Uniform.\n",
        "\n",
        "Distribusi uniform adalah distribusi peluang ketika semua nilai dalam rentang tertentu sama-sama mungkin terjadi. Dengan asumsi $a ≤ x ≤ b$, distribusi uniform memiliki rumus sebagai berikut.\n",
        "\n",
        "$$\n",
        "P(X=x) = 1/(b-a)\n",
        "$$\n",
        "\n",
        "Dengan variabel yang diketahui\n",
        "- $x$: angka yang ingin dihitung.\n",
        "- $b$: batas atas rentang yang diketahui.\n",
        "- $a$: batas bawah rentang yang diketahui."
      ],
      "metadata": {
        "id": "KzSi8n_QdpE9"
      }
    },
    {
      "cell_type": "markdown",
      "source": [
        "#### Tugas 1.1: Membuat Fungsi untuk Menghasilkan Angka Acak Uniform\n",
        "\n",
        "\n",
        "Sekarang, mari buat sebuah fungsi yang bertujuan untuk membuat angka acak yang mengikuti distribusi uniform.\n",
        "\n",
        "> Tips: Anda dapat melihat referensi fungsi dari [numpy.random](https://numpy.org/doc/2.2/reference/random/index.html) untuk menghasilkan data random berbentuk uniform.\n",
        "\n",
        "**INGAT! TIDAK DIPERKENANKAN** untuk mengubah nama fungsi yang sudah didefinisikan."
      ],
      "metadata": {
        "id": "L2NlVKf4s1pB"
      }
    },
    {
      "cell_type": "code",
      "source": [
        "def generate_rand_uniform(lower_bound:float, upper_bound:float, num_samples:int):\n",
        "  \"\"\"\n",
        "  Fungsi ini ditujukan untuk menghasilkan array bilangan acak yang terdistribusi uniform dalam rentang yang ditentukan.\n",
        "\n",
        "  Parameters:\n",
        "  - upper_bound (float): Batas bawah rentang\n",
        "  - lower_bound (float): Batas atas rentang\n",
        "  - num_samples (int): Jumlah sampel yang dihasilkan\n",
        "\n",
        "  Return:\n",
        "  - array (ndarray): Array bilangan acak yang terdistribusi uniform pada rentang [a,b)\n",
        "\n",
        "  \"\"\"\n",
        "  np.random.seed(15) #JANGAN UBAH KODE INI\n",
        "\n",
        "  # MULAI KODE DI SINI\n",
        "  # Anda wajib menggunakan numpy.random.uniform (dari numpy) untuk menjaga konsistensi output.\n",
        "  array = np.random.uniform(lower_bound, upper_bound, num_samples)\n",
        "  # AKHIRI KODE DI SINI\n",
        "\n",
        "  return array"
      ],
      "metadata": {
        "id": "qmV9PtQZH11c"
      },
      "execution_count": null,
      "outputs": []
    },
    {
      "cell_type": "code",
      "source": [
        "# Pengujian: Silakan gunakan cell ini untuk menguji fungsi yang Anda buat. Pastikan output-nya sesuai dengan yang diharapkan.\n",
        "\n",
        "print(f\"7 nilai acak yang diambil dari interval 0 sampai 1:\\n {np.array2string(generate_rand_uniform(0,1, num_samples=7), precision=3)}\\n\")\n",
        "print(f\"12 nilai acak yang diambil dari interval 20 sampai 70:\\n {np.array2string(generate_rand_uniform(20,70, num_samples=12), precision=3)}\\n\")\n",
        "print(f\"2 nilai acak yang diambil dari interval 10 sampai 99:\\n {np.array2string(generate_rand_uniform(10,99, num_samples=2), precision=3)}\\n\")"
      ],
      "metadata": {
        "id": "vu6tN61n-AQA",
        "colab": {
          "base_uri": "https://localhost:8080/"
        },
        "outputId": "f801f540-cf1f-4547-fa3c-d8215ed8d0a7"
      },
      "execution_count": null,
      "outputs": [
        {
          "output_type": "stream",
          "name": "stdout",
          "text": [
            "7 nilai acak yang diambil dari interval 0 sampai 1:\n",
            " [0.849 0.179 0.054 0.362 0.275 0.53  0.306]\n",
            "\n",
            "12 nilai acak yang diambil dari interval 20 sampai 70:\n",
            " [62.441 28.945 22.718 38.077 33.77  46.5   35.296 35.224 25.587 32.495\n",
            " 65.881 33.207]\n",
            "\n",
            "2 nilai acak yang diambil dari interval 10 sampai 99:\n",
            " [85.545 25.922]\n",
            "\n"
          ]
        }
      ]
    },
    {
      "cell_type": "markdown",
      "source": [
        "##### Output yang diharapkan\n",
        "\n",
        "```\n",
        "7 nilai acak yang diambil dari interval 0 sampai 1:\n",
        " [0.849 0.179 0.054 0.362 0.275 0.53  0.306]\n",
        "\n",
        "12 nilai acak yang diambil dari interval 20 sampai 70:\n",
        " [62.441 28.945 22.718 38.077 33.77  46.5   35.296 35.224 25.587 32.495\n",
        " 65.881 33.207]\n",
        "\n",
        "2 nilai acak yang diambil dari interval 10 sampai 99:\n",
        " [85.545 25.922]\n",
        "```"
      ],
      "metadata": {
        "id": "3K54et4f_Vdl"
      }
    },
    {
      "cell_type": "markdown",
      "source": [
        "#### Tugas 1.2: Membuat Visualisasi Distribusi Uniform\n",
        "\n",
        "Hebat! Fungsi untuk menghasilkan data acak dengan bentuk distribusi uniform telah berhasil dibuat!\n",
        "\n",
        "Sekarang, kita akan melihat visualisasi dari data yang dihasilkan berdasarkan distribusi uniform tersebut. Anda hanya perlu fokus pada dua tugas yang sudah didefinisikan dalam fungsi.\n",
        "\n",
        "\n",
        "**Catatan:**\n",
        "\n",
        "Fungsi ini tidak akan masuk dalam pengujian, silakan untuk berkreasi hingga memenuhi ekspektasi yang diharapkan."
      ],
      "metadata": {
        "id": "YCFFEYApOlzR"
      }
    },
    {
      "cell_type": "code",
      "source": [
        "def viz_uniform_teoretis(lower_bound, upper_bound, num_samples):\n",
        "  \"\"\"\n",
        "  Menghasilkan visualisasi distribusi uniform.\n",
        "\n",
        "  Parameters:\n",
        "  - upper_bound (float): Batas bawah rentang\n",
        "  - lower_bound (float): Batas atas rentang\n",
        "  - num_samples (int): Jumlah sampel yang dihasilkan\n",
        "  \"\"\"\n",
        "\n",
        "  # Mengatur ukuran plot\n",
        "  plt.figure(figsize=(8,5))\n",
        "\n",
        "  # MULAI KODE DI SINI\n",
        "\n",
        "  # Tugas 1: Gunakan fungsi generate_rand_uniform dengan parameter yang sama\n",
        "  # dengan fungsi visualisasi ini, simpan hasilnya ke dalam sebuah variabel.\n",
        "  data = generate_rand_uniform(lower_bound, upper_bound, num_samples)\n",
        "\n",
        "  # Tugas 2: Buatlah sebuah histogram dari variabel sebelumnya dengan parameter-parameternya sebagai berikut.\n",
        "  # - Total bins adalah 30.\n",
        "  # - Mengaktifkan probability density\n",
        "  # - Menggunakan warna lightgrey\n",
        "  # - Menggunakan edgecolor hitam\n",
        "  plt.hist(data, bins=30, density=True, color='lightgrey', edgecolor='black', label='Data Sampel')\n",
        "\n",
        "  # AKHIRI KODE DI SINI\n",
        "\n",
        "  x = np.linspace(lower_bound - 2, upper_bound + 2, 500)\n",
        "  pdf = uniform.pdf(x, loc=lower_bound, scale=upper_bound - lower_bound)\n",
        "  plt.plot(x, pdf, color='blue')\n",
        "  plt.fill_between(x, pdf, 0, where=(x >= lower_bound) & (x <= upper_bound), color='skyblue', alpha=0.3)\n",
        "\n",
        "  plt.axvline(lower_bound, color='grey', linestyle='--', label=f\"Batas Bawah (lower_bound={lower_bound})\")\n",
        "  plt.axvline(upper_bound, color='grey', linestyle='--', label=f\"Batas Atas (upper_bound={upper_bound})\")\n",
        "\n",
        "  plt.title(\"Distribusi Uniform\")\n",
        "  plt.legend()\n",
        "  plt.savefig(\"uniform-viz.png\")\n",
        "  plt.show()"
      ],
      "metadata": {
        "id": "OUAOoyMCJ2ur"
      },
      "execution_count": null,
      "outputs": []
    },
    {
      "cell_type": "code",
      "source": [
        "# Pengujian: Silakan gunakan cell ini untuk menguji fungsi yang Anda buat. Pastikan output-nya sesuai dengan yang diharapkan.\n",
        "# JANGAN mengubah kode di bawah ini.\n",
        "viz_uniform_teoretis(lower_bound=0, upper_bound=10, num_samples=10000000)\n",
        "\n",
        "\n",
        "# Pro Tips:\n",
        "# Dalam statistik, semakin banyak jumlah sampel, hasilnya akan semakin baik dan mendekati karakteristik populasi sebenarnya.\n",
        "# Anda dapat mencobanya dengan mengubah jumlah sampel menjadi lebih sedikit\n",
        "# daripada contoh di atas. Semakin kecil jumlah sampel, distribusi pada histogram\n",
        "# akan terlihat lebih acak dan tidak merata. Sebaliknya, semakin besar jumlah sampel,\n",
        "# bentuk histogram akan semakin mendekati distribusi uniform yang diharapkan.\n",
        "\n",
        "# Gunakan ini untuk melihat visualisasi lainnya\n",
        "# viz_uniform_teoretis(lower_bound=0, upper_bound=10, num_samples=100000)\n",
        "# viz_uniform_teoretis(lower_bound=0, upper_bound=10, num_samples=100)"
      ],
      "metadata": {
        "id": "pushOJSNqgYV",
        "colab": {
          "base_uri": "https://localhost:8080/",
          "height": 468
        },
        "outputId": "18d8eefb-7889-41c0-e4b0-228c6a740543"
      },
      "execution_count": null,
      "outputs": [
        {
          "output_type": "display_data",
          "data": {
            "text/plain": [
              "<Figure size 800x500 with 1 Axes>"
            ],
            "image/png": "[encoded data removed]"
          },
          "metadata": {}
        }
      ]
    },
    {
      "cell_type": "markdown",
      "source": [
        "##### Output yang diharapkan\n",
        "\n",
        "<img src=\"https://drive.google.com/uc?id=1cVxtTj2c9iOEszz3pxCDHaC-s7IbG0Jj\" style=\"height:300px;\"/>"
      ],
      "metadata": {
        "id": "x0nOIPDkzKxG"
      }
    },
    {
      "cell_type": "markdown",
      "source": [
        "### Tugas 2: Membuat Data Distribusi Gaussian\n",
        "\n",
        "Sekarang Anda telah memiliki sebuah fungsi yang dapat menghasilkan data acak dengan distribusi uniform. Sebagaimana yang dijelaskan sebelumnya, kita dapat membentuk variabel dengan distribusi tertentu jika memiliki angka-angka yang berdistribusi uniform.\n",
        "\n",
        "Mari kita buat variabel-variabel acak yang mengikuti distribusi Gaussian dengan masuk ke tahap berikutnya, yaitu menghitung inverse CDF $F^{-1}(y)$."
      ],
      "metadata": {
        "id": "AjlvbHrgEkPR"
      }
    },
    {
      "cell_type": "markdown",
      "source": [
        "#### Tugas 2.1: Distribusi Gaussian - Inverse CDF\n",
        "\n",
        "Distribusi Gaussian juga dikenal sebagai distribusi normal. Distribusi ini menggambarkan pola penyebaran data dari begitu banyak fenomena. Sayangnya, tidak ada bentuk rumus tertutup (closed-form) untuk fungsi CDF dari distribusi normal.\n",
        "\n",
        "Dalam distribusi Gaussian, perhitungannya melibatkan fungsi yang disebut Gaussian Error Function, yang dinotasikan sebagai $erf(x)$. Kita dapat membuat fungsi inverse CDF untuk distribusi normal dengan memanfaatkan error function tersebut.\n",
        "\n",
        "Namun, implementasi proses ini cukup rumit jika dilakukan secara manual (dan di luar jangkauan pembelajaran kelas). Untuk itu, Anda dapat memanfaatkan pustaka Python, seperti `scipy.special.erf`, `scipy.special.erfinv`, atau `math.erf` untuk mengimplementasikannya dengan lebih mudah.\n",
        "\n",
        "Jika sebuah variabel acak mengikuti distribusi normal $X \\sim N(\\mu, \\sigma)$, CDF dapat diekspresikan sebagai berikut.\n",
        "\n",
        "$$y = F(x) = \\frac{1}{2} \\left[ 1 + \\text{erf}\\left( \\frac{x - \\mu}{\\sigma \\sqrt{2}} \\right) \\right]$$\n",
        "\n",
        "Namun, jika kita mengambil invers dari fungsi erf, rumusnya dapat dituliskan sebagai berikut.\n",
        "\n",
        "$$x = F^{-1}(y) = \\sigma \\sqrt{2} \\cdot \\text{erf}^{-1}(2y - 1) + \\mu\n",
        "$$\n",
        "\n",
        "\n",
        "> Catatan:\n",
        "- Miu (μ): Nilai rata-rata dari distribusi normal/Gaussian.\n",
        "- Sigma (σ): Nilai Standar Deviasi dari distribusi normal/Gaussian.\n",
        "- $F$: Cummulative Distribution Function (CDF).\n",
        "\n",
        "> Tips:\n",
        "- Gunakan rumus di atas untuk fungsi uniform_inverse_cdf\n"
      ],
      "metadata": {
        "id": "hHH74OnrF-OB"
      }
    },
    {
      "cell_type": "code",
      "source": [
        "def uniform_inverse_cdf(probability, miu, sigma):\n",
        "  \"\"\"\n",
        "  Menghitung inverse cummulative distribution function (CDF) dari distribusi Gaussian.\n",
        "\n",
        "  Parameters:\n",
        "  - probability (float atau ndarray): Probabilitas atau array dari probabilitas.\n",
        "  - miu (float): Rata-rata dari distribusi Gaussian.\n",
        "  - sigma (float): Standar deviasi dari distribusi Gaussian.\n",
        "\n",
        "  Return:\n",
        "  - x (float atau ndarray): Nilai inverse CDF dari distribusi Gaussian berdasarkan probabilitas yang diberikan.\n",
        "  \"\"\"\n",
        "\n",
        "  # MULAI KODE DI SINI\n",
        "  x = sigma * np.sqrt(2) * erfinv(2 * probability - 1) + miu\n",
        "  # AKHIRI KODE DI SINI\n",
        "\n",
        "  return x"
      ],
      "metadata": {
        "id": "BSpGnmBp-Y11"
      },
      "execution_count": null,
      "outputs": []
    },
    {
      "cell_type": "code",
      "source": [
        "# Pengujian: Silakan gunakan cell ini untuk menguji fungsi yang Anda buat. Pastikan output-nya sesuai dengan yang diharapkan.\n",
        "\n",
        "print(f\"Inverse CDF dari distribusi Gaussian dengan miu {15} dan sigma {5} dengan angka {1e-7}: {uniform_inverse_cdf(1e-7, 15, 5):.3f}\")\n",
        "print(f\"Inverse CDF dari distribusi Gaussian dengan miu {15} dan sigma {5} dengan angka {1}: {uniform_inverse_cdf(1, 15, 5):.3f}\")"
      ],
      "metadata": {
        "id": "sodEhgg3UkYk",
        "colab": {
          "base_uri": "https://localhost:8080/"
        },
        "outputId": "3431a8a3-ddb9-474b-a4a5-0f0e5eca827b"
      },
      "execution_count": null,
      "outputs": [
        {
          "output_type": "stream",
          "name": "stdout",
          "text": [
            "Inverse CDF dari distribusi Gaussian dengan miu 15 dan sigma 5 dengan angka 1e-07: -10.997\n",
            "Inverse CDF dari distribusi Gaussian dengan miu 15 dan sigma 5 dengan angka 1: inf\n"
          ]
        }
      ]
    },
    {
      "cell_type": "markdown",
      "source": [
        "##### Output yang diharapkan\n",
        "\n",
        "```\n",
        "Inverse CDF dari distribusi Gaussian dengan miu 15 dan sigma 5 dengan angka 1e-07: -10.997\n",
        "Inverse CDF dari distribusi Gaussian dengan miu 15 dan sigma 5 dengan angka 1: inf\n",
        "```"
      ],
      "metadata": {
        "id": "S_pIyrQeVvGO"
      }
    },
    {
      "cell_type": "markdown",
      "source": [
        "#### Tugas 2.2: Menghasilkan Gaussian Distribution\n",
        "\n",
        "Keren! Anda sudah memiliki fungsi yang bisa menghitung inverse CDF untuk distribusi Gaussian. Selanjutnya, mari kita gabungkan dua fungsi yang sudah dibuat tersebut untuk membuat data acak dengan distribusi Gaussian."
      ],
      "metadata": {
        "id": "Pf8L8PrxWY_3"
      }
    },
    {
      "cell_type": "code",
      "source": [
        "def generate_gaussian(miu, sigma, num_samples):\n",
        "  \"\"\"\n",
        "  Menghasilkan data dengan distribusi Gaussian/Normal.\n",
        "\n",
        "  Parameters:\n",
        "  - miu (float): Rata-rata dari distribusi Gaussian.\n",
        "  - sigma (float): Standar deviasi dari distribusi Gaussian.\n",
        "  - num_samples (int): Jumlah sampel yang dihasilkan.\n",
        "\n",
        "  Returns:\n",
        "  - array (ndarray): Array dari probabilitas distribusi Gaussian.\n",
        "  \"\"\"\n",
        "\n",
        "  # MULAI KODE DI SINI\n",
        "\n",
        "  # Petunjuk:\n",
        "  # - Gunakan fungsi generate_rand_uniform untuk menghasilkan data acak uniform dengan rentang 0 dan 1.\n",
        "  uniform_data = generate_rand_uniform(0, 1, num_samples)\n",
        "\n",
        "  # Petunjuk:\n",
        "  # - Gunakan fungsi uniform_inverse_cdf untuk melakukan inverse CDF dari data acak yang dihasilkan pada fungsi sebelumnya.\n",
        "  array = uniform_inverse_cdf(uniform_data, miu, sigma)\n",
        "  # AKHIRI KODE DI SINI\n",
        "\n",
        "  return array"
      ],
      "metadata": {
        "id": "XVPtTroTVmSU"
      },
      "execution_count": null,
      "outputs": []
    },
    {
      "cell_type": "code",
      "source": [
        "# Pengujian: Silakan gunakan cell ini untuk menguji fungsi yang Anda buat. Pastikan output-nya sesuai dengan yang diharapkan.\n",
        "\n",
        "first_gaussian = generate_gaussian(0,1,1000)\n",
        "second_gaussian = generate_gaussian(12,6,1000)\n",
        "third_gaussian = generate_gaussian(10,5,1000)\n",
        "\n",
        "print(f\"3 angka pertama untuk variabel first_gaussian: {first_gaussian[:3]}\")\n",
        "print(f\"3 angka pertama untuk variabel second_gaussian: {second_gaussian[:3]}\")\n",
        "print(f\"3 angka pertama untuk variabel third_gaussian: {third_gaussian[:3]}\")"
      ],
      "metadata": {
        "id": "u6GInLy7Y3xm",
        "colab": {
          "base_uri": "https://localhost:8080/"
        },
        "outputId": "9f287e4d-e64d-4d87-df9a-d1d797a10095"
      },
      "execution_count": null,
      "outputs": [
        {
          "output_type": "stream",
          "name": "stdout",
          "text": [
            "3 angka pertama untuk variabel first_gaussian: [ 1.03137584 -0.91958083 -1.60394386]\n",
            "3 angka pertama untuk variabel second_gaussian: [18.18825505  6.48251504  2.37633686]\n",
            "3 angka pertama untuk variabel third_gaussian: [15.15687921  5.40209587  1.98028072]\n"
          ]
        }
      ]
    },
    {
      "cell_type": "markdown",
      "source": [
        "##### Output yang diharapkan\n",
        "\n",
        "```\n",
        "3 angka pertama untuk variabel first_gaussian: [ 1.03137584 -0.91958083 -1.60394386]\n",
        "3 angka pertama untuk variabel second_gaussian: [18.18825505  6.48251504  2.37633686]\n",
        "3 angka pertama untuk variabel third_gaussian: [15.15687921  5.40209587  1.98028072]\n",
        "```"
      ],
      "metadata": {
        "id": "5yIumSJvdqLS"
      }
    },
    {
      "cell_type": "markdown",
      "source": [
        "#### Tugas 2.3: Membuat Visualisasi Distribusi Gaussian\n",
        "\n",
        "Mantap! Angka distribusi Gaussian telah berhasil didapatkan!\n",
        "\n",
        "Selanjutnya, Anda perlu membuat kembali visualisasi yang ditujukan untuk menghasilkan distribusi Gaussian.\n",
        "\n",
        "**Catatan:**\n",
        "\n",
        "Fungsi ini tidak akan masuk dalam pengujian, silakan untuk berkreasi hingga memenuhi ekspektasi yang diharapkan."
      ],
      "metadata": {
        "id": "8zQkXi1Cd0zs"
      }
    },
    {
      "cell_type": "code",
      "source": [
        "def viz_distribusi_gaussian(first_gaussian, second_gaussian, third_gaussian):\n",
        "  \"\"\"\n",
        "  Menghasilkan histogram plot untuk tiga distribusi Gaussian yang dihasilkan pada pengujian.\n",
        "\n",
        "  Parameters:\n",
        "  - first_gaussian (ndarray): array dari distribusi Gaussian pertama.\n",
        "  - second_gaussian (ndarray): array dari distribusi Gaussian kedua.\n",
        "  - third_gaussian (ndarray): array dari distribusi Gaussian ketiga.\n",
        "  \"\"\"\n",
        "  fig, ax = plt.subplots(1, 1, figsize=(10, 4))\n",
        "\n",
        "  # MULAI KODE DI SINI\n",
        "\n",
        "  # Tugas:\n",
        "  # Buatlah tiga buah histogram plot yang diambil dari variabel first_gaussian, second_gaussian, dan third_gaussian dengan menggunakan parameter-parameter berikut.\n",
        "  # - alpha=0.5,\n",
        "  # - Jumlah bins adalah 32.\n",
        "  # - Menggunakan label sesuai jenis distribusi Gaussian-nya.\n",
        "  ax.hist(first_gaussian, bins=32, alpha=0.5, label='Gaussian (μ=0, σ=1)')\n",
        "  ax.hist(second_gaussian, bins=32, alpha=0.5, label='Gaussian (μ=12, σ=6)')\n",
        "  ax.hist(third_gaussian, bins=32, alpha=0.5, label='Gaussian (μ=10, σ=5)')\n",
        "\n",
        "  # AKHIRI KODE DI SINI\n",
        "\n",
        "  ax.set_title(\"Histograms of Gaussian distributions\")\n",
        "  ax.set_xlabel(\"Values\")\n",
        "  ax.set_ylabel(\"Frequencies\")\n",
        "  ax.legend()\n",
        "  plt.savefig(\"gaussian-viz.png\")\n",
        "  plt.show()"
      ],
      "metadata": {
        "id": "z06j86rqZNON"
      },
      "execution_count": null,
      "outputs": []
    },
    {
      "cell_type": "code",
      "source": [
        "# Pengujian: Silakan gunakan cell ini untuk menguji fungsi yang Anda buat. Pastikan output-nya sesuai dengan yang diharapkan.\n",
        "\n",
        "viz_distribusi_gaussian(first_gaussian, second_gaussian, third_gaussian)"
      ],
      "metadata": {
        "id": "QOHfSvs7ZIaK",
        "colab": {
          "base_uri": "https://localhost:8080/",
          "height": 410
        },
        "outputId": "cd2f070c-b112-410c-b68e-58490fd1f2bc"
      },
      "execution_count": null,
      "outputs": [
        {
          "output_type": "display_data",
          "data": {
            "text/plain": [
              "<Figure size 1000x400 with 1 Axes>"
            ],
            "image/png": "[encoded data removed]"
          },
          "metadata": {}
        }
      ]
    },
    {
      "cell_type": "markdown",
      "source": [
        "##### Output yang diharapkan\n",
        "\n",
        "<img src=\"https://drive.google.com/uc?id=1jj6RZ6AMkQvHnQM3hJ82X6ZAdJv5RPfz\" style=\"height:300px;\"/>"
      ],
      "metadata": {
        "id": "5PFMTW6aDwzS"
      }
    },
    {
      "cell_type": "markdown",
      "source": [
        "### Tugas 3: Membuat Data Binomial Distribution\n",
        "\n",
        "Selanjutnya, kita akan membuat data yang mengikuti distribusi binomial. Binomial adalah jenis distribusi untuk variabel acak diskret yang menghitung jumlah keberhasilan (success) dalam sejumlah percobaan yang sudah ditetapkan.\n",
        "\n",
        "Ada beberapa sifat utama dalam distribusi binomial, yakni berikut.\n",
        "- Jumlah percobaan tetap (n).\n",
        "- Percobaan saling independen, artinya setiap percobaan tidak memengaruhi percobaan lain.\n",
        "- Peluang sukses tetap (p) setiap percobaan.\n",
        "  - Contohnya, saat Anda mencoba melempar koin, peluang keluar kepala (head) selalu 0.5 setiap kali dilempar.\n",
        "- Hanya dua hasil pada setiap percobaan, yakni berhasil atau gagal."
      ],
      "metadata": {
        "id": "ohTwnJs_FuKO"
      }
    },
    {
      "cell_type": "markdown",
      "source": [
        "#### Tugas 3.1: Distribusi Binomial - Inverse CDF\n",
        "\n",
        "Jika suatu variabel acak $X$ mengikuti bentuk $Binomial(n,p)$, rumus PDF nya adalah sebagai berikut.\n",
        "\n",
        "$$P(X = k) = {n \\choose k}p^{k}(1-p)^{n-k}.$$\n",
        "\n",
        "Oleh sebab itu, jika $0 \\leq x \\leq n$, rumus CDF-nya sebagai berikut.\n",
        "\n",
        "$$F(x) = P(X \\leq x) = P(X = 0) + P(X = 1) + \\ldots + P(X = \\lfloor x \\rfloor) = \\sum_{k=0}^{\\lfloor x \\rfloor} {n \\choose k}p^{k}(1-p)^{n-k}$$\n",
        "\n",
        "Dalam rumus tersebut, notasi $\\lfloor x \\rfloor$ melambangkan floor function yang mengembalikan bilangan bulat terbesar yang kurang dari atau sama dengan x. Misalnya, $\\lfloor 4.7 \\rfloor = 4$.\n",
        "\n",
        "Fungsi ini diperlukan karena domain $F$ adalah bilangan riil, tetapi $P(X = k)$ hanya tidak nol untuk nilai-nilai bilangan bulat positif. Selain itu, jika $x > n$, maka $F(x) = 1$.\n",
        "\n",
        "Sama seperti Gaussian, binomial pun tidak memiliki bentuk tertutup (closed-form) untuk fungsi inverse CDF $F$ untuk kasus ini. Anda dapat memanfaatkan library `scipy.stats.binom` yang mengimplementasikan inverse CDF menggunakan **generalized quantile functions**.\n",
        "\n",
        "> Tips: Anda dapat menggunakan method .ppf dalam scipy.stats.binom untuk mengimplementasikan rumus inverse CDF"
      ],
      "metadata": {
        "id": "CQU3ijUrJ5Nd"
      }
    },
    {
      "cell_type": "code",
      "source": [
        "from scipy.stats import binom\n",
        "\n",
        "def binomial_inverse_cdf(probability, n_trials, success_prob):\n",
        "  \"\"\"\n",
        "  Menghitung inverse CDF dari distribusi Binomial.\n",
        "\n",
        "  Parameters:\n",
        "  - probability (float atau ndarray): Probabilitas atau array dari probabilitas.\n",
        "  - n_trials (int): Banyaknya percobaan yang dilakukan.\n",
        "  - success_prob (float): Jumlah percobaan yang berhasil.\n",
        "\n",
        "  Returns:\n",
        "  - array (float atau ndarray): Nilai inverse CDF untuk distribusi Binomial berdasarkan probabilitas yang diberikan.\n",
        "  \"\"\"\n",
        "\n",
        "  # MULAI KODE DI SINI\n",
        "  array = binom.ppf(probability, n_trials, success_prob)\n",
        "  # AKHIRI KODE DI SINI\n",
        "\n",
        "  return array"
      ],
      "metadata": {
        "id": "Ep6BH12YFvr3"
      },
      "execution_count": null,
      "outputs": []
    },
    {
      "cell_type": "code",
      "source": [
        "# Pengujian: Silakan gunakan cell ini untuk menguji fungsi yang Anda buat. Pastikan output-nya sesuai dengan yang diharapkan.\n",
        "\n",
        "print(f\"Inverse CDF dari distribusi Binomial dengan probability {1e-5}, n_trials {15}, dan success_prob {0.9}: {binomial_inverse_cdf(1e-5, 15, 0.9): .3f}\")\n",
        "print(f\"Inverse CDF dari distribusi Binomial dengan probability {0}, n_trials {5}, dan success_prob {0.1}: {binomial_inverse_cdf(0, 5, 0.1): .3f}\")\n",
        "print(f\"Inverse CDF dari distribusi Binomial dengan probability {0.3}, n_trials {22}, dan success_prob {0.5}: {binomial_inverse_cdf(0.3, 22, 0.5): .3f}\")"
      ],
      "metadata": {
        "id": "SIxnH2uwP7VB",
        "colab": {
          "base_uri": "https://localhost:8080/"
        },
        "outputId": "eef78eb2-9aa7-4612-ee48-ea549dcd32f4"
      },
      "execution_count": null,
      "outputs": [
        {
          "output_type": "stream",
          "name": "stdout",
          "text": [
            "Inverse CDF dari distribusi Binomial dengan probability 1e-05, n_trials 15, dan success_prob 0.9:  7.000\n",
            "Inverse CDF dari distribusi Binomial dengan probability 0, n_trials 5, dan success_prob 0.1: -1.000\n",
            "Inverse CDF dari distribusi Binomial dengan probability 0.3, n_trials 22, dan success_prob 0.5:  10.000\n"
          ]
        }
      ]
    },
    {
      "cell_type": "markdown",
      "source": [
        "##### Output yang diharapkan\n",
        "\n",
        "```\n",
        "Inverse CDF dari distribusi Binomial dengan probability 1e-05, n_trials 15, dan success_prob 0.9:  7.000\n",
        "Inverse CDF dari distribusi Binomial dengan probability 0, n_trials 5, dan success_prob 0.1: -1.000\n",
        "Inverse CDF dari distribusi Binomial dengan probability 0.3, n_trials 22, dan success_prob 0.5:  10.000\n",
        "```"
      ],
      "metadata": {
        "id": "kkjE8xqSSRZA"
      }
    },
    {
      "cell_type": "markdown",
      "source": [
        "#### Tugas 3.2: Menghasilkan Binomial Distribution\n",
        "\n",
        "Mantap! Anda sudah membuat fungsi yang menghasilkan inverse CDF untuk distribusi binomial.\n",
        "\n",
        "Sekarang, mari buat fungsi yang membuat data acak dengan distribusi binomial."
      ],
      "metadata": {
        "id": "yR-F9q7IP6kM"
      }
    },
    {
      "cell_type": "code",
      "source": [
        "def generate_binomial(n_trials, success_prob, num_samples):\n",
        "  \"\"\"\n",
        "  Menghasilkan sebuah array dari angka acak dengan distribusi binomial.\n",
        "\n",
        "  Parameters:\n",
        "  - n_trials (int): Banyaknya percobaan yang dilakukan untuk distribusi binomial.\n",
        "  - success_prob (float): Banyaknya percobaan yang berhasil.\n",
        "  - num_samples(int): Banyaknya sampel yang akan dihasilkan.\n",
        "\n",
        "  Returns:\n",
        "  - array (ndarray): Sebuah array yang berisi angka acak dengan distribusi Binomial\n",
        "  \"\"\"\n",
        "\n",
        "  # MULAI KODE DI SINI\n",
        "\n",
        "  # Petunjuk:\n",
        "  # - Gunakan fungsi generate_rand_uniform untuk menghasilkan data acak uniform dengan rentang 0 dan 1.\n",
        "  uniform_data = generate_rand_uniform(0, 1, num_samples)\n",
        "\n",
        "  # Petunjuk:\n",
        "  # - Gunakan fungsi binom_inverse_cdf untuk melakukan inverse CDF dari data acak yang dihasilkan pada fungsi sebelumnya.\n",
        "  array = binomial_inverse_cdf(uniform_data, n_trials, success_prob)\n",
        "  # AKHIRI KODE DI SINI\n",
        "\n",
        "  return array"
      ],
      "metadata": {
        "id": "aYxihg-bTe4S"
      },
      "execution_count": null,
      "outputs": []
    },
    {
      "cell_type": "code",
      "source": [
        "# Pengujian: Silakan gunakan cell ini untuk menguji fungsi yang Anda buat. Pastikan output-nya sesuai dengan yang diharapkan.\n",
        "\n",
        "first_binomial = generate_binomial(12, 0.4, 1000)\n",
        "second_binomial = generate_binomial(15, 0.5, 1000)\n",
        "third_binomial = generate_binomial(25, 0.8, 1000)\n",
        "\n",
        "print(f\"3 angka pertama untuk variabel first_binomial: {first_binomial[:3]}\")\n",
        "print(f\"3 angka pertama untuk variabel second_binomial: {second_binomial[:3]}\")\n",
        "print(f\"3 angka pertama untuk variabel third_binomial: {third_gaussian[:3]}\")"
      ],
      "metadata": {
        "id": "nKTYrTL2UP6_",
        "colab": {
          "base_uri": "https://localhost:8080/"
        },
        "outputId": "7590fcc7-b1ea-4f31-b5fe-5796804bf72e"
      },
      "execution_count": null,
      "outputs": [
        {
          "output_type": "stream",
          "name": "stdout",
          "text": [
            "3 angka pertama untuk variabel first_binomial: [7. 3. 2.]\n",
            "3 angka pertama untuk variabel second_binomial: [9. 6. 4.]\n",
            "3 angka pertama untuk variabel third_binomial: [15.15687921  5.40209587  1.98028072]\n"
          ]
        }
      ]
    },
    {
      "cell_type": "markdown",
      "source": [
        "##### Output yang diharapkan\n",
        "\n",
        "```\n",
        "3 angka pertama untuk variabel first_binomial: [7. 3. 2.]\n",
        "3 angka pertama untuk variabel second_binomial: [9. 6. 4.]\n",
        "3 angka pertama untuk variabel third_binomial: [15.15687921  5.40209587  1.98028072]\n",
        "```"
      ],
      "metadata": {
        "id": "R79ZOEj9gsDk"
      }
    },
    {
      "cell_type": "markdown",
      "source": [
        "#### Tugas 3.3: Membuat Visualisasi Ditribusi Binomial.\n",
        "\n",
        "*Marvelous!* Anda sudah membuat fungsi untuk menghasilkan angka acak distribusi binomial. Lanjut, mari kita buat visualisasinya.\n",
        "\n",
        "**Catatan:**\n",
        "\n",
        "Fungsi ini tidak akan masuk dalam pengujian, silakan untuk berkreasi hingga memenuhi ekspektasi yang diharapkan."
      ],
      "metadata": {
        "id": "s4NW6exCg4Ck"
      }
    },
    {
      "cell_type": "code",
      "source": [
        "def viz_distribusi_binomial(first_binomial, second_binomial, third_binomial):\n",
        "  \"\"\"\n",
        "  Menghasilkan histogram plot untuk tiga distribusi binomial yang dihasilkan pada pengujian.\n",
        "\n",
        "  Parameters:\n",
        "  - first_binomial (ndarray): array dari distribusi binomial pertama.\n",
        "  - second_binomial (ndarray): array dari distribusi binomial kedua.\n",
        "  - third_binomial (ndarray): array dari distribusi binomial ketiga.\n",
        "  \"\"\"\n",
        "\n",
        "  fig, ax = plt.subplots(1, 1, figsize=(10, 4))\n",
        "\n",
        "  # MULAI KODE DI SINI\n",
        "  # Tugas:\n",
        "  # Buatlah tiga buah histogram plot yang diambil dari variabel first_binomial,\n",
        "  # second_binomial, dan third_binomial dengan menggunakan parameter-parameter berikut.\n",
        "  # - alpha=0.5,\n",
        "  # - Menggunakan label sesuai dengan jenis distribusi Gaussian-nya.\n",
        "  ax.hist(first_binomial, bins=10, alpha=0.5, label='first_binomial')\n",
        "  ax.hist(second_binomial, bins=10, alpha=0.5, label='second_binomial')\n",
        "  ax.hist(third_binomial, bins=10, alpha=0.5, label='third_binomial')\n",
        "  # AKHIRI KODE DI SINI\n",
        "\n",
        "  ax.set_title(\"Histograms of Binomial distributions\")\n",
        "  ax.set_xlabel(\"Values\")\n",
        "  ax.set_ylabel(\"Frequencies\")\n",
        "  ax.legend()\n",
        "  plt.savefig(\"binomial.png\")\n",
        "  plt.savefig(\"binomial-viz.png\")\n",
        "  plt.show()"
      ],
      "metadata": {
        "id": "8wvSWH4kGTvS"
      },
      "execution_count": null,
      "outputs": []
    },
    {
      "cell_type": "code",
      "source": [
        "# Pengujian: Silakan gunakan cell ini untuk menguji fungsi yang Anda buat. Pastikan output-nya sesuai dengan yang diharapkan.\n",
        "\n",
        "viz_distribusi_binomial(first_binomial, second_binomial, third_binomial)"
      ],
      "metadata": {
        "id": "xJBt9-t2UmxI",
        "colab": {
          "base_uri": "https://localhost:8080/",
          "height": 410
        },
        "outputId": "8863f258-79c3-43c2-dda0-a2522720e211"
      },
      "execution_count": null,
      "outputs": [
        {
          "output_type": "display_data",
          "data": {
            "text/plain": [
              "<Figure size 1000x400 with 1 Axes>"
            ],
            "image/png": "[encoded data removed]"
          },
          "metadata": {}
        }
      ]
    },
    {
      "cell_type": "markdown",
      "source": [
        "##### Output yang diharapkan\n",
        "\n",
        "<img src=\"https://drive.google.com/uc?id=1Vq88KSfdkbjT_R0PaChjZwHnSxVHcMdI\" style=\"height:300px;\"/>"
      ],
      "metadata": {
        "id": "7OQcWau-iE6V"
      }
    },
    {
      "cell_type": "markdown",
      "source": [
        "# Segmen 2: Implementasi Algoritma Naive Bayes dengan Data Sintetis\n",
        "\n",
        "Selamat! Anda telah mempelajari dasar-dasar distribusi probabilitas pada segmen pertama. Kali ini, Anda akan diajak untuk mengintegrasikan teori distribusi probabilitas dengan algoritma Naive Bayes.\n",
        "\n",
        "Segmen ini akan berfokus pada dua hal:\n",
        "\n",
        "* Membuat data sintetis yang mengikuti distribusi tertentu.\n",
        "\n",
        "* Melakukan klasifikasi Naive Bayes terhadap data sintetis yang telah dibuat.\n",
        "\n",
        "Pada tahap klasifikasi, Naive Bayes akan digunakan untuk mengklasifikasikan **jenis burung** berdasarkan karakteristiknya."
      ],
      "metadata": {
        "id": "-a5kiWaSiqQs"
      }
    },
    {
      "cell_type": "markdown",
      "source": [
        "## Segmen 2.1: Membuat Data Sintetis\n",
        "\n",
        "Pada tahap ini, Anda akan membuat dataset sintetis yang merepresentasikan jenis burung berdasarkan empat karakteristik atau atribut berikut:\n",
        "\n",
        "* **wingspan_cm**: Ukuran bentang sayap burung dalam sentimeter, mengikuti distribusi Gaussian.\n",
        "* **weight_g**: Berat burung dalam gram, mengikuti distribusi Gaussian.\n",
        "* **sing_days**: Jumlah hari burung berkicau dalam sebulan (dengan asumsi satu bulan = 30 hari), mengikuti distribusi binomial.\n",
        "* **beak_head_ratio**: Rasio panjang paruh hingga kepala burung, mengikuti distribusi uniform.\n",
        "\n",
        "Karena sebelumnya sudah membuat fungsi untuk menghasilkan berbagai distribusi tersebut, Anda akan memanfaatkannya pada tahap ini."
      ],
      "metadata": {
        "id": "uO52K8V1Xhlv"
      }
    },
    {
      "cell_type": "code",
      "source": [
        "# Mendefinisikan nama-nama kolom/fitur dataset\n",
        "FEATURES = [\"wingspan_cm\", \"weight_g\", \"sing_days\", \"beak_head_ratio\"]"
      ],
      "metadata": {
        "id": "kuC4Uwqzisgy"
      },
      "execution_count": null,
      "outputs": []
    },
    {
      "cell_type": "markdown",
      "source": [
        "Selanjutnya, Anda perlu menyimpan parameter distribusi untuk setiap fiturnya. Misalnya, fitur `weight_g` memiliki distribusi Gaussian dan parameter miu dan sigma.\n",
        "\n",
        "Agar meminimalkan kompleksitas kode, kita akan menggunakan [dataclass](https://docs.python.org/3/library/dataclasses.html) pada setiap parameter untuk meminimalkan kompleksitas kode.\n",
        "\n",
        "Jangan khawatir jika Anda belum familier dengan fungsi ini. dataclass adalah decorator pada Python (dikenalkan sejak Python 3.7) yang secara otomatis menambahkan *boilerplate code* dalam sebuah class untuk menyimpan data.\n",
        "\n",
        "Contohnya, Anda memiliki class berikut.\n",
        "\n",
        "```\n",
        "@dataclass\n",
        "class my_course:\n",
        "  course_id: int\n",
        "  course_name: string\n",
        "\n",
        "foo = my_course(course_name='Dicoding')\n",
        "```\n",
        "\n",
        "Anda dapat mengakses informasi `course_name` dari `foo` melalui sintaks `foo.course_name` yang akan mengembalikan string \"Dicoding\".\n",
        "\n",
        "\n",
        "> Mengapa menggunakan dataclass? Anda perlu menyimpan parameter distribusi untuk setiap fitur. Misalnya, untuk weight dan height, diperlukan parameter μ dan σ. Jika dibuat terpisah, seperti miu_weight. sigma_weight, miu_height, sigma_height, akan tidak efektif karena terlalu panjang dan beragam.\n",
        "\n",
        "__repr__ adalah method yang digunakan untuk menampilkan objek saat Anda print.\n",
        "\n",
        "Tanpa `__repr__`:\n",
        "```\n",
        "<my_class object at 0x7f9f3b4d>\n",
        "```\n",
        "\n",
        "Dengan `__repr__`:\n",
        "```\n",
        "my_class(a='Dicoding')\n",
        "```"
      ],
      "metadata": {
        "id": "D4HgYgDTatLx"
      }
    },
    {
      "cell_type": "code",
      "source": [
        "# Mendefinisikan parameter distribusi dalam class.\n",
        "\n",
        "@dataclass\n",
        "class gaussian_params:\n",
        "  miu: float\n",
        "  sigma: float\n",
        "\n",
        "  def __repr__(self):\n",
        "    return f\"gaussian_params(mu={self.miu:.3f}, sigma={self.sigma:.3f})\"\n",
        "\n",
        "@dataclass\n",
        "class binomial_params:\n",
        "  n_trials: int\n",
        "  probability: float\n",
        "\n",
        "  def __repr__(self):\n",
        "    return f\"binomial_params(n_trials={self.n_trials:.3f}, probability={self.probability:.3f})\"\n",
        "\n",
        "@dataclass\n",
        "class uniform_params:\n",
        "  lower_bound: int\n",
        "  upper_bound: int\n",
        "\n",
        "  def __repr__(self):\n",
        "    return f\"uniform_params(lower_bound={self.lower_bound:.3f}, upper_bound={self.upper_bound:.3f})\""
      ],
      "metadata": {
        "id": "q6mEKNGvFUpz"
      },
      "execution_count": null,
      "outputs": []
    },
    {
      "cell_type": "markdown",
      "source": [
        "Setelah mendefinisikan *class* untuk menyimpan parameter distribusi, sekarang kita perlu membuat sebuah dictionary bernama `breed_params` yang berisi semua informasi distribusi untuk masing-masing jenis burung.\n",
        "\n",
        "Dalam dictionary ini, setiap key mewakili satu jenis burung (dengan label numerik 0,1, dan 2) dan setiap value berisi parameter distribusi untuk semua atribut fitur (seperti wingspan, weight, sing_days, dan beak_head_ratio).\n",
        "\n",
        "Nantinya, dictionary ini digunakan untuk menghasilkan data sintetis berdasarkan jenis distribusi dan parameter yang sudah ditetapkan."
      ],
      "metadata": {
        "id": "1O9HsKz8KrEs"
      }
    },
    {
      "cell_type": "code",
      "source": [
        "breed_params  = {\n",
        "    0: {\n",
        "        \"wingspan_cm\": gaussian_params(miu=35, sigma=1.5),\n",
        "        \"weight_g\": gaussian_params(miu=20, sigma=1),\n",
        "        \"sing_days\": binomial_params(n_trials=30, probability=0.8),\n",
        "        \"beak_head_ratio\": uniform_params(lower_bound=0.6, upper_bound=0.1)\n",
        "    },\n",
        "    1: {\n",
        "        \"wingspan_cm\": gaussian_params(miu=30, sigma=2),\n",
        "        \"weight_g\": gaussian_params(miu=25, sigma=5),\n",
        "        \"sing_days\": binomial_params(n_trials=30, probability=0.5),\n",
        "        \"beak_head_ratio\": uniform_params(lower_bound=0.2, upper_bound=0.5)\n",
        "    },\n",
        "    2: {\n",
        "        \"wingspan_cm\": gaussian_params(miu=40, sigma=3.5),\n",
        "        \"weight_g\": gaussian_params(miu=32, sigma=3),\n",
        "        \"sing_days\": binomial_params(n_trials=30, probability=0.3),\n",
        "        \"beak_head_ratio\": uniform_params(lower_bound=0.1, upper_bound=0.3)\n",
        "    }\n",
        "}\n",
        "\n",
        "breed_params"
      ],
      "metadata": {
        "id": "Vv0MB5q_HDoJ",
        "colab": {
          "base_uri": "https://localhost:8080/"
        },
        "outputId": "abc726af-e491-4767-8068-1e3e2573f0a3"
      },
      "execution_count": null,
      "outputs": [
        {
          "output_type": "execute_result",
          "data": {
            "text/plain": [
              "{0: {'wingspan_cm': gaussian_params(mu=35.000, sigma=1.500),\n",
              "  'weight_g': gaussian_params(mu=20.000, sigma=1.000),\n",
              "  'sing_days': binomial_params(n_trials=30.000, probability=0.800),\n",
              "  'beak_head_ratio': uniform_params(lower_bound=0.600, upper_bound=0.100)},\n",
              " 1: {'wingspan_cm': gaussian_params(mu=30.000, sigma=2.000),\n",
              "  'weight_g': gaussian_params(mu=25.000, sigma=5.000),\n",
              "  'sing_days': binomial_params(n_trials=30.000, probability=0.500),\n",
              "  'beak_head_ratio': uniform_params(lower_bound=0.200, upper_bound=0.500)},\n",
              " 2: {'wingspan_cm': gaussian_params(mu=40.000, sigma=3.500),\n",
              "  'weight_g': gaussian_params(mu=32.000, sigma=3.000),\n",
              "  'sing_days': binomial_params(n_trials=30.000, probability=0.300),\n",
              "  'beak_head_ratio': uniform_params(lower_bound=0.100, upper_bound=0.300)}}"
            ]
          },
          "metadata": {},
          "execution_count": 24
        }
      ]
    },
    {
      "cell_type": "markdown",
      "source": [
        "### Tugas 1: Menghasilkan Data Sintetis\n",
        "\n",
        "*Mantap!* Kita sudah menyiapkan parameter setiap distribusi beserta jenis burungnya (direpresentasikan oleh numerik 0, 1, dan 2).\n",
        "\n",
        "Sekarang, Anda perlu membuat sebuah fungsi yang ditujukan untuk membuat data sintetis berdasarkan parameter-parameter tersebut.\n",
        "\n",
        "Tugasnya sederhana, Anda perlu mengisi bagian antara `# MULAI KODE DI SINI` dan `# AKHIRI KODE DI SINI` dengan petunjuk berikut.\n",
        "\n",
        "* Melakukan `loop` untuk setiap fitur yang tersimpan pada variabel `FEATURES`.\n",
        "* Periksa nama fitur untuk menentukan jenis distribusi yang sesuai.\n",
        "* Menghasilkan data acak sesuai distribusi dengan memanggil fungsi yang sudah Anda buat sebelumnya.\n",
        "  * `generate_gaussian` untuk fitur yang distribusinya Gaussian.\n",
        "  * `generate_binomial` untuk fitur yang distribusinya binomial.\n",
        "  * `generate_rand_uniform` untuk fitur yang distribusinya uniform.\n",
        "\n",
        "<details>\n",
        "<summary>\n",
        "<font color=\"yellow\">PETUNJUK!</font>\n",
        "</summary>\n",
        "\n",
        "Gunakan parameter dari variabel `breed_params` ketika memanggil fungsi distribusi, seperti `generate_gaussian`.\n",
        "\n",
        "Contohnya, untuk fitur `wingspan_cm` pada breed 0, bisa kamu tulis seperti berikut.\n",
        "```\n",
        "generate_gaussian(breed_params[0]['wingspan_cm'].miu, breed_params[0]['wingspan_cm'].sigma, n_samples)\n",
        "```"
      ],
      "metadata": {
        "id": "3rxLC5-u-UJL"
      }
    },
    {
      "cell_type": "code",
      "source": [
        "def generate_data_synthetic(breed, features, n_samples, params):\n",
        "  \"\"\"\n",
        "  Menghasilkan data sintetis untuk jenis burung secara spesifik berdasarkan fitur dan parameter yang diberikan.\n",
        "\n",
        "  Parameters:\n",
        "  - breed (str): Jenis burung untuk data yang dihasilkan nantinya.\n",
        "  - freatures (list[str]): List dari fitur setiap data. Misalnya ['wingspan_cm', 'weight_g', 'sing_days', 'beak_head_ratio']\n",
        "  - n_samples (int): Banyaknya sampel yang akan dihasilkan.\n",
        "  - params (dict): Dictionary yang terdiri dari parameter untuk setiap jenis burung.\n",
        "\n",
        "  Returns:\n",
        "  - df (pandas.DataFrame): Sebuah dataframe yang berisikan data sintetis jenis burung.\n",
        "  \"\"\"\n",
        "  df = pd.DataFrame()\n",
        "\n",
        "  # MULAI KODE DI SINI\n",
        "\n",
        "  for feature in features:\n",
        "        if feature in [\"wingspan_cm\", \"weight_g\"]:\n",
        "            df[feature] = generate_gaussian(\n",
        "                params[breed][feature].miu,\n",
        "                params[breed][feature].sigma,\n",
        "                n_samples\n",
        "            )\n",
        "        elif feature == \"sing_days\":\n",
        "            df[feature] = generate_binomial(\n",
        "                params[breed][feature].n_trials,\n",
        "                params[breed][feature].probability,\n",
        "                n_samples\n",
        "            )\n",
        "        elif feature == \"beak_head_ratio\":\n",
        "            df[feature] = generate_rand_uniform(\n",
        "                params[breed][feature].lower_bound,\n",
        "                params[breed][feature].upper_bound,\n",
        "                n_samples\n",
        "            )\n",
        "\n",
        "  # AKHIRI KODE DI SINI\n",
        "\n",
        "  df['breed'] = breed\n",
        "\n",
        "  return df\n",
        "\n",
        "# Generate data for each breed\n",
        "df_0 = generate_data_synthetic(breed=0, features=FEATURES, n_samples=1200, params=breed_params)\n",
        "df_1 = generate_data_synthetic(breed=1, features=FEATURES, n_samples=1350, params=breed_params)\n",
        "df_2 = generate_data_synthetic(breed=2, features=FEATURES, n_samples=900, params=breed_params)\n",
        "\n",
        "# Concatenate all breeds into a single dataframe\n",
        "df_all_breeds = pd.concat([df_0, df_1, df_2]).reset_index(drop=True)\n",
        "\n",
        "# Shuffle the data\n",
        "df_all_breeds = df_all_breeds.sample(frac = 1, random_state=42)\n",
        "\n",
        "# Print the dataframe\n",
        "df_all_breeds.head(10)"
      ],
      "metadata": {
        "id": "FFoPlIbbHQLj",
        "colab": {
          "base_uri": "https://localhost:8080/",
          "height": 363
        },
        "outputId": "2e4979be-a32e-45a2-9959-0244a94a2b16"
      },
      "execution_count": null,
      "outputs": [
        {
          "output_type": "execute_result",
          "data": {
            "text/plain": [
              "      wingspan_cm   weight_g  sing_days  beak_head_ratio  breed\n",
              "1451    28.716498  21.791245       13.0         0.278155      1\n",
              "51      34.339161  19.559440       23.0         0.435117      0\n",
              "567     34.706978  19.804652       24.0         0.388720      0\n",
              "1612    28.209610  20.524025       13.0         0.255602      1\n",
              "1164    33.875004  19.250003       22.0         0.486686      0\n",
              "1094    36.660672  21.107115       26.0         0.167061      0\n",
              "229     35.033846  20.022564       24.0         0.345499      0\n",
              "298     36.118026  20.745350       26.0         0.214015      0\n",
              "605     35.673931  20.449287       25.0         0.263306      0\n",
              "2227    30.777602  26.944005       16.0         0.395386      1"
            ],
            "text/html": [
              "\n",
              "  <div id=\"df-302d20c3-2e61-40fe-9ec9-a5d3ae17c68f\" class=\"colab-df-container\">\n",
              "    <div>\n",
              "<style scoped>\n",
              "    .dataframe tbody tr th:only-of-type {\n",
              "        vertical-align: middle;\n",
              "    }\n",
              "\n",
              "    .dataframe tbody tr th {\n",
              "        vertical-align: top;\n",
              "    }\n",
              "\n",
              "    .dataframe thead th {\n",
              "        text-align: right;\n",
              "    }\n",
              "</style>\n",
              "<table border=\"1\" class=\"dataframe\">\n",
              "  <thead>\n",
              "    <tr style=\"text-align: right;\">\n",
              "      <th></th>\n",
              "      <th>wingspan_cm</th>\n",
              "      <th>weight_g</th>\n",
              "      <th>sing_days</th>\n",
              "      <th>beak_head_ratio</th>\n",
              "      <th>breed</th>\n",
              "    </tr>\n",
              "  </thead>\n",
              "  <tbody>\n",
              "    <tr>\n",
              "      <th>1451</th>\n",
              "      <td>28.716498</td>\n",
              "      <td>21.791245</td>\n",
              "      <td>13.0</td>\n",
              "      <td>0.278155</td>\n",
              "      <td>1</td>\n",
              "    </tr>\n",
              "    <tr>\n",
              "      <th>51</th>\n",
              "      <td>34.339161</td>\n",
              "      <td>19.559440</td>\n",
              "      <td>23.0</td>\n",
              "      <td>0.435117</td>\n",
              "      <td>0</td>\n",
              "    </tr>\n",
              "    <tr>\n",
              "      <th>567</th>\n",
              "      <td>34.706978</td>\n",
              "      <td>19.804652</td>\n",
              "      <td>24.0</td>\n",
              "      <td>0.388720</td>\n",
              "      <td>0</td>\n",
              "    </tr>\n",
              "    <tr>\n",
              "      <th>1612</th>\n",
              "      <td>28.209610</td>\n",
              "      <td>20.524025</td>\n",
              "      <td>13.0</td>\n",
              "      <td>0.255602</td>\n",
              "      <td>1</td>\n",
              "    </tr>\n",
              "    <tr>\n",
              "      <th>1164</th>\n",
              "      <td>33.875004</td>\n",
              "      <td>19.250003</td>\n",
              "      <td>22.0</td>\n",
              "      <td>0.486686</td>\n",
              "      <td>0</td>\n",
              "    </tr>\n",
              "    <tr>\n",
              "      <th>1094</th>\n",
              "      <td>36.660672</td>\n",
              "      <td>21.107115</td>\n",
              "      <td>26.0</td>\n",
              "      <td>0.167061</td>\n",
              "      <td>0</td>\n",
              "    </tr>\n",
              "    <tr>\n",
              "      <th>229</th>\n",
              "      <td>35.033846</td>\n",
              "      <td>20.022564</td>\n",
              "      <td>24.0</td>\n",
              "      <td>0.345499</td>\n",
              "      <td>0</td>\n",
              "    </tr>\n",
              "    <tr>\n",
              "      <th>298</th>\n",
              "      <td>36.118026</td>\n",
              "      <td>20.745350</td>\n",
              "      <td>26.0</td>\n",
              "      <td>0.214015</td>\n",
              "      <td>0</td>\n",
              "    </tr>\n",
              "    <tr>\n",
              "      <th>605</th>\n",
              "      <td>35.673931</td>\n",
              "      <td>20.449287</td>\n",
              "      <td>25.0</td>\n",
              "      <td>0.263306</td>\n",
              "      <td>0</td>\n",
              "    </tr>\n",
              "    <tr>\n",
              "      <th>2227</th>\n",
              "      <td>30.777602</td>\n",
              "      <td>26.944005</td>\n",
              "      <td>16.0</td>\n",
              "      <td>0.395386</td>\n",
              "      <td>1</td>\n",
              "    </tr>\n",
              "  </tbody>\n",
              "</table>\n",
              "</div>\n",
              "    <div class=\"colab-df-buttons\">\n",
              "\n",
              "  <div class=\"colab-df-container\">\n",
              "    <button class=\"colab-df-convert\" onclick=\"convertToInteractive('df-302d20c3-2e61-40fe-9ec9-a5d3ae17c68f')\"\n",
              "            title=\"Convert this dataframe to an interactive table.\"\n",
              "            style=\"display:none;\">\n",
              "\n",
              "  <svg xmlns=\"http://www.w3.org/2000/svg\" height=\"24px\" viewBox=\"0 -960 960 960\">\n",
              "    <path d=\"M120-120v-720h720v720H120Zm60-500h600v-160H180v160Zm220 220h160v-160H400v160Zm0 220h160v-160H400v160ZM180-400h160v-160H180v160Zm440 0h160v-160H620v160ZM180-180h160v-160H180v160Zm440 0h160v-160H620v160Z\"/>\n",
              "  </svg>\n",
              "    </button>\n",
              "\n",
              "  <style>\n",
              "    .colab-df-container {\n",
              "      display:flex;\n",
              "      gap: 12px;\n",
              "    }\n",
              "\n",
              "    .colab-df-convert {\n",
              "      background-color: #E8F0FE;\n",
              "      border: none;\n",
              "      border-radius: 50%;\n",
              "      cursor: pointer;\n",
              "      display: none;\n",
              "      fill: #1967D2;\n",
              "      height: 32px;\n",
              "      padding: 0 0 0 0;\n",
              "      width: 32px;\n",
              "    }\n",
              "\n",
              "    .colab-df-convert:hover {\n",
              "      background-color: #E2EBFA;\n",
              "      box-shadow: 0px 1px 2px rgba(60, 64, 67, 0.3), 0px 1px 3px 1px rgba(60, 64, 67, 0.15);\n",
              "      fill: #174EA6;\n",
              "    }\n",
              "\n",
              "    .colab-df-buttons div {\n",
              "      margin-bottom: 4px;\n",
              "    }\n",
              "\n",
              "    [theme=dark] .colab-df-convert {\n",
              "      background-color: #3B4455;\n",
              "      fill: #D2E3FC;\n",
              "    }\n",
              "\n",
              "    [theme=dark] .colab-df-convert:hover {\n",
              "      background-color: #434B5C;\n",
              "      box-shadow: 0px 1px 3px 1px rgba(0, 0, 0, 0.15);\n",
              "      filter: drop-shadow(0px 1px 2px rgba(0, 0, 0, 0.3));\n",
              "      fill: #FFFFFF;\n",
              "    }\n",
              "  </style>\n",
              "\n",
              "    <script>\n",
              "      const buttonEl =\n",
              "        document.querySelector('#df-302d20c3-2e61-40fe-9ec9-a5d3ae17c68f button.colab-df-convert');\n",
              "      buttonEl.style.display =\n",
              "        google.colab.kernel.accessAllowed ? 'block' : 'none';\n",
              "\n",
              "      async function convertToInteractive(key) {\n",
              "        const element = document.querySelector('#df-302d20c3-2e61-40fe-9ec9-a5d3ae17c68f');\n",
              "        const dataTable =\n",
              "          await google.colab.kernel.invokeFunction('convertToInteractive',\n",
              "                                                    [key], {});\n",
              "        if (!dataTable) return;\n",
              "\n",
              "        const docLinkHtml = 'Like what you see? Visit the ' +\n",
              "          '<a target=\"_blank\" href=https://colab.research.google.com/notebooks/data_table.ipynb>data table notebook</a>'\n",
              "          + ' to learn more about interactive tables.';\n",
              "        element.innerHTML = '';\n",
              "        dataTable['output_type'] = 'display_data';\n",
              "        await google.colab.output.renderOutput(dataTable, element);\n",
              "        const docLink = document.createElement('div');\n",
              "        docLink.innerHTML = docLinkHtml;\n",
              "        element.appendChild(docLink);\n",
              "      }\n",
              "    </script>\n",
              "  </div>\n",
              "\n",
              "\n",
              "    <div id=\"df-3ce9b5ae-1ca9-42d1-b2b6-5b67d3550cbb\">\n",
              "      <button class=\"colab-df-quickchart\" onclick=\"quickchart('df-3ce9b5ae-1ca9-42d1-b2b6-5b67d3550cbb')\"\n",
              "                title=\"Suggest charts\"\n",
              "                style=\"display:none;\">\n",
              "\n",
              "<svg xmlns=\"http://www.w3.org/2000/svg\" height=\"24px\"viewBox=\"0 0 24 24\"\n",
              "     width=\"24px\">\n",
              "    <g>\n",
              "        <path d=\"M19 3H5c-1.1 0-2 .9-2 2v14c0 1.1.9 2 2 2h14c1.1 0 2-.9 2-2V5c0-1.1-.9-2-2-2zM9 17H7v-7h2v7zm4 0h-2V7h2v10zm4 0h-2v-4h2v4z\"/>\n",
              "    </g>\n",
              "</svg>\n",
              "      </button>\n",
              "\n",
              "<style>\n",
              "  .colab-df-quickchart {\n",
              "      --bg-color: #E8F0FE;\n",
              "      --fill-color: #1967D2;\n",
              "      --hover-bg-color: #E2EBFA;\n",
              "      --hover-fill-color: #174EA6;\n",
              "      --disabled-fill-color: #AAA;\n",
              "      --disabled-bg-color: #DDD;\n",
              "  }\n",
              "\n",
              "  [theme=dark] .colab-df-quickchart {\n",
              "      --bg-color: #3B4455;\n",
              "      --fill-color: #D2E3FC;\n",
              "      --hover-bg-color: #434B5C;\n",
              "      --hover-fill-color: #FFFFFF;\n",
              "      --disabled-bg-color: #3B4455;\n",
              "      --disabled-fill-color: #666;\n",
              "  }\n",
              "\n",
              "  .colab-df-quickchart {\n",
              "    background-color: var(--bg-color);\n",
              "    border: none;\n",
              "    border-radius: 50%;\n",
              "    cursor: pointer;\n",
              "    display: none;\n",
              "    fill: var(--fill-color);\n",
              "    height: 32px;\n",
              "    padding: 0;\n",
              "    width: 32px;\n",
              "  }\n",
              "\n",
              "  .colab-df-quickchart:hover {\n",
              "    background-color: var(--hover-bg-color);\n",
              "    box-shadow: 0 1px 2px rgba(60, 64, 67, 0.3), 0 1px 3px 1px rgba(60, 64, 67, 0.15);\n",
              "    fill: var(--button-hover-fill-color);\n",
              "  }\n",
              "\n",
              "  .colab-df-quickchart-complete:disabled,\n",
              "  .colab-df-quickchart-complete:disabled:hover {\n",
              "    background-color: var(--disabled-bg-color);\n",
              "    fill: var(--disabled-fill-color);\n",
              "    box-shadow: none;\n",
              "  }\n",
              "\n",
              "  .colab-df-spinner {\n",
              "    border: 2px solid var(--fill-color);\n",
              "    border-color: transparent;\n",
              "    border-bottom-color: var(--fill-color);\n",
              "    animation:\n",
              "      spin 1s steps(1) infinite;\n",
              "  }\n",
              "\n",
              "  @keyframes spin {\n",
              "    0% {\n",
              "      border-color: transparent;\n",
              "      border-bottom-color: var(--fill-color);\n",
              "      border-left-color: var(--fill-color);\n",
              "    }\n",
              "    20% {\n",
              "      border-color: transparent;\n",
              "      border-left-color: var(--fill-color);\n",
              "      border-top-color: var(--fill-color);\n",
              "    }\n",
              "    30% {\n",
              "      border-color: transparent;\n",
              "      border-left-color: var(--fill-color);\n",
              "      border-top-color: var(--fill-color);\n",
              "      border-right-color: var(--fill-color);\n",
              "    }\n",
              "    40% {\n",
              "      border-color: transparent;\n",
              "      border-right-color: var(--fill-color);\n",
              "      border-top-color: var(--fill-color);\n",
              "    }\n",
              "    60% {\n",
              "      border-color: transparent;\n",
              "      border-right-color: var(--fill-color);\n",
              "    }\n",
              "    80% {\n",
              "      border-color: transparent;\n",
              "      border-right-color: var(--fill-color);\n",
              "      border-bottom-color: var(--fill-color);\n",
              "    }\n",
              "    90% {\n",
              "      border-color: transparent;\n",
              "      border-bottom-color: var(--fill-color);\n",
              "    }\n",
              "  }\n",
              "</style>\n",
              "\n",
              "      <script>\n",
              "        async function quickchart(key) {\n",
              "          const quickchartButtonEl =\n",
              "            document.querySelector('#' + key + ' button');\n",
              "          quickchartButtonEl.disabled = true;  // To prevent multiple clicks.\n",
              "          quickchartButtonEl.classList.add('colab-df-spinner');\n",
              "          try {\n",
              "            const charts = await google.colab.kernel.invokeFunction(\n",
              "                'suggestCharts', [key], {});\n",
              "          } catch (error) {\n",
              "            console.error('Error during call to suggestCharts:', error);\n",
              "          }\n",
              "          quickchartButtonEl.classList.remove('colab-df-spinner');\n",
              "          quickchartButtonEl.classList.add('colab-df-quickchart-complete');\n",
              "        }\n",
              "        (() => {\n",
              "          let quickchartButtonEl =\n",
              "            document.querySelector('#df-3ce9b5ae-1ca9-42d1-b2b6-5b67d3550cbb button');\n",
              "          quickchartButtonEl.style.display =\n",
              "            google.colab.kernel.accessAllowed ? 'block' : 'none';\n",
              "        })();\n",
              "      </script>\n",
              "    </div>\n",
              "\n",
              "    </div>\n",
              "  </div>\n"
            ],
            "application/vnd.google.colaboratory.intrinsic+json": {
              "type": "dataframe",
              "variable_name": "df_all_breeds",
              "summary": "{\n  \"name\": \"df_all_breeds\",\n  \"rows\": 3450,\n  \"fields\": [\n    {\n      \"column\": \"wingspan_cm\",\n      \"properties\": {\n        \"dtype\": \"number\",\n        \"std\": 4.5492324459873945,\n        \"min\": 24.041431536859072,\n        \"max\": 50.41863237925917,\n        \"num_unique_values\": 3450,\n        \"samples\": [\n          28.97685066407403,\n          33.718531226472805,\n          38.42877838148979\n        ],\n        \"semantic_type\": \"\",\n        \"description\": \"\"\n      }\n    },\n    {\n      \"column\": \"weight_g\",\n      \"properties\": {\n        \"dtype\": \"number\",\n        \"std\": 5.779156409591585,\n        \"min\": 10.103578842147684,\n        \"max\": 40.93025632507929,\n        \"num_unique_values\": 3450,\n        \"samples\": [\n          22.442126660185075,\n          34.296328066182014,\n          30.653238612705533\n        ],\n        \"semantic_type\": \"\",\n        \"description\": \"\"\n      }\n    },\n    {\n      \"column\": \"sing_days\",\n      \"properties\": {\n        \"dtype\": \"number\",\n        \"std\": 6.477513692498755,\n        \"min\": 2.0,\n        \"max\": 29.0,\n        \"num_unique_values\": 28,\n        \"samples\": [\n          12.0,\n          19.0,\n          17.0\n        ],\n        \"semantic_type\": \"\",\n        \"description\": \"\"\n      }\n    },\n    {\n      \"column\": \"beak_head_ratio\",\n      \"properties\": {\n        \"dtype\": \"number\",\n        \"std\": 0.12602447292907598,\n        \"min\": 0.10028892263425192,\n        \"max\": 0.5992776934143702,\n        \"num_unique_values\": 3450,\n        \"samples\": [\n          0.2913423077462429,\n          0.49055157521534215,\n          0.1653489034327466\n        ],\n        \"semantic_type\": \"\",\n        \"description\": \"\"\n      }\n    },\n    {\n      \"column\": \"breed\",\n      \"properties\": {\n        \"dtype\": \"number\",\n        \"std\": 0,\n        \"min\": 0,\n        \"max\": 2,\n        \"num_unique_values\": 3,\n        \"samples\": [\n          1,\n          0,\n          2\n        ],\n        \"semantic_type\": \"\",\n        \"description\": \"\"\n      }\n    }\n  ]\n}"
            }
          },
          "metadata": {},
          "execution_count": 25
        }
      ]
    },
    {
      "cell_type": "markdown",
      "source": [
        "#### Output yang diharapkan\n",
        "<img src=\"https://drive.google.com/uc?id=1-3FgN4dbUq2Bh3o8GzqnrPKFmKydXle5\"\n",
        "style=\"height:300px;\"/>"
      ],
      "metadata": {
        "id": "UMduKeqzTN25"
      }
    },
    {
      "cell_type": "markdown",
      "source": [
        "Hebat! Data sintetis berhasil dibuat!\n",
        "\n",
        "Sebelum memulai proses training, kita perlu membagi dataset menjadi data training dan data testing. Anda akan menggunakan 70% dari dataset untuk training dan 30% sisanya untuk testing."
      ],
      "metadata": {
        "id": "4ffH6bb6UCwi"
      }
    },
    {
      "cell_type": "code",
      "source": [
        "split = int(len(df_all_breeds) * 0.7)\n",
        "\n",
        "df_train = df_all_breeds[:split].reset_index(drop=True)\n",
        "df_test = df_all_breeds[split:].reset_index(drop=True)"
      ],
      "metadata": {
        "id": "X0wLVznpJsOv"
      },
      "execution_count": null,
      "outputs": []
    },
    {
      "cell_type": "markdown",
      "source": [
        "## Segmen 2.1: Mengimplementasikan Algoritma Naive Bayes"
      ],
      "metadata": {
        "id": "q4S5rwMBUfdF"
      }
    },
    {
      "cell_type": "markdown",
      "source": [
        "Mari kita lakukan **rekap singkat** tentang algoritma Naive Bayes.\n",
        "\n",
        "Naive Bayes adalah algoritma yang sering digunakan dalam **teknik klasifikasi (supervised learning)** untuk menetapkan label kelas pada data berdasarkan atribut atau karakteristiknya dengan memanfaatkan **probabilitas bersyarat**.\n",
        "\n",
        "**Probabilitas bersyarat** sendiri adalah ukuran peluang terjadinya suatu peristiwa dengan syarat bahwa peristiwa lain sudah diketahui terjadi.\n",
        "\n",
        "Untuk memudahkan pemahaman, mari kita lihat contoh berikut.\n",
        "\n",
        "Misalkan kita memiliki \\$X\\$, yaitu sekumpulan data training.\n",
        "Setiap elemen \\$x \\in X\\$ (dibaca: **x adalah anggota dari himpunan X**) direpresentasikan sebagai sebuah **vektor** dengan bentuk\n",
        "\n",
        "$$\n",
        "x = (x_1, x_2, \\ldots, x_n)\n",
        "$$\n",
        "\n",
        "\\$n\\$ adalah jumlah atribut dalam setiap sampel.\n",
        "\n",
        "Sebagai contoh, \\$X\\$ bisa berupa data tentang 1000 ekor burung, yaitu setiap burung dideskripsikan dengan tiga atribut, seperti panjang sayap (wingspan), berat (weight), dan rasio paruh terhadap kepala (beak\\_head\\_ratio).\n",
        "\n",
        "Dengan demikian, himpunan \\$X\\$ ditulis sebagai berikut.\n",
        "\n",
        "$$\n",
        "X = \\{ \\text{bird}_1, \\text{bird}_2, \\ldots, \\text{bird}_{1000} \\}\n",
        "$$\n",
        "\n",
        "\\$\\text{bird}\\_1\\$ adalah salah satu anggota himpunan yang direpresentasikan sebagai vektor berdimensi 3:\n",
        "\n",
        "$$\n",
        "\\text{bird}_1 = (\\text{wingspan}_{\\text{bird}_1}, \\text{weight}_{\\text{bird}_1}, \\text{beak_head_ratio}_{\\text{bird}_1})\n",
        "$$\n",
        "\n",
        "---\n",
        "\n",
        "Sekarang, **tujuan utama kita** adalah memprediksi kelas atau jenis burung berdasarkan atribut-atribut tersebut.\n",
        "Misalnya kita memiliki \\$m\\$ kelas\n",
        "\n",
        "$$\n",
        "C_1, C_2, \\ldots, C_m\n",
        "$$\n",
        "\n",
        "Menggunakan contoh di atas, kita bisa memiliki \\$m = 3\\$ kelas untuk setiap jenis burung yang terdapat pada data training.\n",
        "Naive Bayes melakukan prediksi ini dengan cara menghitung **posterior probabilities** yang menyatakan seberapa besar kemungkinan sebuah sampel termasuk dalam kelas \\$C\\_i\\$, yaitu\n",
        "\n",
        "$$\n",
        "P(C_i \\mid x), \\quad i = 1, \\ldots, m.\n",
        "$$\n",
        "\n",
        "Kelas yang diprediksi adalah kelas \\$C\\_i\\$ dengan nilai probabilitas tertinggi.\n",
        "Secara lebih formal, dari semua nilai posterior probability untuk sampel tersebut, Naive Bayes memilih kelas dengan rumus berikut.\n",
        "\n",
        "$$\n",
        "\\text{Prediksi kelas untuk } x = \\arg \\max \\left\\{ P(C_1 \\mid x), P(C_2 \\mid x), \\ldots, P(C_m \\mid x) \\right\\}\n",
        "$$\n",
        "\n",
        "Contohnya, jika nilai tertinggi adalah \\$P(C\\_5 | x)\\$, maka\n",
        "\n",
        "$$\n",
        "\\arg \\max \\left\\{ P(C_1 \\mid x), P(C_2 \\mid x), \\ldots, P(C_m \\mid x) \\right\\} = 5\n",
        "$$\n",
        "\n",
        "---\n",
        "\n",
        "Lalu, **apa sebenarnya yang dimaksud dengan posterior probability? Bagaimana cara menghitungnya?**\n",
        "\n",
        "**Posterior probability** adalah probabilitas bahwa sebuah hipotesis atau kelas tertentu benar setelah kita mempertimbangkan data yang kita amati.\n",
        "Sederhananya, ini seperti “tingkat keyakinan” kita pada suatu kelas setelah melihat ciri-ciri datanya.\n",
        "\n",
        "Nilai ini dapat dihitung menggunakan rumus berikut.\n",
        "\n",
        "$$\n",
        "P(C_i \\mid x) = \\frac{P(x \\mid C_i)P(C_i)}{P(x)}\n",
        "$$\n",
        "\n",
        " **Artinya**\n",
        "\n",
        "* $P(C_i \\mid x)$ adalah **posterior probability**, yaitu probabilitas sampel x termasuk pada kelas $C_i$ setelah mempertimbangkan atribut-atributnya.\n",
        "* $P(x \\mid C_i)$ adalah **likelihood**, yaitu probabilitas kita mengamati data x jika kita tahu sampel tersebut berasal dari kelas $C_i$.\n",
        "* $P(C_i)$ adalah **prior probability**, yaitu probabilitas awal atau dugaan awal bahwa sebuah sampel termasuk kelas $C_i$ sebelum melihat data.\n",
        "* $P(x)$ adalah **evidence** atau **marginal likelihood**, yaitu probabilitas keseluruhan untuk mengamati data x, terlepas dari kelasnya.\n",
        "* $C_i$ adalah **kelas ke-i**, salah satu dari semua kelas yang mungkin.\n",
        "* $x$ adalah **vektor fitur atau atribut** dari satu sampel data yang ingin kita klasifikasikan.\n",
        "\n",
        "Secara umum, mengihitung langsung $P(x \\mid C_i)$ untuk setiap kombinasi atribut dan kelas itu bisa rumit dan memakan banyak waktu. Untuk menyederhanakan perhitungan, algoritma Naive Bayes membuat asumsi \"naive\" atau sederhana, yaitu menganggap setiap atribut bersifat bebas satu sama lain dalam kelas yang sama.\n",
        "\n",
        "Artinya, kita menganggap nilai satu atribut tidak memengaruhi nilai atribut lain, jika sudah diketahui kelasnya.\n",
        "\n",
        "Misalnya, kita anggap bahwa dalam satu jenis burung tertentu, atribut seperti berat, lebar sayap, dan rasio paruh terhadap kepala tidak saling berkaitan atau memengaruhi satu sama lain.\n",
        "\n",
        "Berarti, kita mengasumsikan bahwa jika kita sudah tahu jenis burungnya, nilai berat tidak memberi petunjuk apa-apa tentang lebar sayap atau rasio paruh-kepala. Misalnya, burung itu bisa berbobot 200 gram dengan lebar sayap 30 cm, atau 200 gram dengan lebar sayap 35 cm—semuanya sama-sama mungkin tanpa aturan hubungan tertentu di antara atribut-atribut itu.\n",
        "\n",
        "---\n",
        "\n",
        "Dengan asumsi ini, kita tidak perlu menghitung semua kombinasi atribut dengan rumit. Jadi, rumus berikut didapatkan.\n",
        "\n",
        "$$P(x \\mid C_i) = P(x_1 \\mid C_i) \\cdot P(x_2 \\mid C_i) \\cdot \\ldots \\cdot P(x_n \\mid C_i) = \\prod_{k = 1}^{n} P(x_k \\mid C_i).$$\n",
        "\n",
        "Tujuan rumusnya menjadi sederhana, Anda hanya perlu mengalikan probabilitas masing-masing atribut secara terpisah.\n",
        "\n",
        "Probabilitas $P(x_k \\mid C_i)$ dapat diestimasi dari data training, tapi cara menghitungnya dapat berbeda tergantung tipe data atributnya.\n",
        "- Jika atribut kategorikal, $P(x_k \\mid C_i)$ dihitung sebagai frekuensi nilai itu pada kelas $C_i$ (Dijelaskan pada materi latihan di modul ke-2).\n",
        "- Jika atribut bernilai kontinu, Anda perlu menganggap nilai tersebut mengikuti distribusi tertentu (misalnya Gaussian) dan estimasi parameternya dari data training. Untuk distirbusi Gaussian, kita hitung $\\mu$ dan $\\sigma$ dari data training di kelas itu, lalu\n",
        "$$P(x_k \\mid C_i) = \\text{PDF}_{\\text{gaussian}}(x_k, \\mu_{C_i}, \\sigma_{C_i})$$\n",
        "\n",
        "> Mengapa harus menggunakan distribusi untuk nilai kontinu atau diskret? Sebab tidak ada nilai pasti suatu atribut bernilai $x$, seperti 50, 50.4, atau lainnya. Kita hanya bisa menghitung probabilitas angka tersebut melalui distribusinya.\n",
        "\n",
        "Inilah tahapan kita untuk menklasifikasikan jenis burung menggunakan algoritma Naive Bayes.\n",
        "1. Menghitung probability density function (PDF) untuk distribusi data.\n",
        "2. Mengestimasikan parameter.\n",
        "3. Menghitung probabilitas X adalah jenis burung tertentu (posterior probability) -> $P(x \\mid C_i)$.\n",
        "\n",
        "\n",
        "> Catatan: Anda dapat mempelajari kembali materi tentang Naive Bayes pada modul ke-2 kelas Matematika untuk Data Science."
      ],
      "metadata": {
        "id": "DI4-cgujUm-a"
      }
    },
    {
      "cell_type": "markdown",
      "source": [
        "### Tugas 2: PDF untuk Distribusi Uniform\n",
        "\n",
        "Untuk menggunakan algoritma Naive Bayes dalam memprediksi kelas, kita perlu menghitung **probabilitas tiap kelas**. Salah satu langkah penting adalah menghitung prior probability, yaitu peluang awal sebuah sampel termasuk ke dalam kelas tertentu sebelum melihat datanya.\n",
        "\n",
        "Meskipun dengan data sintetis yang dihasilkan kita sudah tahu nilai prior (proporsi jenis/kelas burung dalam data sintetis), kita masih perlu cara untuk menghitung probabilitas fitur tertentu untuk sebuah kelas.\n",
        "\n",
        "Karena data kita memiliki tiga jenis distribusi, yaitu uniform, Gaussian, dan binomial, kita akan membuat probability density function (PDF) untuk masing-masing distribusi tersebut.\n",
        "\n",
        "Untuk rumus uniform PDF, jika sebuah variabel acak $X$ mengikuti distribusi $Uniform(a,b)$, PDF untuk $X$ memiliki rumus berikut.\n",
        "\n",
        "$$f(x;a,b) =\n",
        "\\begin{cases}\n",
        "\\frac{1}{b-a}, \\quad \\text{if } x \\in [a,b]. \\\\\n",
        "0, \\quad \\text{otherwise.}\n",
        "\\end{cases}\n",
        "$$\n",
        "\n",
        "Secara probabilitas, ini artinya:\n",
        "\n",
        "- Jika 𝑥 ∈[ 𝑎,𝑏], maka peluang relatifnya konstan (semua nilai dalam interval sama-sama mungkin) dan dapat dihitung dengan rumus $\\frac{1}{b-a}$.\n",
        "\n",
        "- Jika 𝑥 berada di luar interval [𝑎,𝑏] peluangnya nol.\n",
        "- 𝑎 adalah batas bawah, 𝑏 adalah batas atas.\n",
        "\n",
        "Dalam tugas selanjutnya, Anda diminta untuk membuat sebuah fungsi yang bisa menghasilkan pdf uniform berdasarkan rumus yang diberikan sebelumnya."
      ],
      "metadata": {
        "id": "xtLhKPT--D-J"
      }
    },
    {
      "cell_type": "code",
      "source": [
        "def pdf_for_uniform(val, lower_bound, upper_bound):\n",
        "  \"\"\"\n",
        "  Menghitung probability density function (PDF) untuk distribusi uniform antara `lower_bound` dan `upper_bound` berdasarkan nilai `val`.\n",
        "\n",
        "  Parameters:\n",
        "  - val (float): Nilai yang akan dievaluasi dalam PDF.\n",
        "  - lower_bound (float): Nilai batas bawah untuk distribusi uniform.\n",
        "  - upper_bound (float): Nilai batas atas untuk distribusi uniform.\n",
        "\n",
        "  Returns:\n",
        "  - pdf (float): Nilai probabilitas density function (PDF) untuk nilai dari variabel `val`. Mengembalikan 0 jika `val` di luar rentang [lower_bound, upper_bound]\n",
        "  \"\"\"\n",
        "\n",
        "  # MULAI KODE DI SINI\n",
        "  if lower_bound <= val <= upper_bound:\n",
        "        pdf = 1 / (upper_bound - lower_bound)\n",
        "  else:\n",
        "        pdf = 0\n",
        "  # AKHIRI KODE DI SINI\n",
        "\n",
        "  return pdf"
      ],
      "metadata": {
        "id": "q41wZw8ELhYQ"
      },
      "execution_count": null,
      "outputs": []
    },
    {
      "cell_type": "code",
      "source": [
        "# Pengujian: Silakan gunakan cell ini untuk menguji fungsi yang Anda buat. Pastikan output-nya sesuai dengan yang diharapkan.\n",
        "\n",
        "print(f\"PDF untuk distribusi uniform dengan lower_bound={0} dan upper_bound={2} untuk nilai {1e-1}: {pdf_for_uniform(1e-1, 0, 2):.3f}\")\n",
        "print(f\"PDF untuk distribusi uniform dengan lower_bound={15} dan upper_bound={30} untuk nilai {2}: {pdf_for_uniform(2, 15, 30):.3f}\")"
      ],
      "metadata": {
        "id": "TZpASyt8AlX1",
        "colab": {
          "base_uri": "https://localhost:8080/"
        },
        "outputId": "e62b87bf-acf3-4c15-c0ed-eb4cb8be755e"
      },
      "execution_count": null,
      "outputs": [
        {
          "output_type": "stream",
          "name": "stdout",
          "text": [
            "PDF untuk distribusi uniform dengan lower_bound=0 dan upper_bound=2 untuk nilai 0.1: 0.500\n",
            "PDF untuk distribusi uniform dengan lower_bound=15 dan upper_bound=30 untuk nilai 2: 0.000\n"
          ]
        }
      ]
    },
    {
      "cell_type": "markdown",
      "source": [
        "#### Output yang diharapkan\n",
        "```\n",
        "PDF untuk distribusi uniform dengan lower_bound=0 dan upper_bound=2 untuk nilai 0.1: 0.500\n",
        "PDF untuk distribusi uniform dengan lower_bound=15 dan upper_bound=30 untuk nilai 2: 0.000\n",
        "```"
      ],
      "metadata": {
        "id": "G62x1FEmGITA"
      }
    },
    {
      "cell_type": "markdown",
      "source": [
        "### Tugas 3: PDF untuk Distribusi Gaussian\n",
        "\n",
        "Jika sebuah variabel acak $X$ mengikuti distribusi Gaussian. Rumus untuk PDF-nya sebagai berikut.\n",
        "\n",
        "$$f(x;\\mu,\\sigma) = \\frac{1}{\\sigma \\sqrt{2 \\pi}} e^{-\\frac{1}{2}\\left(\\frac{x - \\mu}{\\sigma}\\right)^2}$$\n",
        "\n",
        "Ada tiga bagian utama dari rumus tersebut.\n",
        "- konstanta di depan: $\\frac{1}{\\sigma \\sqrt{2\\pi}}$\n",
        "- eksponensial: $e^{(\\cdots)}$\n",
        "- bagian dalam eksponen: $-\\tfrac{1}{2} \\big((x-\\mu)/\\sigma\\big)^2$\n",
        "\n",
        "Sama seperti sebelumnya, Anda perlu melengkapi fungsi di bawah ini dengan rumus yang sudah disebutkan."
      ],
      "metadata": {
        "id": "0nkDrA3l_1Af"
      }
    },
    {
      "cell_type": "code",
      "source": [
        "def pdf_for_gaussian(val, miu, sigma):\n",
        "  \"\"\"\n",
        "  Menghitung probabily density function (PDF) untuk distribusi Gaussian berdasarkan nilai yang diberikan.\n",
        "\n",
        "  Parameters:\n",
        "  - val (float atau array-like): Nilai yang akan dievaluasi untuk PDF.\n",
        "  - miu (float): Nilai rata-rata untuk distribusi Gaussian.\n",
        "  - sigma (float): Nilai standar deviasi untuk distribusi Gaussian.\n",
        "\n",
        "  Returns:\n",
        "  - pdf (float atau array-like): Nilai PDF berdasarkan variabel `val` yang diberikan.\n",
        "  \"\"\"\n",
        "\n",
        "  # MULAI KODE DI SINI\n",
        "  pdf = (1 / (sigma * np.sqrt(2 * np.pi))) * np.exp(-0.5 * ((val - miu) / sigma) ** 2)\n",
        "  # AKHIRI KODE DI SINI\n",
        "\n",
        "  return pdf"
      ],
      "metadata": {
        "id": "cFlaBuATArR0"
      },
      "execution_count": null,
      "outputs": []
    },
    {
      "cell_type": "code",
      "source": [
        "# Pengujian: Silakan gunakan cell ini untuk menguji fungsi yang Anda buat. Pastikan output-nya sesuai dengan yang diharapkan.\n",
        "\n",
        "print(f\"PDF untuk distribusi Gaussian dengan miu={20} dan sigma={3} untuk nilai {10}: {pdf_for_gaussian(10, 20, 3):.3f}\")\n",
        "print(f\"PDF untuk distribusi Gaussian dengan miu={20} dan sigma={3} untuk nilai {0}: {pdf_for_gaussian(0, 20, 3):.3f}\")\n",
        "print(f\"PDF untuk distribusi Gaussian dengan miu={15} dan sigma={5} untuk nilai {1}: {pdf_for_gaussian(1, 15, 5):.3f}\")"
      ],
      "metadata": {
        "id": "Jakja_P9Areb",
        "colab": {
          "base_uri": "https://localhost:8080/"
        },
        "outputId": "cb3b0fca-ba64-4d5f-c51c-e2e3dfb1f021"
      },
      "execution_count": null,
      "outputs": [
        {
          "output_type": "stream",
          "name": "stdout",
          "text": [
            "PDF untuk distribusi Gaussian dengan miu=20 dan sigma=3 untuk nilai 10: 0.001\n",
            "PDF untuk distribusi Gaussian dengan miu=20 dan sigma=3 untuk nilai 0: 0.000\n",
            "PDF untuk distribusi Gaussian dengan miu=15 dan sigma=5 untuk nilai 1: 0.002\n"
          ]
        }
      ]
    },
    {
      "cell_type": "markdown",
      "source": [
        "#### Output yang diharapkan\n",
        "\n",
        "```\n",
        "PDF untuk distribusi Gaussian dengan miu=20 dan sigma=3 untuk nilai 10: 0.001\n",
        "PDF untuk distribusi Gaussian dengan miu=20 dan sigma=3 untuk nilai 0: 0.000\n",
        "PDF untuk distribusi Gaussian dengan miu=15 dan sigma=5 untuk nilai 1: 0.002\n",
        "```"
      ],
      "metadata": {
        "id": "IWeadMHPIlih"
      }
    },
    {
      "cell_type": "markdown",
      "source": [
        "### Tugas 4: Probability Mass Function (PMF) untuk Distribusi Binomial\n",
        "\n",
        "Untuk distribusi binomial, karena ini adalah distribusi diskret, kita akan menggunakan Probability Mass Function (PMF) alih-alih PDF. Ingat bahwa jika sebuah variabel acak $X$ mengikuti distribusi binomial dengan parameter `n_trials (n)` dan `probability (p)`, rumus PMF yang didapat menjadi berikut.\n",
        "\n",
        "$$f(k; n, p) = {n \\choose k}  p^k  (1-p)^{n-k}$$\n",
        "\n",
        "Dengan ${n \\choose k} = \\frac{n!}{k!(n-k)!}$ dapat dihitung menggunakan beberapa fungsi dari Python, seperti berikut.\n",
        "\n",
        "*   math.factorial,\n",
        "*   scipy.special.comb, dan\n",
        "*   scipy.binom.pmf (Direkomendasikan)\n"
      ],
      "metadata": {
        "id": "-DGVy5YR_8n6"
      }
    },
    {
      "cell_type": "code",
      "source": [
        "def pmf_for_binomial(val, n_trials, probability):\n",
        "  \"\"\"\n",
        "  Menghitung probability mass function (PMF) untuk distribusi binomial berdasarkan nilai pada variabel `val`\n",
        "\n",
        "  Parameters:\n",
        "  - val (int): Nilai yang akan dievaluasi untuk PMF.\n",
        "  - n_trials (int): Banyaknya percobaan dalam distribusi binomial.\n",
        "  - probability (float): Banyaknya percobaan yang berhasil.\n",
        "\n",
        "  Returns:\n",
        "  - pmf (float): Nilai probability mass function (PMF) untuk distribusi binomial untuk nilai pada variabel `val`.\n",
        "  \"\"\"\n",
        "\n",
        "  # MULAI KODE DI SINI\n",
        "  pmf = binom.pmf(val, n_trials, probability)\n",
        "  # AKHIRI KODE DI SINI\n",
        "\n",
        "  return pmf"
      ],
      "metadata": {
        "id": "X-xcZelOAs7b"
      },
      "execution_count": null,
      "outputs": []
    },
    {
      "cell_type": "code",
      "source": [
        "# Pengujian: Silakan gunakan cell ini untuk menguji fungsi yang Anda buat. Pastikan output-nya sesuai dengan yang diharapkan.\n",
        "\n",
        "print(f\"PMF untuk distribusi binomial dengan n_trials={15} dan probability={0.9} dengan nilai {15}: {pmf_for_binomial(15, 15, 0.9):.3f}\")\n",
        "print(f\"PMF untuk distribusi binomial dengan n_trials={30} dan probability={0.5} dengan nilai {15}: {pmf_for_binomial(15, 30, 0.5):.3f}\")\n",
        "print(f\"PMF untuk distribusi binomial dengan n_trials={15} dan probability={0.5} dengan nilai {20}: {pmf_for_binomial(20, 15, 0.5):.3f}\")"
      ],
      "metadata": {
        "id": "Afcx3ZvPAxO2",
        "colab": {
          "base_uri": "https://localhost:8080/"
        },
        "outputId": "f042a20f-ffed-4264-f4e3-a7f667e20299"
      },
      "execution_count": null,
      "outputs": [
        {
          "output_type": "stream",
          "name": "stdout",
          "text": [
            "PMF untuk distribusi binomial dengan n_trials=15 dan probability=0.9 dengan nilai 15: 0.206\n",
            "PMF untuk distribusi binomial dengan n_trials=30 dan probability=0.5 dengan nilai 15: 0.144\n",
            "PMF untuk distribusi binomial dengan n_trials=15 dan probability=0.5 dengan nilai 20: 0.000\n"
          ]
        }
      ]
    },
    {
      "cell_type": "markdown",
      "source": [
        "#### Output yang diharapkan\n",
        "\n",
        "```\n",
        "PMF untuk distribusi binomial dengan n_trials=15 dan probability=0.9 dengan nilai 15: 0.206\n",
        "PMF untuk distribusi binomial dengan n_trials=30 dan probability=0.5 dengan nilai 15: 0.144\n",
        "PMF untuk distribusi binomial dengan n_trials=15 dan probability=0.5 dengan nilai 20: 0.000\n",
        "```"
      ],
      "metadata": {
        "id": "AYlKtSi-M8xh"
      }
    },
    {
      "cell_type": "markdown",
      "source": [
        "### Tugas 5: Mengestimasikan Parameter Distribusi\n",
        "\n",
        "**Hebat!** Semua fungsi untuk menghasilkan PDF (dan PMF) dari masing-masing distribusi telah berhasil dibuat. Namun, untuk menggunakan setiap fungsi tersebut, kita perlu menyiapkan beberapa parameter, seperti\n",
        "\n",
        "- `miu` and `sigma` for the `wingspan_cm` feature\n",
        "- `miu` and `sigma` for the `weight_g` feature\n",
        "- `n_trials` and `probability` for the `sing_days` feature\n",
        "- `lower_bound` and `upper_bound` for the `beak_head_ratio` feature\n",
        "\n",
        "Oleh karena itu, tahap selanjutnya adalah mengestimasi parameter distribusi untuk digunakan pada fungsi-fungsi yang sudah Anda buat sebelumnya.\n",
        "\n",
        "> **Lho? Mengapa perlu mengestimasi parameter distribusi? Bukankah saat membuat dataset kita sudah tahu parameternya?**\n",
        "> Tenang! Ketika kita menerapkan algoritma Naive Bayes, kita menganggap **dataset sintetis** tersebut sebagai **dataset nyata** sehingga kita tidak mengetahui parameter distribusinya secara langsung. Meskipun kita sebenarnya tahu nilainya (karena kita yang menghasilkan datanya), proses ini merupakan latihan untuk meniru kondisi di dunia nyata, yaitu parameter distribusi harus diestimasi dari data."
      ],
      "metadata": {
        "id": "E-htTlOCPqZX"
      }
    },
    {
      "cell_type": "markdown",
      "source": [
        "Mari kita lihat contoh sederhana untuk memahami cara mengestimasi parameter dari masing-masing distribusi.\n",
        "\n",
        "Perhatikan penjelasan berikut mengenai rumus untuk menghitung setiap parameter.\n",
        "\n",
        "* **μ (miu)**: Nilai rata-rata dari sampel.\n",
        "* **σ (sigma)**: Nilai standar deviasi dari sampel.\n",
        "* **success\\_probability**: Probabilitas terjadinya sukses dalam distribusi binomial.\n",
        "* **lower\\_bound**: Nilai minimum dalam sampel.\n",
        "* **upper\\_bound**: Nilai maksimum dalam sampel.\n",
        "\n",
        "Sekarang, giliran Anda menghitung setiap parameter tersebut untuk fungsi-fungsi yang telah dibuat di bawah ini. Anda dapat memanfaatkan pustaka `numpy` untuk membantu melakukan perhitungan.\n"
      ],
      "metadata": {
        "id": "jZBRQ-AOkNy0"
      }
    },
    {
      "cell_type": "code",
      "source": [
        "def gaussian_params_estimation(sample):\n",
        "  \"\"\"\n",
        "  Mengestimasikan nilai miu (rata-rata) dan sigma (standar deviasi) untuk sampel yang diberikan.\n",
        "\n",
        "  Parameters:\n",
        "  - sample (ndarray): Array yang merepresentasikan data sampel.\n",
        "\n",
        "  Returns:\n",
        "  - miu (float): Nilai rata-rata sampel.\n",
        "  - sigma (float): Nilai standar deviasi sampel.\n",
        "  \"\"\"\n",
        "  # MULAI KODE DI SINI\n",
        "  miu = np.mean(sample)\n",
        "  sigma = np.std(sample, ddof=0)\n",
        "  # AKHIRI KODE DI SINI\n",
        "\n",
        "  return miu, sigma\n",
        "\n",
        "\n",
        "def binomial_params_estimation(sample):\n",
        "  \"\"\"\n",
        "  Mengestimasikan parameter distribusi binomial dari sampel yang diberikan.\n",
        "\n",
        "  Parameter:\n",
        "  - sample (ndarray): Jumlah sampel percobaan.\n",
        "\n",
        "  Returns:\n",
        "  - n_trials (int): Jumlah percobaan dalam distribusi binomial (diasumsikan 30).\n",
        "  - success_probability (float): Estimasi probabilitas sukses per percobaan.\n",
        "  \"\"\"\n",
        "  n_trials = 30\n",
        "\n",
        "  # MULAI KODE DI SINI\n",
        "  success_probability = np.mean(sample) / n_trials\n",
        "  # AKHIRI KODE DI SINI\n",
        "\n",
        "  return n_trials, success_probability\n",
        "\n",
        "\n",
        "def uniform_params_estimation(sample):\n",
        "  \"\"\"\n",
        "  Mengestimasikan parameter distribusi uniform dari sampel yang diberikan.\n",
        "\n",
        "  Parameter:\n",
        "  - sample (ndarray): Array berisi data sampel.\n",
        "\n",
        "  Returns:\n",
        "  - lower_bound (float): Nilai minimum dalam sampel.\n",
        "  - upper_bound (float): Nilai maksimum dalam sampel.\n",
        "  \"\"\"\n",
        "  # MULAI KODE DI SINI\n",
        "  lower_bound = np.min(sample)\n",
        "  upper_bound = np.max(sample)\n",
        "  # AKHIRI KODE DI SINI\n",
        "\n",
        "  return lower_bound, upper_bound\n"
      ],
      "metadata": {
        "id": "g1Ef0ow0Az2b"
      },
      "execution_count": null,
      "outputs": []
    },
    {
      "cell_type": "code",
      "source": [
        "# Pengujian: Silakan gunakan cell ini untuk menguji fungsi yang Anda buat. Pastikan output-nya sesuai dengan yang diharapkan.\n",
        "\n",
        "sample_gaussian = np.array([45.2, 47.8, 50.1, 46.5])\n",
        "miu, sigma = gaussian_params_estimation(sample_gaussian)\n",
        "print(f\"Estimasi Gaussian:\\n  Rata-rata (mu) = {miu:.3f}, Standar deviasi (sigma) = {sigma:.3f}\\n  Sampel yang digunakan = {sample_gaussian}\\n\")\n",
        "\n",
        "sample_binomial = np.array([12, 18, 25, 20, 15])\n",
        "n, p = binomial_params_estimation(sample_binomial)\n",
        "print(f\"Estimasi Binomial:\\n  Jumlah percobaan (n) = {n}, Probabilitas sukses (p) = {p:.3f}\\n  Sampel yang digunakan = {sample_binomial}\\n\")\n",
        "\n",
        "sample_uniform = np.array([1.2, 3.4, 2.8, 4.0, 3.1])\n",
        "a, b = uniform_params_estimation(sample_uniform)\n",
        "print(f\"Estimasi Uniform:\\n  Batas bawah (a) = {a:.3f}, Batas atas (b) = {b:.3f}\\n  Sampel yang digunakan = {sample_uniform}\")"
      ],
      "metadata": {
        "id": "qFOlxTaSAxcu",
        "colab": {
          "base_uri": "https://localhost:8080/"
        },
        "outputId": "8c01ea4f-5178-4bea-93ef-210da13f553f"
      },
      "execution_count": null,
      "outputs": [
        {
          "output_type": "stream",
          "name": "stdout",
          "text": [
            "Estimasi Gaussian:\n",
            "  Rata-rata (mu) = 47.400, Standar deviasi (sigma) = 1.810\n",
            "  Sampel yang digunakan = [45.2 47.8 50.1 46.5]\n",
            "\n",
            "Estimasi Binomial:\n",
            "  Jumlah percobaan (n) = 30, Probabilitas sukses (p) = 0.600\n",
            "  Sampel yang digunakan = [12 18 25 20 15]\n",
            "\n",
            "Estimasi Uniform:\n",
            "  Batas bawah (a) = 1.200, Batas atas (b) = 4.000\n",
            "  Sampel yang digunakan = [1.2 3.4 2.8 4.  3.1]\n"
          ]
        }
      ]
    },
    {
      "cell_type": "markdown",
      "source": [
        "#### Output yang diharapkan\n",
        "```\n",
        "Estimasi Gaussian:\n",
        "  Rata-rata (mu) = 47.400, Standar deviasi (sigma) = 1.810\n",
        "  Sampel yang digunakan = [45.2 47.8 50.1 46.5]\n",
        "\n",
        "Estimasi Binomial:\n",
        "  Jumlah percobaan (n) = 30, Probabilitas sukses (p) = 0.600\n",
        "  Sampel yang digunakan = [12 18 25 20 15]\n",
        "\n",
        "Estimasi Uniform:\n",
        "  Batas bawah (a) = 1.200, Batas atas (b) = 4.000\n",
        "  Sampel yang digunakan = [1.2 3.4 2.8 4.  3.1]\n",
        "```"
      ],
      "metadata": {
        "id": "KV_YaUeLpCtJ"
      }
    },
    {
      "cell_type": "markdown",
      "source": [
        "### Tugas 6: Membuat Estimasi Parameter\n",
        "\n",
        "**Hebat!** Sekarang Anda sudah memiliki pemahaman tentang cara membuat estimasi parameter berdasarkan nilai-nilai fitur dalam data. Selanjutnya, mari kita implementasikan konsep yang sudah dipelajari pada cell sebelumnya dalam fungsi di bawah ini.\n",
        "\n",
        "Fungsi `training_params_estimation` bertujuan untuk **mengestimasi parameter distribusi** berdasarkan **data training** yang diberikan.\n",
        "\n",
        "Fungsi ini akan menerima dua parameter, yaitu\n",
        "\n",
        "* `dataframe`: DataFrame yang berisi data training lengkap.\n",
        "* `features`: daftar nama fitur yang ingin diproses dan dihitung parameternya.\n",
        "\n",
        "Dalam fungsi ini, kita akan melakukan **estimasi parameter** secara **terpisah untuk setiap fitur** dalam dataframe. Salah satu contohnya adalah fitur `sing_days`, fungsi akan menghitung **parameter distribusi binomial** karena sebelumnya kita mendefinisikan `sing_days` sebagai **variabel yang mengikuti distribusi binomial**.\n",
        "\n",
        "> Periksa variabel `breed_params` pada penjelesan segmen 2.1\n",
        "\n",
        "---\n",
        "\n",
        "Selain itu, fungsi ini akan mengembalikan dua dictionary berupa `params_dict` dan `probs_dict`.\n",
        "\n",
        "* `params_dict` akan menyimpan hasil estimasi parameter untuk setiap fitur pada tiap jenis burung (breed). Variabel ini akan memiliki nested dictionary dengan keterangan lebih lanjut adalah berikut.\n",
        "* Level pertama berisi *key* berupa label jenis (direpresentasikan sebagai numerik/integer).\n",
        "* Nilai pada level pertama adalah dictionary lain yang berisi nama-nama fitur.\n",
        "* Untuk setiap fitur, nilainya adalah objek dataclass yang berisi parameter-parameter yang sudah diestimasi (misalnya rata-rata dan standar deviasi untuk distribusi Gaussian).\n",
        "```\n",
        "{\n",
        "  0: {\n",
        "    'weight_g': params_dataclass(param1=x41, param2=x42)\n",
        "    'sing_days': params_dataclass(param1=x11, param2=x12),\n",
        "    'beak_head_ratio': params_dataclass(param1=x21, param2=x22),\n",
        "    'wingspan_cm': params_dataclass(param1=x31, param2=x32),\n",
        "  },\n",
        "  1: ...\n",
        "}\n",
        "```\n",
        "\n",
        "* `probs_dict` menyimpan informasi tentang proporsi data untuk tiap jenis burung.\n",
        "* Dictionary ini memetakkan setiap label ras pada nilai proporsinya (direpresentasikan dalam angka desimal antara 0 dan 1).\n",
        "* Total semua nilai dalam probs_dict seharusnya mendekati atau sama dengan 1, karena mewakili distribusi probabilitas semua kelas.\n",
        "\n",
        "$$\n",
        "{\n",
        "  0: 0.25,\n",
        "  1: 0.5,\n",
        "  2: 0.25\n",
        "}\n",
        "$$\n",
        "\n",
        "Untuk menyelesaikan fungsi ini, perhatikan setiap komentar yang berisi petunjuk atau langkah-langkah yang harus dilakukan. Anda bisa menggunakan berbagai pendekatan yang sesuai, asalkan tujuan akhirnya tercapai. Sebagai contoh, Anda bisa menggunakan `match` statement untuk membuat logika seperti switch-case atau memilih menggunakan struktur `if-else` jika lebih nyaman."
      ],
      "metadata": {
        "id": "9yxB2bLBP8Z4"
      }
    },
    {
      "cell_type": "code",
      "source": [
        "def training_params_estimation(df, features):\n",
        "    \"\"\"\n",
        "    Menghitung parameter estimasi untuk melatih model berdasarkan dataframe dan fitur yang diberikan.\n",
        "\n",
        "    Parameters:\n",
        "    - df (pandas.DataFrame): Dataframe yang berisi data pelatihan.\n",
        "    - features (list): Daftar nama fitur yang akan dipertimbangkan.\n",
        "\n",
        "    Returns:\n",
        "        tuple: Sebuah tuple yang berisi dua dictionary:\n",
        "            - params_dict (dict): Dictionary yang berisi parameter estimasi untuk setiap ras dan fitur.\n",
        "            - probs_dict (dict): Dictionary yang berisi proporsi data yang termasuk dalam setiap ras.\n",
        "    \"\"\"\n",
        "\n",
        "    # Dictionary yang akan menyimpan parameter estimasi\n",
        "    params_dict = {}\n",
        "\n",
        "    # Dictionary yang akan menyimpan proporsi data untuk setiap kelas\n",
        "    probs_dict = {}\n",
        "\n",
        "    # MULAI KODE DI SINI\n",
        "\n",
        "    for breed in df[\"breed\"].unique():\n",
        "        df_breed = df[df[\"breed\"] == breed]\n",
        "\n",
        "        # Hitung proporsi kelas\n",
        "        probs_dict[breed] = len(df_breed) / len(df)\n",
        "\n",
        "        # Inisialisasi dictionary bagian dalam\n",
        "        inner_dict = {}\n",
        "\n",
        "        # Loop untuk setiap fitur\n",
        "        for feature in features:\n",
        "\n",
        "            # Gaussian: wingspan_cm & weight_g\n",
        "            if feature in [\"wingspan_cm\", \"weight_g\"]:\n",
        "                miu, sigma = gaussian_params_estimation(df_breed[feature].values)\n",
        "                params = gaussian_params(miu=miu, sigma=sigma)\n",
        "\n",
        "            # Binomial: sing_days\n",
        "            elif feature == \"sing_days\":\n",
        "                n_trials, success_probability = binomial_params_estimation(df_breed[feature].values)\n",
        "                # Override n_trials agar lebih realistis (nilai maksimum aktual)\n",
        "                n_trials = int(df_breed[feature].max())\n",
        "                params = binomial_params(n_trials=n_trials, probability=success_probability)\n",
        "\n",
        "            # Uniform: beak_head_ratio\n",
        "            elif feature == \"beak_head_ratio\":\n",
        "                lower_bound, upper_bound = uniform_params_estimation(df_breed[feature].values)\n",
        "                params = uniform_params(lower_bound=lower_bound, upper_bound=upper_bound)\n",
        "\n",
        "            # Simpan hasil estimasi ke inner_dict\n",
        "            inner_dict[feature] = params\n",
        "\n",
        "        # Simpan inner_dict ke params_dict untuk breed ini\n",
        "        params_dict[breed] = inner_dict\n",
        "\n",
        "    ### AKHIRI KODE DI SINI ###\n",
        "\n",
        "    return params_dict, probs_dict"
      ],
      "metadata": {
        "id": "cfTCAXn3J-B9"
      },
      "execution_count": null,
      "outputs": []
    },
    {
      "cell_type": "code",
      "source": [
        "# Pengujian: Silakan gunakan cell ini untuk menguji fungsi yang Anda buat. Pastikan output-nya sesuai dengan yang diharapkan.\n",
        "\n",
        "import pprint\n",
        "pp = pprint.PrettyPrinter()\n",
        "\n",
        "train_params, train_class_probs = training_params_estimation(df_train, FEATURES)\n",
        "\n",
        "print(\"Parameter distribusi:\\n\")\n",
        "pp.pprint(train_params)\n",
        "print(\"\\nProbabilitas untuk setiap kelas:\\n\")\n",
        "pp.pprint(train_class_probs)"
      ],
      "metadata": {
        "collapsed": true,
        "id": "1e_GSU8UA5kj",
        "colab": {
          "base_uri": "https://localhost:8080/"
        },
        "outputId": "d2e798c0-8b2f-436a-d540-1a7eba6250a6"
      },
      "execution_count": null,
      "outputs": [
        {
          "output_type": "stream",
          "name": "stdout",
          "text": [
            "Parameter distribusi:\n",
            "\n",
            "{np.int64(0): {'beak_head_ratio': uniform_params(lower_bound=0.101, upper_bound=0.599),\n",
            "               'sing_days': binomial_params(n_trials=29.000, probability=0.800),\n",
            "               'weight_g': gaussian_params(mu=19.998, sigma=1.018),\n",
            "               'wingspan_cm': gaussian_params(mu=34.997, sigma=1.527)},\n",
            " np.int64(1): {'beak_head_ratio': uniform_params(lower_bound=0.200, upper_bound=0.500),\n",
            "               'sing_days': binomial_params(n_trials=23.000, probability=0.499),\n",
            "               'weight_g': gaussian_params(mu=24.956, sigma=4.957),\n",
            "               'wingspan_cm': gaussian_params(mu=29.982, sigma=1.983)},\n",
            " np.int64(2): {'beak_head_ratio': uniform_params(lower_bound=0.100, upper_bound=0.300),\n",
            "               'sing_days': binomial_params(n_trials=17.000, probability=0.292),\n",
            "               'weight_g': gaussian_params(mu=31.699, sigma=3.115),\n",
            "               'wingspan_cm': gaussian_params(mu=39.649, sigma=3.635)}}\n",
            "\n",
            "Probabilitas untuk setiap kelas:\n",
            "\n",
            "{np.int64(0): 0.34575569358178054,\n",
            " np.int64(1): 0.39544513457556935,\n",
            " np.int64(2): 0.2587991718426501}\n"
          ]
        }
      ]
    },
    {
      "cell_type": "markdown",
      "source": [
        "```\n",
        "Parameter distribusi:\n",
        "\n",
        "{0: {'beak_head_ratio': uniform_params(lower_bound=0.101, upper_bound=0.599),\n",
        "     'sing_days': binomial_params(n_trials=29.000, probability=0.800),\n",
        "     'weight_g': gaussian_params(mu=19.998, sigma=1.019),\n",
        "     'wingspan_cm': gaussian_params(mu=34.997, sigma=1.528)},\n",
        " 1: {'beak_head_ratio': uniform_params(lower_bound=0.200, upper_bound=0.500),\n",
        "     'sing_days': binomial_params(n_trials=23.000, probability=0.499),\n",
        "     'weight_g': gaussian_params(mu=24.956, sigma=4.959),\n",
        "     'wingspan_cm': gaussian_params(mu=29.982, sigma=1.984)},\n",
        " 2: {'beak_head_ratio': uniform_params(lower_bound=0.100, upper_bound=0.300),\n",
        "     'sing_days': binomial_params(n_trials=17.000, probability=0.292),\n",
        "     'weight_g': gaussian_params(mu=31.699, sigma=3.118),\n",
        "     'wingspan_cm': gaussian_params(mu=39.649, sigma=3.638)}}\n",
        "\n",
        "Probabilitas untuk setiap kelas:\n",
        "\n",
        "{0: 0.34575569358178054, 1: 0.39544513457556935, 2: 0.2587991718426501}\n",
        "```"
      ],
      "metadata": {
        "id": "HBXnvAz1SUsZ"
      }
    },
    {
      "cell_type": "markdown",
      "source": [
        "### Tugas 7 - Posterior Probability $P(X \\mid C_i)$:  Menghitung Probabilitas Jenis Burung berdasarkan Atributnya\n",
        "\n",
        "Untuk mengimplementasikan **Naive Bayes Classifier**, kita menggunakan asumsi **independensi bersyarat pada kelas** (*class-conditional independence*). Artinya, untuk suatu pengamatan $x = (x_1, \\ldots, x_n)$ pada $X$, kita bisa menghitung peluang $x$ diberikan kelas tertentu ($C_i$) dengan cara berikut.\n",
        "\n",
        "$$\n",
        "P(x \\mid C_{i}) = P(x_1 \\mid C_i) \\cdot P(x_2 \\mid C_i) \\cdot \\ldots \\cdot P(x_n \\mid C_i) = \\prod_{k = 1}^{n} P(x_k \\mid C_i)\n",
        "$$\n",
        "\n",
        "Probabilitas masing-masing atribut $P(x_k \\mid C_i)$ dapat diestimasi dari data latih (training data).\n",
        "\n",
        "Jika $x_k$ bernilai kontinu atau diskret, kita perlu membuat asumsi tentang bentuk distribusinya dan menghitung parameternya dari data latih. Misalnya, jika $x_k$ bersifat kontinu, biasanya diasumsikan bahwa $P(x_k \\mid C_i)$ mengikuti distribusi Gaussian dengan parameter rata-rata $\\mu_{C_i}$ dan standar deviasi $\\sigma_{C_i}$.\n",
        "\n",
        "Oleh karena itu, kita perlu memperkirakan nilai $\\mu$ dan $\\sigma$ dari data latih, kemudian menghitung dengan rumus berikut.\n",
        "\n",
        "$$\n",
        "P(x_k \\mid C_i) = \\text{PDF}_{\\text{gaussian}}(x_k,\\mu_{C_i},\\sigma_{C_i}).\n",
        "$$\n",
        "\n",
        "Dalam konteks latihan ini, kita sudah mengetahui bentuk distribusi untuk setiap fitur. Dalam kata lain, tugas kita adalah menghitung nilai `PDF` yang sesuai untuk masing-masing fitur dengan menggunakan parameter hasil estimasi yang telah tersedia sebelumnya. Parameter-parameter ini tinggal dimasukkan pada fungsi PDF yang sesuai untuk mendapatkan nilainya.\n",
        "\n",
        "Silakan lengkapi fungsi `probability_given_class` di bawah. Fungsi ini membutuhkan beberapa parameter berikut.\n",
        "\n",
        "* `X`: sebuah list yang berisi nilai-nilai untuk setiap fitur (dengan urutan sesuai `features`)\n",
        "* `features`: daftar nama fitur yang akan diproses\n",
        "* `breed`: jenis burung (kelas) yang ingin kita hitung probabilitasnya\n",
        "* `params_dict`: dictionary yang memuat parameter hasil estimasi dari data training\n",
        "\n",
        "Fungsi ini harus mengembalikan nilai probabilitas (likelihood) untuk pengamatan `X` **dengan asumsi** bahwa ia berasal dari kelas (jenis burung) tertentu.\n"
      ],
      "metadata": {
        "id": "yeupaQFhcRr_"
      }
    },
    {
      "cell_type": "code",
      "source": [
        "def probability_given_class(X, features, breed, params_dict):\n",
        "    \"\"\"\n",
        "    Menghitung probabilitas bersyarat dari X berdasarkan jenis burung (breed),\n",
        "    menggunakan fitur dan parameter yang diberikan.\n",
        "\n",
        "    Parameters:\n",
        "    - X (list): List nilai-nilai fitur yang ingin dihitung probabilitasnya.\n",
        "    - features (list): List nama fitur yang sesuai dengan nilai-nilai pada X.\n",
        "    - breed (str): Jenis burung (kelas) yang menjadi acuan perhitungan probabilitas.\n",
        "    - params_dict (dict): Dictionary yang berisi parameter estimasi untuk setiap breed dan fitur.\n",
        "\n",
        "    Returns:\n",
        "    - Probability (float): Nilai probabilitas bersyarat X jika diketahui berasal dari jenis burung tersebut.\n",
        "    \"\"\"\n",
        "\n",
        "    if len(X) != len(features):\n",
        "        print(\"X dan daftar fitur harus memiliki panjang yang sama\")\n",
        "        return 0\n",
        "\n",
        "    # Inisialisasi probabilitas total\n",
        "    probability = 1.0\n",
        "\n",
        "    # MULAI KODE DI SINI\n",
        "    for x, feature in zip(X, features):\n",
        "        params = params_dict[breed][feature]\n",
        "\n",
        "        # Gaussian untuk wingspan_cm & weight_g\n",
        "        if feature in [\"wingspan_cm\", \"weight_g\"]:\n",
        "            probability_f = pdf_for_gaussian(x, params.miu, params.sigma)\n",
        "\n",
        "        # Binomial untuk sing_days\n",
        "        elif feature == \"sing_days\":\n",
        "            probability_f = pmf_for_binomial(int(round(x)), params.n_trials, params.probability)\n",
        "\n",
        "        # Uniform untuk beak_head_ratio\n",
        "        elif feature == \"beak_head_ratio\":\n",
        "            probability_f = pdf_for_uniform(x, params.lower_bound, params.upper_bound)\n",
        "\n",
        "        else:\n",
        "            probability_f = 1.0  # fallback kalau ada fitur tidak dikenal\n",
        "\n",
        "        # Kalikan hasilnya ke total probability\n",
        "        probability *= probability_f\n",
        "\n",
        "    # AKHIRI KODE DI SINI\n",
        "\n",
        "    return probability\n"
      ],
      "metadata": {
        "id": "oUupHObfgEZe"
      },
      "execution_count": null,
      "outputs": []
    },
    {
      "cell_type": "code",
      "source": [
        "# Pengujian: Silakan gunakan cell ini untuk menguji fungsi yang Anda buat. Pastikan output-nya sesuai dengan yang diharapkan.\n",
        "\n",
        "example_bird = df_test[FEATURES].loc[0]\n",
        "breed_bird = df_test[[\"breed\"]].loc[0][\"breed\"]\n",
        "\n",
        "print(f\"Contoh burung memiliki jenis {breed_bird} dengan fitur: wingspan_cm = {example_bird['wingspan_cm']:.2f}, weight_g = {example_bird['weight_g']:.2f}, sing_days = {example_bird['sing_days']:.2f}, beak_head_ratio = {example_bird['beak_head_ratio']:.2f}\\n\")\n",
        "\n",
        "print(f\"Probabilitas fitur-fitur ini jika burung diklasifikasikan sebagai jenis 0: {probability_given_class([*example_bird], FEATURES, 0, train_params)}\")\n",
        "print(f\"Probabilitas fitur-fitur ini jika burung diklasifikasikan sebagai jenis 1: {probability_given_class([*example_bird], FEATURES, 1, train_params)}\")\n",
        "print(f\"Probabilitas fitur-fitur ini jika burung diklasifikasikan sebagai jenis 2: {probability_given_class([*example_bird], FEATURES, 2, train_params)}\")\n"
      ],
      "metadata": {
        "id": "8BIgUAVqCpFp",
        "colab": {
          "base_uri": "https://localhost:8080/"
        },
        "outputId": "773c6b2d-e6e2-4414-fac7-ee4d70dba3e7"
      },
      "execution_count": null,
      "outputs": [
        {
          "output_type": "stream",
          "name": "stdout",
          "text": [
            "Contoh burung memiliki jenis 2 dengan fitur: wingspan_cm = 46.98, weight_g = 37.98, sing_days = 14.00, beak_head_ratio = 0.30\n",
            "\n",
            "Probabilitas fitur-fitur ini jika burung diklasifikasikan sebagai jenis 0: 1.5409538650461751e-86\n",
            "Probabilitas fitur-fitur ini jika burung diklasifikasikan sebagai jenis 1: 1.7885075503321036e-20\n",
            "Probabilitas fitur-fitur ini jika burung diklasifikasikan sebagai jenis 2: 9.625584206290817e-09\n"
          ]
        }
      ]
    },
    {
      "cell_type": "markdown",
      "source": [
        "```\n",
        "Contoh burung memiliki jenis 2 dengan fitur: wingspan_cm = 46.98, weight_g = 37.98, sing_days = 14.00, beak_head_ratio = 0.30\n",
        "\n",
        "Probabilitas fitur-fitur ini jika burung diklasifikasikan sebagai jenis 0: 1.9252029362842843e-86\n",
        "Probabilitas fitur-fitur ini jika burung diklasifikasikan sebagai jenis 1: 1.863471980693772e-20\n",
        "Probabilitas fitur-fitur ini jika burung diklasifikasikan sebagai jenis 2: 9.672973185945612e-09\n",
        "```"
      ],
      "metadata": {
        "id": "KLzjhznDSb26"
      }
    },
    {
      "cell_type": "markdown",
      "source": [
        "#### Tugas 8: Prediksi Jenis Burung\n",
        "\n",
        "Hebat! Naive Bayes sudah diimplementasikan dalam sebuah fungsi dengan baik!\n",
        "\n",
        "Jika semua kelas memiliki jumlah data yang benar-benar seimbang, fungsi sebelumnya bisa digunakan langsung untuk menghitung *posterior* maksimum. Namun, **itu bukanlah kondisi yang kita hadapi di sini** sehingga kita masih perlu mengalikan setiap probabilitas \\$P(x \\mid C\\_{i})\\$ dengan probabilitas awal (prior) dari masing-masing kelas \\$P(C\\_{i})\\$.\n",
        "\n",
        "Pada akhirnya, rumus yang perlu kita maksimalkan untuk mendapatkan prediksi adalah berikut.\n",
        "\n",
        "$$\n",
        "P(x \\mid C_{i}) \\times P(C_{i})\n",
        "$$\n",
        "\n",
        "Kita dapat melakukan ini melalui cara mengalikan hasil dari `probability_given_class` dengan proporsi kelas sesuai dengan yang sudah disimpan dalam dictionary `probs_dict`.\n"
      ],
      "metadata": {
        "id": "8UIlTMibBapa"
      }
    },
    {
      "cell_type": "code",
      "source": [
        "def breed_bird_prediction(X, features, params_dict, probs_dict):\n",
        "    \"\"\"\n",
        "    Memprediksi jenis burung berdasarkan data input dan fitur-fitur yang diberikan.\n",
        "\n",
        "    Parameters:\n",
        "    - X (list atau array): Data input (nilai-nilai fitur) yang ingin diprediksi.\n",
        "    - features (list atau array): Daftar nama fitur yang digunakan untuk prediksi.\n",
        "    - params_dict (dict): Dictionary yang berisi parameter distribusi untuk setiap jenis burung.\n",
        "    - probs_dict (dict): Dictionary yang berisi peluang (proporsi) masing-masing jenis burung dalam data latih.\n",
        "\n",
        "    Returns:\n",
        "    - prediction (int): Indeks jenis burung yang diprediksi (contoh: 0, 1, atau 2).\n",
        "    \"\"\"\n",
        "\n",
        "    # MULAI KODE DI SINI\n",
        "\n",
        "    # Hitung nilai posterior untuk setiap jenis burung (0,1, dan 2)\n",
        "    # Petunjuk: Gunakan fungsi probability sebelumnya lalu kalikan hasilnya dengan proporsi data untuk setiap jenis burung (probs_dict).\n",
        "    posterior_breed_0 = probability_given_class(X, features, 0, params_dict) * probs_dict[0]\n",
        "    posterior_breed_1 = probability_given_class(X, features, 1, params_dict) * probs_dict[1]\n",
        "    posterior_breed_2 = probability_given_class(X, features, 2, params_dict) * probs_dict[2]\n",
        "\n",
        "    # Gabungkan semua nilai posterior ke dalam numpy array\n",
        "    posterior = np.array([posterior_breed_0, posterior_breed_1, posterior_breed_2])\n",
        "\n",
        "    # Pilih indeks dengan nilai tertinggi sebagai prediksi\n",
        "    prediction = np.argmax(posterior)\n",
        "\n",
        "\n",
        "    # AKHIRI KODE DI SINI\n",
        "\n",
        "    return prediction\n"
      ],
      "metadata": {
        "id": "TGwa7EzEJ-Ob"
      },
      "execution_count": null,
      "outputs": []
    },
    {
      "cell_type": "code",
      "source": [
        "# Pengujian: Silakan gunakan cell ini untuk menguji fungsi yang Anda buat. Pastikan output-nya sesuai dengan yang diharapkan.\n",
        "\n",
        "example_pred = breed_bird_prediction([*example_bird], FEATURES, train_params, train_class_probs)\n",
        "print(f\"Contoh burung memiliki jenis {breed_bird} dan Naive Bayes mengklasifikasikannya sebagai {example_pred}\")"
      ],
      "metadata": {
        "id": "4pQUWoZcDvkO",
        "colab": {
          "base_uri": "https://localhost:8080/"
        },
        "outputId": "f21153c3-251b-4d26-8b94-8b1cf819dbb0"
      },
      "execution_count": null,
      "outputs": [
        {
          "output_type": "stream",
          "name": "stdout",
          "text": [
            "Contoh burung memiliki jenis 2 dan Naive Bayes mengklasifikasikannya sebagai 2\n"
          ]
        }
      ]
    },
    {
      "cell_type": "markdown",
      "source": [
        "# Evaluasi\n",
        "\n",
        "Anda telah menyelesaikan seluruh tahapan implementasi Naive Bayes. Algoritma tersebut sudah berhasil dijalankan pada satu data. Lalu, bagaimana hasilnya jika kita gunakan pada satu data testing? Mari jalankan kode berikut untuk melihatnya."
      ],
      "metadata": {
        "id": "bOQGrqmSO0MT"
      }
    },
    {
      "cell_type": "code",
      "source": [
        "from sklearn.metrics import accuracy_score\n",
        "\n",
        "preds = df_test.apply(lambda x: breed_bird_prediction([*x[FEATURES]], FEATURES, train_params, train_class_probs), axis=1)\n",
        "test_acc = accuracy_score(df_test[\"breed\"], preds)\n",
        "print(f\"Accuracy score for the test split: {test_acc:.2f}\")"
      ],
      "metadata": {
        "id": "1a4ZJURPDxX6",
        "colab": {
          "base_uri": "https://localhost:8080/"
        },
        "outputId": "774637dd-eefa-43f1-91de-a9fdf2301a7e"
      },
      "execution_count": null,
      "outputs": [
        {
          "output_type": "stream",
          "name": "stdout",
          "text": [
            "Accuracy score for the test split: 1.00\n"
          ]
        }
      ]
    },
    {
      "cell_type": "markdown",
      "source": [
        "Selamat! Anda berhasil menerapkan algoritma Naive Bayes dengan pendekatan yang sangat matematis dan mendapatkan akurasi hampir (atau bahkan mencapai) 100%.\n",
        "\n",
        "Anda mungkin merasa ragu karena hasil akurasi yang sempurna tampak tidak realistis. Hal ini sebenarnya wajar karena kita menggunakan data sintetis yang dibuat sendiri. Data dunia nyata tentu jauh lebih kompleks. Tetap semangat!"
      ],
      "metadata": {
        "id": "olWySR_KPYR1"
      }
    }
  ]
}