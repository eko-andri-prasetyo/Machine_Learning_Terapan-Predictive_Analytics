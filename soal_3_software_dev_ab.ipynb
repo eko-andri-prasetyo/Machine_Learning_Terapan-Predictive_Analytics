{
  "nbformat": 4,
  "nbformat_minor": 0,
  "metadata": {
    "colab": {
      "provenance": [],
      "include_colab_link": true
    },
    "kernelspec": {
      "name": "python3",
      "display_name": "Python 3"
    },
    "language_info": {
      "name": "python"
    }
  },
  "cells": [
    {
      "cell_type": "markdown",
      "metadata": {
        "id": "view-in-github",
        "colab_type": "text"
      },
      "source": [
        "<a href=\"https://colab.research.google.com/github/eko-andri-prasetyo/Machine_Learning_Terapan-Predictive_Analytics/blob/main/soal_3_software_dev_ab.ipynb\" target=\"_parent\"><img src=\"https://colab.research.google.com/assets/colab-badge.svg\" alt=\"Open In Colab\"/></a>"
      ]
    },
    {
      "cell_type": "markdown",
      "source": [
        "# PERHATIAN!\n",
        "\n",
        "Soal yang Anda kerjakan akan dinilai secara otomatis oleh sistem dari Dicoding. Oleh karena itu, Anda **tidak diperbolehkan mengubah nama fungsi yang sudah ditentukan** karena hal tersebut dapat memengaruhi proses penilaian.\n",
        "\n",
        "Pastikan Anda membaca dan memperhatikan setiap instruksi dengan saksama,serta menuliskan kode di antara tanda komentar yang telah disediakan.\n",
        "\n",
        "> **# MULAI KODE DI SINI**\n",
        "\n",
        "\n",
        "> **# AKHIRI KODE DI SINI**"
      ],
      "metadata": {
        "id": "H73A8iOfSpJB"
      }
    },
    {
      "cell_type": "code",
      "source": [
        "import math\n",
        "import numpy as np\n",
        "import pandas as pd\n",
        "\n",
        "import scipy.stats as stats\n",
        "from dataclasses import dataclass"
      ],
      "metadata": {
        "id": "Bw644jmKY2Ks"
      },
      "execution_count": 10,
      "outputs": []
    },
    {
      "cell_type": "markdown",
      "source": [
        "# Latar Belakang Masalah\n",
        "\n",
        "Anda telah mempelajari A/B testing pada modul khusus di kelas Belajar Matematika untuk Data Science.\n",
        "\n",
        "Pada soal ini, Anda akan mengimplementasikan uji hipotesis melalui sebuah studi kasus A/B testing yang ada di industri.\n",
        "\n",
        "---\n",
        "Anda adalah seorang data scientist di perusahaan teknologi pendidikan yang telah beroperasi selama bertahun-tahun. Saat ini, perusahaan sedang mengembangkan fitur baru untuk diterapkan pada aplikasi Anda.\n",
        "\n",
        "Salah satu indikator keberhasilan fitur adalah kemampuannya dalam meningkatkan conversion rate, yaitu persentase pengguna yang melakukan tindakan yang diinginkan dibandingkan dengan total pengguna.\n",
        "\n",
        "Fitur-fitur yang dikembangkan kali ini bertujuan meningkatkan retensi pengguna. Saat ini, rata-rata pengguna bertahan di situs sebesar 69% dan diharapkan meningkat menjadi 72% dengan adanya fitur ini."
      ],
      "metadata": {
        "id": "R-TvwKpkStCW"
      }
    },
    {
      "cell_type": "markdown",
      "source": [
        "# Tugas 1: Menghitung Proporsi Sampel yang Dibutuhkan\n",
        "\n",
        "Dalam melakukan pengujian hipotesis, proporsi sampel yang akan digunakan harus cukup besar dan kuat untuk bisa menghasilkan uji hipotesis yang signifikan.\n",
        "\n",
        "Saat ini, Anda ingin meningkatkan rasio retensi pengguna dari yang awalnya 69% menjadi 72%. Kira-kira berapa sampel yang dibutuhkan? Simak penjelasannya di bawah ini.\n",
        "\n",
        "---\n",
        "\n",
        "Untuk membandingkan dua proporsi dengan studi kasus yang telah disebutkan. Anda akan melakukan uji hipotesis menggunakan uji dua sisi (two-tailed z-test).\n",
        "\n",
        "Adapun hipotesis yang diuji sebagai berikut.\n",
        "* Hipotesis nol ($H_0$): Tidak ada perbedaan antara kedua proporsi $(p_1 = p2)$.\n",
        "* Hipotesis alternatif ($H_1$): Ada perbedaan antara kedua proporsi $(p_1 \\neq p2)$.\n",
        "\n",
        "Dengan asumsi bahwa ukuran kelompok kedua adalah $k$ kali lebih besar dari kelompok pertama, kita bisa menggunakan rumus berikut untuk menghitung **ukuran sampel minimal yang dibutuhkan**.\n",
        "\n",
        "$$n_1 = \\frac{\\left[\\sqrt{\\bar{p}\\bar{q}\\left(1 + \\frac{1}{k} \\right)}z_{1- \\alpha/2} + \\sqrt{p_1 q_1 + \\frac{p_2q_2}{k}}z_{1-\\beta}\\right]^2}{\\Delta^2}$$\n",
        "\n",
        "\n",
        "$$n_2 = k n_1$$\n",
        "\n",
        "Artinya:\n",
        "* $p_1,p_2$ merupakan proporsi keberhasilan yang diasumsikan untuk masing-masing kelompok.\n",
        "* $q_1 = 1 - p_1$ dan $q_2 = 1 - p_2$ adalah proporsi kegagalan.\n",
        "* $\\Delta  = \\mid p_2 - p_1 \\mid$ merupakan selisih absolut antara dua proporsi.\n",
        "* $\\overline{p} = \\frac{p_1 + kp_2}{1+ k}$ adalah rata-rata dari kedua proporsi dengan k sebagai rasio ukuran antara kelompok kedua dan pertama."
      ],
      "metadata": {
        "id": "6AJBrYmOXph0"
      }
    },
    {
      "cell_type": "code",
      "execution_count": 11,
      "metadata": {
        "id": "FFGDF4qAK-j0"
      },
      "outputs": [],
      "source": [
        "def estimate_sample_size_proportions(p1, p2, alpha=0.05, beta=0.20, two_sided=True):\n",
        "    \"\"\"\n",
        "    Menghitung jumlah sampel minimum yang dibutuhkan untuk mengetahui perbedaan dua proporsi (Uji dua proporsi).\n",
        "\n",
        "    Params:\n",
        "    - p1 (float): Proporsi keberhasilan pada kelompok origin.\n",
        "    - p2 (float): Proporsi keberhasilan pada kelompok varian.\n",
        "    - alpha (float): Tingkat Signifikansi (default 0.05).\n",
        "    - beta (float): Probabilitas kesalahan tipe II (default 0.20, artinya power 80%).\n",
        "    - two_sided (bool): Jika True, gunakan uji dua sisi.\n",
        "\n",
        "    Return:\n",
        "    - n (int): Jumlah sampel minimum per kelompok.\n",
        "    \"\"\"\n",
        "\n",
        "    ## JANGAN UBAH KODE BAGIAN INI ##\n",
        "    k = 1  # Mengasumsikan kelompok sama besar.\n",
        "\n",
        "    # Menghitung peluang kegagalan dari masing-masing kelompok\n",
        "    q1 = (1 - p1)\n",
        "    q2 = (1 - p2)\n",
        "\n",
        "    # Rata-rata dari dua proporsi\n",
        "    p_bar = (p1 + k * p2) / (1 + k)\n",
        "    q_bar = 1 - p_bar\n",
        "\n",
        "    # Selisih absolut antara dua proporsi\n",
        "    delta = abs(p2 - p1)\n",
        "\n",
        "    # Jika uji dua sisi, sesuaikan nilai alpha\n",
        "    if two_sided:\n",
        "          alpha = alpha / 2\n",
        "    ## HINGGA BAGIAN KODE INI\n",
        "\n",
        "    # Mendefinisikan z-score dari distribusi normal untuk alpha dan beta.\n",
        "    z_alpha = stats.norm.ppf(1 - (alpha)) # z1−α/2\n",
        "    z_beta = stats.norm.ppf(1 - (beta))   # z1−β\n",
        "\n",
        "    # MULAI KODE DI SINI\n",
        "    n1 = ((np.sqrt(p_bar * q_bar * (1 + 1/k)) * z_alpha + np.sqrt(p1 * q1 + (p2 * q2 / k)) * z_beta) ** 2) / (delta ** 2)\n",
        "    n = math.ceil(n1)\n",
        "\n",
        "    # AKHIRI KODE DI SINI\n",
        "\n",
        "    return math.ceil(n)"
      ]
    },
    {
      "cell_type": "code",
      "source": [
        "# Pengujian: Silakan gunakan cell ini untuk menguji fungsi yang Anda buat. Pastikan output-nya sesuai dengan yang diharapkan.\n",
        "\n",
        "sample_size_needed = estimate_sample_size_proportions(0.69, 0.72)\n",
        "sample_size_needed"
      ],
      "metadata": {
        "id": "OBeEK1UQYsy4",
        "colab": {
          "base_uri": "https://localhost:8080/"
        },
        "outputId": "9741c9b7-916a-4a47-cd24-41d71255101b"
      },
      "execution_count": 12,
      "outputs": [
        {
          "output_type": "execute_result",
          "data": {
            "text/plain": [
              "3627"
            ]
          },
          "metadata": {},
          "execution_count": 12
        }
      ]
    },
    {
      "cell_type": "markdown",
      "source": [
        "Output yang diharapkan\n",
        "\n",
        "```\n",
        "3627\n",
        "```"
      ],
      "metadata": {
        "id": "sI_GpCa6hZiG"
      }
    },
    {
      "cell_type": "markdown",
      "source": [
        "Keren! Kita telah mengetahui bahwa dibutuhkan 3.627 pengguna per kelompok untuk dapat mendeteksi perbedaan yang signifikan antara dua kelompok dengan tingkat signifikansi 0,05 dan power level 0,8.\n",
        "\n",
        "Permasalahannya, jumlah pengguna aktif harian kita hanya sekitar 997 orang. Lalu, berapa lama A/B test perlu dijalankan?\n",
        "\n",
        "Untuk menghitungnya, kita dapat membagi total sample size needed dengan jumlah pengguna aktif per hari. Karena pada pengujian ini kita membagi pengguna secara merata (50:50) dalam dua grup, rumus yang digunakan adalah sebagai berikut.\n",
        "\n",
        "$$\n",
        "\\frac{2 \\cdot \\text{sample_size_needed}}{\\text{active_users}}\n",
        "$$\n"
      ],
      "metadata": {
        "id": "XoStNrJbhijP"
      }
    },
    {
      "cell_type": "code",
      "source": [
        "active_users_per_day = 997\n",
        "\n",
        "# MULAI KODE DI SINI\n",
        "# TODO: Hitung banyaknya hari yang dibutuhkan dengan rumus di atas.\n",
        "n_days = math.ceil((sample_size_needed*2)/active_users_per_day) # INI DIHAPUS\n",
        "# AKHIRI KODE DI SINI\n",
        "\n",
        "print(f\"AB tes harus dijalankan selama {n_days} hari untuk mendapatkan data yang cukup.\")"
      ],
      "metadata": {
        "id": "JD8OJ6RSY0GN",
        "colab": {
          "base_uri": "https://localhost:8080/"
        },
        "outputId": "aecf72b1-ac8f-4208-86ba-7c6d62b9264d"
      },
      "execution_count": 13,
      "outputs": [
        {
          "output_type": "stream",
          "name": "stdout",
          "text": [
            "AB tes harus dijalankan selama 8 hari untuk mendapatkan data yang cukup.\n"
          ]
        }
      ]
    },
    {
      "cell_type": "markdown",
      "source": [
        "# Tugas 2: Membuat Data Pengguna\n",
        "\n",
        "Sampai tahap ini, kita sudah mengetahui bahwa pengujian harus dijalankan selama 8 hari karena asumsinya setiap hari pengguna aktif berkisar pada angka 997.\n",
        "\n",
        "Dengan begitu, mari buat dataset yang menyimulasikan pengguna yang mengunjungi aplikasi Anda. Data tersebut akan terdiri dari tiga kolom utama berikut.\n",
        "* **user\\_id**: ID atau identitas unik dari masing-masing pengguna.\n",
        "* **user\\_type**: Menyatakan tipe pengguna, yaitu `origin` atau `varian`.\n",
        "* **converted**: Menunjukkan jumlah artikel yang dibaca oleh pengguna."
      ],
      "metadata": {
        "id": "cWfwdUw_uMY7"
      }
    },
    {
      "cell_type": "code",
      "source": [
        "# JANGAN MENGUBAH FUNGSI INI #\n",
        "def create_unique_user_ids(num_users):\n",
        "  \"\"\"\n",
        "  Menghasilkan sejumlah ID pengguna acak yang terdiri dari kombinasi huruf kapital ASCII dan angka\n",
        "  dengan panjang tetap sebanyak 10 karakter.\n",
        "\n",
        "  Parameter:\n",
        "  - num_users (int): Jumlah ID unik yang ingin dihasilkan.\n",
        "\n",
        "  Return:\n",
        "  - user_ids (List[str]): List berisi ID unik hasil generate.\n",
        "  \"\"\"\n",
        "  user_ids = []\n",
        "\n",
        "  # Pengulangan hingga jumlah user_id yang dihasilkan sesuai dengan yang diminta\n",
        "  while len(user_ids) < num_users:\n",
        "\n",
        "      # Menghasilkan nilai random yang merupakan acak dari ascii dan string digits.\n",
        "      new_id = ''.join(random.choices(string.ascii_uppercase + string.digits, k=10))\n",
        "\n",
        "      if new_id not in user_ids:\n",
        "        user_ids.append(new_id)\n",
        "\n",
        "  return list(user_ids)"
      ],
      "metadata": {
        "id": "touArHHZbPRj"
      },
      "execution_count": 14,
      "outputs": []
    },
    {
      "cell_type": "code",
      "source": [
        "def generate_df_ab_test(n_days):\n",
        "\n",
        "    ## JANGAN UBAH BAGIAN KODE DARI SINI\n",
        "    np.random.seed(69)\n",
        "\n",
        "    daily_users = 499\n",
        "    n_origin = int(daily_users*n_days*np.random.uniform(0.98, 1.02))\n",
        "    n_varian = int(daily_users*n_days*np.random.uniform(0.98, 1.02))\n",
        "\n",
        "    data_origin = np.random.choice([0, 1], size=n_origin, p=[1-0.69, 0.69])\n",
        "    data_varian = np.random.choice([0, 1], size=n_varian, p=[1-0.73, 0.73])\n",
        "    ## HINGGA BAGIAN KODE INI\n",
        "\n",
        "    ## MULAI KODE DI SINI\n",
        "    total_users = n_origin + n_varian\n",
        "    user_ids = [f\"USER{i:06d}\" for i in range(total_users)]\n",
        "\n",
        "    origin_dict = {\n",
        "        \"user_id\": user_ids[:n_origin],\n",
        "        \"user_type\": [\"origin\"] * n_origin,\n",
        "        \"converted\": data_origin\n",
        "    }\n",
        "\n",
        "    varian_dict = {\n",
        "        \"user_id\": user_ids[n_origin:],\n",
        "        \"user_type\": [\"varian\"] * n_varian,\n",
        "        \"converted\": data_varian\n",
        "    }\n",
        "\n",
        "    origin_df = pd.DataFrame(origin_dict)\n",
        "    varian_df = pd.DataFrame(varian_dict)\n",
        "    ## AKHIRI KODE DI SINI\n",
        "\n",
        "    df_ab_test = pd.concat([origin_df, varian_df]).sample(frac=1).reset_index(drop=True)\n",
        "\n",
        "    return df_ab_test"
      ],
      "metadata": {
        "id": "UITTkjWWaa8S"
      },
      "execution_count": 18,
      "outputs": []
    },
    {
      "cell_type": "markdown",
      "source": [
        "Pada tahap ini, data telah berhasil dibuat. Untuk melihatnya lebih detail, mari lihat rata-rata `convertion_rate` pada masing-masing kelompok."
      ],
      "metadata": {
        "id": "aIIuJm5JztXf"
      }
    },
    {
      "cell_type": "code",
      "source": [
        "# Pengujian: Silakan gunakan cell ini untuk menguji fungsi yang Anda buat. Pastikan output-nya sesuai dengan yang diharapkan.\n",
        "\n",
        "df = generate_df_ab_test(n_days)\n",
        "\n",
        "origin_data = df[df[\"user_type\"]==\"origin\"][\"converted\"]\n",
        "varian_data = df[df[\"user_type\"]==\"varian\"][\"converted\"]\n",
        "\n",
        "print(f\"{len(origin_data)} pengguna melihat website asli dengan tingkat rasio konversi (converstion_rate) adalah {origin_data.mean():.4f}\")\n",
        "print(f\"{len(origin_data)} pengguna melihat website dengan fitur baru memiliki tingkat rasio konversi (converstion_rate) adalah {varian_data.mean():.4f}\")"
      ],
      "metadata": {
        "id": "b_lPt82BbkBu",
        "colab": {
          "base_uri": "https://localhost:8080/"
        },
        "outputId": "e83b3280-3d22-4b85-f589-6a0ccba45410"
      },
      "execution_count": 19,
      "outputs": [
        {
          "output_type": "stream",
          "name": "stdout",
          "text": [
            "3959 pengguna melihat website asli dengan tingkat rasio konversi (converstion_rate) adalah 0.6906\n",
            "3959 pengguna melihat website dengan fitur baru memiliki tingkat rasio konversi (converstion_rate) adalah 0.7191\n"
          ]
        }
      ]
    },
    {
      "cell_type": "markdown",
      "source": [
        "```\n",
        "3959 pengguna melihat website asli dengan tingkat rasio konversi (converstion_rate) adalah 0.6906\n",
        "3959 pengguna melihat website dengan fitur baru memiliki tingkat rasio konversi (converstion_rate) adalah 0.7191\n",
        "```"
      ],
      "metadata": {
        "id": "QO6xIznUym2-"
      }
    },
    {
      "cell_type": "markdown",
      "source": [
        "Sekilas, kita dapat melihat bahwa pembagian pengguna antar kelompok dilakukan secara merata. Selain itu, kelompok varian (yaitu pengguna yang mencoba fitur baru) menunjukkan rasio konversi yang lebih tinggi dibandingkan kelompok kontrol.\n",
        "\n",
        "Temuan ini mengindikasikan bahwa pengguna dalam kelompok varian kemungkinan lebih berhasil engage dengan website dibandingkan mereka yang menggunakan versi tanpa fitur baru. Namun demikian, kita tahu bahwa rata-rata saja belum cukup untuk menarik kesimpulan yang valid secara statistik.\n",
        "\n",
        "Untuk memastikan bahwa perbedaan tersebut benar-benar signifikan, Anda perlu melakukan pengujian hipotesis. Karena yang dibandingkan adalah proporsi keberhasilan antar dua kelompok, Anda dapat menggunakan z-test untuk proporsi sebagai metode pengujian.\n",
        "\n",
        "Berikut adalah rumus yang akan digunakan (Ini adalah rumus z test untuk dua proporsi).\n",
        "$$ z = \\frac{\\hat{p}_1 - \\hat{p}_2}{\\sqrt{\\hat{p}(1-\\hat{p})\\left(\\frac{1}{n_1} + \\frac{1}{n_2}\\right)}}$$\n",
        "\n",
        "Dengan $\\hat{p}$ adalah *proporsi gabungan*: $\\hat{p} = \\frac{x_1 + x_2}{n_1 + n_2}$\n",
        "\n",
        "Pada tugas-tugas selanjutnya, kita akan berfokus pada rumus-rumus tersebut. Mari kita mulai dengan menyiapkan metrik untuk rumus tersebut.\n",
        "\n",
        "---\n",
        "Di bawah ini, kita akan menyimpan nilai-nilai variabel x, n, dan p dalam `dataclass`.\n",
        "Jangan khawatir jika Anda belum familier dengan fungsi ini. dataclass adalah decorator pada Python (dikenalkan sejak Python 3.7) yang secara otomatis menambahkan *boilerplate code* dalam sebuah class untuk menyimpan data.\n",
        "\n",
        "Contohnya, Anda memiliki class berikut.\n",
        "\n",
        "```\n",
        "@dataclass\n",
        "class my_course:\n",
        "  course_id: int\n",
        "  course_name: string\n",
        "\n",
        "foo = my_course(course_name='Dicoding')\n",
        "```\n",
        "\n",
        "Anda dapat mengakses informasi `course_name` dari `foo` melalui sintaks `foo.course_name` yang akan mengembalikan string \"Dicoding\".\n",
        "\n",
        "\n",
        "> Mengapa menggunakan dataclass? Anda perlu menyimpan parameter distribusi untuk setiap fitur. Misalnya, untuk weight dan height, diperlukan parameter μ dan σ. Jika dibuat terpisah, seperti miu_weight, sigma_weight, miu_height, sigma_height, akan tidak efektif karena terlalu panjang dan beragam.\n",
        "\n",
        "__repr__ adalah method yang digunakan untuk menampilkan objek saat Anda print.\n",
        "\n",
        "Tanpa `__repr__`:\n",
        "```\n",
        "<my_class object at 0x7f9f3b4d>\n",
        "```\n",
        "\n",
        "Dengan `__repr__`:\n",
        "```\n",
        "my_class(a='Dicoding')\n",
        "```"
      ],
      "metadata": {
        "id": "7xr5zUY50wMo"
      }
    },
    {
      "cell_type": "code",
      "source": [
        "@dataclass\n",
        "class metrics_estimation:\n",
        "    n: int\n",
        "    x: int\n",
        "    p: float\n",
        "\n",
        "    def __repr__(self):\n",
        "        return f\"sample_params(n={self.n}, x={self.x}, p={self.p:.3f})\""
      ],
      "metadata": {
        "id": "tbKyVsw7cXUz"
      },
      "execution_count": 20,
      "outputs": []
    },
    {
      "cell_type": "markdown",
      "source": [
        "# Tugas 3: Menghitung Metrik untuk Z-Test\n",
        "\n",
        "Setelah variabel disiapkan, silakan lengkapi fungsi di bawah ini untuk menghitung nilai z-test berdasarkan rumus yang disebutkan sebelumnya.\n",
        "\n",
        "Anda hanya perlu menghitung untuk masing-masing nilai berikut.\n",
        "\n",
        "*   n: Banyaknya pengguna dalam data.\n",
        "*   x: Banyaknya pengguna yang berhasil dikonversi dalam data.\n",
        "*   p: Rasio konversi (conversion rate).\n",
        "\n",
        "\n",
        "<details>\n",
        "<summary>\n",
        "<font color='yellow'>PETUNJUK!</font>\n",
        "</summary>\n",
        "- Fungsi ini menerima data dalam bentuk Pandas Series. Anda dapat memanfaatkan fungsi-fungsi, seperti .sum() untuk jumlah atau /mean() untuk rata-rata."
      ],
      "metadata": {
        "id": "0Cr9j3kX52pd"
      }
    },
    {
      "cell_type": "code",
      "source": [
        "def generate_proportion_metrics(data):\n",
        "  \"\"\"\n",
        "  Menghitung metrik relevan dari sampel untuk data, seperti proporsi.\n",
        "\n",
        "  Parameters:\n",
        "  - data (pandas.core.series.Series): Data Sampel.\n",
        "\n",
        "  Returns:\n",
        "  - metrics_estimation: Metrik yang disimpan sebagai objek class `estimation_metrics`.\n",
        "  \"\"\"\n",
        "\n",
        "\n",
        "  ## MULAI KODE DI SINI\n",
        "  # Hitung banyaknya data dalam sampel (n)\n",
        "  n = len(data)\n",
        "\n",
        "  # Hitung total keberhasilan (jumlah data bernilai 1)\n",
        "  x = data.sum()\n",
        "\n",
        "  # Hitung proporsi keberhasilan dari seluruh sampel (p)\n",
        "  p = data.mean()\n",
        "\n",
        "  # Simpan semua nilai tersebut dalam objek metrics_estimation\n",
        "  metrics = metrics_estimation(n=n, x=x, p=p)\n",
        "  ## AKHIRI KODE DI SINI\n",
        "\n",
        "  return metrics"
      ],
      "metadata": {
        "id": "4TiSKHs0d83d"
      },
      "execution_count": 22,
      "outputs": []
    },
    {
      "cell_type": "code",
      "source": [
        "# Pengujian: Silakan gunakan cell ini untuk menguji fungsi yang Anda buat. Pastikan output-nya sesuai dengan yang diharapkan.\n",
        "\n",
        "origin_metrics = generate_proportion_metrics(origin_data)\n",
        "print(f\"Kelompok origin: n={origin_metrics.n}, x={origin_metrics.x}, dan p={origin_metrics.p:.4f}\\n\")\n",
        "\n",
        "varian_metrics = generate_proportion_metrics(varian_data)\n",
        "print(f\"Kelompok varian: n={varian_metrics.n}, x={varian_metrics.x}, dan p={varian_metrics.p:.4f}\")"
      ],
      "metadata": {
        "id": "rx1ndExAd-fy",
        "colab": {
          "base_uri": "https://localhost:8080/"
        },
        "outputId": "33619308-c01b-42ad-c0b4-b223b6527ba2"
      },
      "execution_count": 23,
      "outputs": [
        {
          "output_type": "stream",
          "name": "stdout",
          "text": [
            "Kelompok origin: n=3959, x=2734, dan p=0.6906\n",
            "\n",
            "Kelompok varian: n=4041, x=2906, dan p=0.7191\n"
          ]
        }
      ]
    },
    {
      "cell_type": "markdown",
      "source": [
        "Output yang diharapkan\n",
        "```\n",
        "Kelompok origin: n=3959, x=2734, dan p=0.6906\n",
        "\n",
        "Kelompok varian: n=4041, x=2906, dan p=0.7191\n",
        "```"
      ],
      "metadata": {
        "id": "Kc_qXtbM93N5"
      }
    },
    {
      "cell_type": "markdown",
      "source": [
        "# Tugas 4: Menghitung Z-Test (Bagian: Proporsi Gabungan)\n",
        "\n",
        "Sampai tahap ini, Anda sudah menyiapkan setiap variabel yang akan digunakan dalam rumus. Mari ingat kembali rumus yang akan digunakan.\n",
        "\n",
        "$$ z = \\frac{\\hat{p}_1 - \\hat{p}_2}{\\sqrt{\\hat{p}(1-\\hat{p})\\left(\\frac{1}{n_1} + \\frac{1}{n_2}\\right)}}$$\n",
        "\n",
        "$\\hat{p}$ adalah *proporsi gabungan*.\n",
        "\n",
        "Untuk melakukan kalkulasi terhadap z-test, kita perlu melakukan perhitungan proporsi gabungan dengan rumus berikut.\n",
        "$$\\hat{p} = \\frac{x_1 + x_2}{n_1 + n_2}$$\n",
        "\n",
        "Mari lengkapi fungsi di bawah ini untuk menghitung proporsi gabungan berdasarkan rumus di atas."
      ],
      "metadata": {
        "id": "8VfBEWkt-S9N"
      }
    },
    {
      "cell_type": "code",
      "source": [
        "def compute_pooled_proportion(origin_metrics, varian_metrics):\n",
        "  \"\"\"\n",
        "  Menghitung proporsi gabungan dari dua sampel untuk analisis perbandingan proporsi.\n",
        "\n",
        "  Parameters:\n",
        "  - origin_metrics (metrics_estimation): Objek yang berisi metrik untuk z-test dari kelompok origin.\n",
        "  - varian_metrics (metrics_estimation): Objek yang berisi metrik untuk z-test dari kelompok varian.\n",
        "\n",
        "  Returns:\n",
        "  - pooled_proportions (numpy.float): Proporsi Gabungan. Anda menggunakan rumus z-test untuk dua proporsi untuk menyelesaikan studi kasus yang dihadapi. Dengan rumusnya di bawah ini.\n",
        "\n",
        "\n",
        "Nilai p^ adalah proporsi gabungan, apakah rumus untuk menghitung proporsi gabungan?\n",
        "\n",
        "  \"\"\"\n",
        "\n",
        "  ## MULAI KODE DI SINI\n",
        "  # Ambil variabel x dan n dari masing-masing kelompok.\n",
        "  x1, n1 = origin_metrics.x, origin_metrics.n\n",
        "  x2, n2 = varian_metrics.x, varian_metrics.n\n",
        "\n",
        "  # Hitung proporsi gabungan dengan rumus:\n",
        "  # p_hat = (x1 + x2) / (n1 + n2)\n",
        "  pooled_proportions = (x1 + x2) / (n1 + n2)\n",
        "\n",
        "  ## AKHIRI KODE DI SINI\n",
        "\n",
        "  return pooled_proportions"
      ],
      "metadata": {
        "id": "lzSs3NOMeA0c"
      },
      "execution_count": 24,
      "outputs": []
    },
    {
      "cell_type": "code",
      "source": [
        "# Pengujian: Silakan gunakan cell ini untuk menguji fungsi yang Anda buat. Pastikan output-nya sesuai dengan yang diharapkan.\n",
        "\n",
        "pp = compute_pooled_proportion(origin_metrics, varian_metrics)\n",
        "print(f\"Proporsi gabungan untuk data sampel AB Test: {pp:.4f}\")"
      ],
      "metadata": {
        "id": "IWd-O1ZX583s",
        "colab": {
          "base_uri": "https://localhost:8080/"
        },
        "outputId": "a726b090-7c80-41dc-e3b6-6fd0f095348c"
      },
      "execution_count": 25,
      "outputs": [
        {
          "output_type": "stream",
          "name": "stdout",
          "text": [
            "Proporsi gabungan untuk data sampel AB Test: 0.7050\n"
          ]
        }
      ]
    },
    {
      "cell_type": "markdown",
      "source": [
        "Output yang diharapkan\n",
        "```\n",
        "Proporsi gabungan untuk data sampel AB Test: 0.7050\n",
        "```"
      ],
      "metadata": {
        "id": "V_UNCwnaAz89"
      }
    },
    {
      "cell_type": "markdown",
      "source": [
        "# Tugas 5: Menghitung Z-Test (Bagian: Rumus Utama)\n",
        "\n",
        "Nilai untuk proporsi gabungan telah rampung dibuat! Tentunya, langkah berikutnya adalah menggunakan fungsi tersebut untuk rumus z-test yang disebutkan sebelumnya."
      ],
      "metadata": {
        "id": "v_S7aIpGA3kh"
      }
    },
    {
      "cell_type": "code",
      "source": [
        "def z_statistic_diff_proportions(origin_metrics, varian_metrics):\n",
        "  \"\"\"\n",
        "  Menghitung z-statistic untuk perbedaan kedua proporsi.\n",
        "\n",
        "  Parameters:\n",
        "  - origin_metrics (metrics_estimation): Metrik untuk sampel kelompok origin.\n",
        "  - varian_metrics (metrics_estimation): Metrik untuk sampel kelompok varian.\n",
        "\n",
        "  Returns:\n",
        "  - z (numpy.float): Nilai z-statistic\n",
        "  \"\"\"\n",
        "\n",
        "  ## MULAI KODE DI SINI\n",
        "  # Ambil nilai p1, p2, n1, n2 dari masing-masing kelompok\n",
        "  p1, n1 = origin_metrics.p, origin_metrics.n\n",
        "  p2, n2 = varian_metrics.p, varian_metrics.n\n",
        "\n",
        "  # Hitung proporsi gabungan (p_hat)\n",
        "  p_hat = compute_pooled_proportion(origin_metrics, varian_metrics)\n",
        "\n",
        "  # Hitung standar error (akar dari variansi)\n",
        "  std_error = np.sqrt(p_hat * (1 - p_hat) * ((1 / n1) + (1 / n2)))\n",
        "\n",
        "  # Hitung nilai z-statistic sesuai rumus\n",
        "  z = (p1 - p2) / std_error\n",
        "\n",
        "  ## AKHIRI KODE DI SINI\n",
        "\n",
        "  return z"
      ],
      "metadata": {
        "id": "hBtcT7vU6EoS"
      },
      "execution_count": 26,
      "outputs": []
    },
    {
      "cell_type": "code",
      "source": [
        "# Pengujian: Silakan gunakan cell ini untuk menguji fungsi yang Anda buat. Pastikan output-nya sesuai dengan yang diharapkan.\n",
        "\n",
        "z = z_statistic_diff_proportions(origin_metrics, varian_metrics)\n",
        "print(f\"Nilai z statistic untuk AB test adalah {z:.4f}\")"
      ],
      "metadata": {
        "id": "MnwKn_Ms6E_k",
        "colab": {
          "base_uri": "https://localhost:8080/"
        },
        "outputId": "0107c545-2992-4d90-d234-e7f7fdc60bbe"
      },
      "execution_count": 27,
      "outputs": [
        {
          "output_type": "stream",
          "name": "stdout",
          "text": [
            "Nilai z statistic untuk AB test adalah -2.7996\n"
          ]
        }
      ]
    },
    {
      "cell_type": "markdown",
      "source": [
        "Output yang diharapkan\n",
        "```\n",
        "Nilai z statistic untuk AB test adalah -2.7996\n",
        "```"
      ],
      "metadata": {
        "id": "gNlAQtsOJwPF"
      }
    },
    {
      "cell_type": "markdown",
      "source": [
        "# Tugas 6: Menolak/Menerima Hipotesis\n",
        "\n",
        "Setelah melakukan semua perhitungan z-statistic, sekarang saatnya menentukan jika hipotesis nol (null hypothesis) akan ditolak atau tidak.\n",
        "\n",
        "Untuk dapat menentukan hal tersebut, Anda perlu mencari nilai p-value berdasarkan nilai z-statistic dan tingkat signifikansi (alpha) yang ditentukan.\n",
        "\n",
        "Dalam konteks ini, p-value merepresentasikan probabilitas untuk memperoleh nilai z-statistic yang sama ekstremnya atau lebih ekstrem dibanding nilai yang diamati, jika hipotesis nol benar.\n",
        "\n",
        "Anda dapat menggunakan fungsi CDF (cumulative distribution function) dari distribusi normal untuk menghitung probabilitas bahwa nilai yang diperoleh kurang dari atau sama dengan nilai yang diamati.\n",
        "\n",
        "Oleh karena itu, p-value dihitung menggunakan rumus berikut.\n",
        "\n",
        "$$\n",
        "p = 2 \\times (1 - \\text{CDF}(|z|))\n",
        "$$\n",
        "\n",
        "<details> <summary><font color='yellow'>PETUNJUK</font></summary>\n",
        "\n",
        "* Anda dapat menggunakan fungsi stats.norm.cdf dari scipy.stats untuk menghitung p-value.\n",
        "\n",
        "* Gunakan nilai absolut dari z-statistic karena melakukan uji dua sisi (two-sided test) sehingga kita memperhitungkan kedua ekor distribusi.\n",
        "\n",
        "* Kalikan hasilnya dengan 2 untuk mencerminkan kedua sisi.\n",
        "\n",
        "* Jika p-value lebih kecil dari alpha, hipotesis nol ditolak.\n",
        "\n",
        "</details>"
      ],
      "metadata": {
        "id": "N4xYFK_bKQbb"
      }
    },
    {
      "cell_type": "code",
      "source": [
        "def reject_nh_z_statistic(z_statistic, alpha=0.05):\n",
        "  \"\"\"\n",
        "  Menentukan diterima atau ditolaknya hipotesis nol dalam z-test.\n",
        "\n",
        "  Parameters:\n",
        "  - z_statistics (float): Nilai z-statistik dari dua proporsi.\n",
        "  - alpha (float, opsional): Tingkat signifikansi yang digunakan. Nilai default adalah 0.05\n",
        "\n",
        "  Returns:\n",
        "  - reject (bool): Bernilai True jika hipotesis nol harus ditolak dan False jika tidak ditolak.\n",
        "\n",
        "  \"\"\"\n",
        "\n",
        "  reject = False\n",
        "\n",
        "  ## MULAI KODE DI SINI\n",
        "  # Hitung nilai p_value untuk uji dua sisi berdasarkan rumus yang dijelaskan sebelumnya.\n",
        "  # p = 2 × (1 - CDF(|z|))\n",
        "  p_value = 2 * (1 - stats.norm.cdf(abs(z_statistic)))\n",
        "\n",
        "  # Bandingkan nilai p_value dengan alpha. Jika p_value lebih kecil, tolak hipotesis nol.\n",
        "  if p_value < alpha:\n",
        "      reject = True\n",
        "  ## AKHIRI KODE DI SINI\n",
        "\n",
        "  return reject"
      ],
      "metadata": {
        "id": "4uxXBk3_6GYk"
      },
      "execution_count": 28,
      "outputs": []
    },
    {
      "cell_type": "code",
      "source": [
        "# Pengujian: Silakan gunakan cell ini untuk menguji fungsi yang Anda buat. Pastikan output-nya sesuai dengan yang diharapkan.\n",
        "\n",
        "alpha = 0.05\n",
        "tolak_nh = reject_nh_z_statistic(z, alpha)\n",
        "\n",
        "print(f\"Hipotesis nol {'' if tolak_nh else 'tidak '}dapat ditolak pada tingkat signifikansi {alpha:.2f}.\\n\")\n",
        "\n",
        "pesan = \"\" if tolak_nh else \"Tidak \"\n",
        "print(f\"{pesan}Ada cukup bukti statistik untuk menolak H0.\\n\"\n",
        "      f\"Dengan kata lain, dapat disimpulkan bahwa ada perbedaan yang {pesan}signifikan secara statistik antara kedua proporsi.\")"
      ],
      "metadata": {
        "id": "Mk4tD4FH6KvF",
        "colab": {
          "base_uri": "https://localhost:8080/"
        },
        "outputId": "bb79b177-0ca9-4f59-dc3c-d2e495890ba3"
      },
      "execution_count": 29,
      "outputs": [
        {
          "output_type": "stream",
          "name": "stdout",
          "text": [
            "Hipotesis nol dapat ditolak pada tingkat signifikansi 0.05.\n",
            "\n",
            "Ada cukup bukti statistik untuk menolak H0.\n",
            "Dengan kata lain, dapat disimpulkan bahwa ada perbedaan yang signifikan secara statistik antara kedua proporsi.\n"
          ]
        }
      ]
    },
    {
      "cell_type": "markdown",
      "source": [
        "Output yang diharapkan\n",
        "```\n",
        "Hipotesis nol dapat ditolak pada tingkat signifikansi 0.05.\n",
        "\n",
        "Ada cukup bukti statistik untuk menolak H0.\n",
        "Dengan kata lain, dapat disimpulkan bahwa ada perbedaan yang signifikan secara statistik antara kedua proporsi.\n",
        "```"
      ],
      "metadata": {
        "id": "nbF2ZdG3PUFY"
      }
    },
    {
      "cell_type": "markdown",
      "source": [
        "Hebat! Anda berhasil membuktikan bahwa ada perbedaan yang signifikan secara statistik antara kedua proporsi.\n",
        "\n",
        "Berdasarkan temuan ini, Anda dapat menyimpulkan bahwa fitur baru yang dikembangkan berhasil meningkatkan conversion rate pengguna. Oleh karena itu, Anda dapat merekomendasikan kepada tim pengembang perangkat lunak untuk menerapkan fitur tersebut ke seluruh pengguna aplikasi."
      ],
      "metadata": {
        "id": "cQHj1LqwOmG1"
      }
    }
  ]
}